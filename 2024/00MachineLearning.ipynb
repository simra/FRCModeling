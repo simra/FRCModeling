{
 "cells": [
  {
   "cell_type": "markdown",
   "metadata": {},
   "source": [
    "## 2024TBA Predictions"
   ]
  },
  {
   "cell_type": "markdown",
   "metadata": {},
   "source": [
    "Load the training data into a pandas data frame.  "
   ]
  },
  {
   "cell_type": "code",
   "execution_count": 1,
   "metadata": {},
   "outputs": [
    {
     "name": "stdout",
     "output_type": "stream",
     "text": [
      "184 events\n"
     ]
    }
   ],
   "source": [
    "from __future__ import print_function\n",
    "import pickle\n",
    "#import time\n",
    "import sys\n",
    "sys.path.append('..')\n",
    "import swagger_client as v3client\n",
    "from swagger_client.rest import ApiException\n",
    "from featurization import addMatch, featurizeMatch, invertMatch, featurizeAlliances\n",
    "\n",
    "filename = 'matches_2024.pkl'\n",
    "matches = []\n",
    "with open(filename, 'rb') as f:\n",
    "    matches = pickle.load(f)\n",
    "\n",
    "print(f'{len(matches[\"matches\"])} events')"
   ]
  },
  {
   "cell_type": "markdown",
   "metadata": {},
   "source": [
    "Preview a match object"
   ]
  },
  {
   "cell_type": "code",
   "execution_count": 2,
   "metadata": {},
   "outputs": [
    {
     "name": "stdout",
     "output_type": "stream",
     "text": [
      "2725 matches\n"
     ]
    },
    {
     "data": {
      "text/plain": [
       "{'actual_time': 1709425394,\n",
       " 'alliances': {'blue': {'dq_team_keys': [],\n",
       "                        'score': 48,\n",
       "                        'surrogate_team_keys': [],\n",
       "                        'team_keys': ['frc1622', 'frc216', 'frc4421']},\n",
       "               'red': {'dq_team_keys': [],\n",
       "                       'score': 78,\n",
       "                       'surrogate_team_keys': [],\n",
       "                       'team_keys': ['frc359', 'frc4270', 'frc6902']}},\n",
       " 'comp_level': 'f',\n",
       " 'event_key': '2024bcvi',\n",
       " 'key': '2024bcvi_f1m1',\n",
       " 'match_number': 1,\n",
       " 'post_result_time': 1709425638,\n",
       " 'predicted_time': 1709425378,\n",
       " 'score_breakdown': {'blue': {'adjustPoints': 0,\n",
       "                              'autoAmpNoteCount': 0,\n",
       "                              'autoAmpNotePoints': 0,\n",
       "                              'autoLeavePoints': 2,\n",
       "                              'autoLineRobot1': 'No',\n",
       "                              'autoLineRobot2': 'No',\n",
       "                              'autoLineRobot3': 'Yes',\n",
       "                              'autoPoints': 17,\n",
       "                              'autoSpeakerNoteCount': 3,\n",
       "                              'autoSpeakerNotePoints': 15,\n",
       "                              'autoTotalNotePoints': 15,\n",
       "                              'coopNotePlayed': False,\n",
       "                              'coopertitionBonusAchieved': False,\n",
       "                              'coopertitionCriteriaMet': False,\n",
       "                              'endGameHarmonyPoints': 0,\n",
       "                              'endGameNoteInTrapPoints': 0,\n",
       "                              'endGameOnStagePoints': 3,\n",
       "                              'endGameParkPoints': 1,\n",
       "                              'endGameRobot1': 'None',\n",
       "                              'endGameRobot2': 'StageRight',\n",
       "                              'endGameRobot3': 'Parked',\n",
       "                              'endGameSpotLightBonusPoints': 1,\n",
       "                              'endGameTotalStagePoints': 5,\n",
       "                              'ensembleBonusAchieved': False,\n",
       "                              'ensembleBonusOnStageRobotsThreshold': 2,\n",
       "                              'ensembleBonusStagePointsThreshold': 10,\n",
       "                              'foulCount': 0,\n",
       "                              'foulPoints': 0,\n",
       "                              'g206Penalty': False,\n",
       "                              'g408Penalty': False,\n",
       "                              'g424Penalty': False,\n",
       "                              'melodyBonusAchieved': False,\n",
       "                              'melodyBonusThreshold': 18,\n",
       "                              'melodyBonusThresholdCoop': 15,\n",
       "                              'melodyBonusThresholdNonCoop': 18,\n",
       "                              'micCenterStage': False,\n",
       "                              'micStageLeft': False,\n",
       "                              'micStageRight': True,\n",
       "                              'rp': 0,\n",
       "                              'techFoulCount': 1,\n",
       "                              'teleopAmpNoteCount': 2,\n",
       "                              'teleopAmpNotePoints': 2,\n",
       "                              'teleopPoints': 31,\n",
       "                              'teleopSpeakerNoteAmplifiedCount': 2,\n",
       "                              'teleopSpeakerNoteAmplifiedPoints': 10,\n",
       "                              'teleopSpeakerNoteCount': 7,\n",
       "                              'teleopSpeakerNotePoints': 14,\n",
       "                              'teleopTotalNotePoints': 26,\n",
       "                              'totalPoints': 48,\n",
       "                              'trapCenterStage': False,\n",
       "                              'trapStageLeft': False,\n",
       "                              'trapStageRight': False},\n",
       "                     'red': {'adjustPoints': 0,\n",
       "                             'autoAmpNoteCount': 0,\n",
       "                             'autoAmpNotePoints': 0,\n",
       "                             'autoLeavePoints': 4,\n",
       "                             'autoLineRobot1': 'Yes',\n",
       "                             'autoLineRobot2': 'Yes',\n",
       "                             'autoLineRobot3': 'No',\n",
       "                             'autoPoints': 24,\n",
       "                             'autoSpeakerNoteCount': 4,\n",
       "                             'autoSpeakerNotePoints': 20,\n",
       "                             'autoTotalNotePoints': 20,\n",
       "                             'coopNotePlayed': False,\n",
       "                             'coopertitionBonusAchieved': False,\n",
       "                             'coopertitionCriteriaMet': False,\n",
       "                             'endGameHarmonyPoints': 0,\n",
       "                             'endGameNoteInTrapPoints': 5,\n",
       "                             'endGameOnStagePoints': 9,\n",
       "                             'endGameParkPoints': 0,\n",
       "                             'endGameRobot1': 'StageLeft',\n",
       "                             'endGameRobot2': 'StageRight',\n",
       "                             'endGameRobot3': 'CenterStage',\n",
       "                             'endGameSpotLightBonusPoints': 0,\n",
       "                             'endGameTotalStagePoints': 14,\n",
       "                             'ensembleBonusAchieved': False,\n",
       "                             'ensembleBonusOnStageRobotsThreshold': 2,\n",
       "                             'ensembleBonusStagePointsThreshold': 10,\n",
       "                             'foulCount': 0,\n",
       "                             'foulPoints': 5,\n",
       "                             'g206Penalty': False,\n",
       "                             'g408Penalty': False,\n",
       "                             'g424Penalty': False,\n",
       "                             'melodyBonusAchieved': False,\n",
       "                             'melodyBonusThreshold': 18,\n",
       "                             'melodyBonusThresholdCoop': 15,\n",
       "                             'melodyBonusThresholdNonCoop': 18,\n",
       "                             'micCenterStage': False,\n",
       "                             'micStageLeft': False,\n",
       "                             'micStageRight': False,\n",
       "                             'rp': 0,\n",
       "                             'techFoulCount': 0,\n",
       "                             'teleopAmpNoteCount': 6,\n",
       "                             'teleopAmpNotePoints': 6,\n",
       "                             'teleopPoints': 49,\n",
       "                             'teleopSpeakerNoteAmplifiedCount': 5,\n",
       "                             'teleopSpeakerNoteAmplifiedPoints': 25,\n",
       "                             'teleopSpeakerNoteCount': 2,\n",
       "                             'teleopSpeakerNotePoints': 4,\n",
       "                             'teleopTotalNotePoints': 35,\n",
       "                             'totalPoints': 78,\n",
       "                             'trapCenterStage': False,\n",
       "                             'trapStageLeft': False,\n",
       "                             'trapStageRight': True}},\n",
       " 'set_number': 1,\n",
       " 'time': 1709423640,\n",
       " 'videos': [{'key': 'swFtHa3QoNM', 'type': 'youtube'}],\n",
       " 'winning_alliance': 'red'}"
      ]
     },
     "execution_count": 2,
     "metadata": {},
     "output_type": "execute_result"
    }
   ],
   "source": [
    "non_empty = [k for k in matches['matches'].keys() if len(matches['matches'][k])>0]\n",
    "data = [m for k in matches['matches'] for m in matches['matches'][k]]\n",
    "data = [m for m in data if m.winning_alliance!='' and m.score_breakdown is not None]\n",
    "print(f'{len(data)} matches')\n",
    "data[0]\n",
    "#red = [x for m in data for x in m.alliances.red.team_keys]\n",
    "#blue = [x for m in data for x in m.alliances.blue.team_keys]\n",
    "#from collections import Counter\n",
    "#Counter(red+blue)"
   ]
  },
  {
   "cell_type": "code",
   "execution_count": null,
   "metadata": {},
   "outputs": [],
   "source": []
  },
  {
   "cell_type": "markdown",
   "metadata": {},
   "source": [
    "List the fields in a single alliance match"
   ]
  },
  {
   "cell_type": "code",
   "execution_count": 3,
   "metadata": {},
   "outputs": [
    {
     "data": {
      "text/plain": [
       "['adjustPoints',\n",
       " 'autoAmpNoteCount',\n",
       " 'autoAmpNotePoints',\n",
       " 'autoLeavePoints',\n",
       " 'autoLineRobot1',\n",
       " 'autoLineRobot2',\n",
       " 'autoLineRobot3',\n",
       " 'autoPoints',\n",
       " 'autoSpeakerNoteCount',\n",
       " 'autoSpeakerNotePoints',\n",
       " 'autoTotalNotePoints',\n",
       " 'coopNotePlayed',\n",
       " 'coopertitionBonusAchieved',\n",
       " 'coopertitionCriteriaMet',\n",
       " 'endGameHarmonyPoints',\n",
       " 'endGameNoteInTrapPoints',\n",
       " 'endGameOnStagePoints',\n",
       " 'endGameParkPoints',\n",
       " 'endGameRobot1',\n",
       " 'endGameRobot2',\n",
       " 'endGameRobot3',\n",
       " 'endGameSpotLightBonusPoints',\n",
       " 'endGameTotalStagePoints',\n",
       " 'ensembleBonusAchieved',\n",
       " 'ensembleBonusOnStageRobotsThreshold',\n",
       " 'ensembleBonusStagePointsThreshold',\n",
       " 'foulCount',\n",
       " 'foulPoints',\n",
       " 'g206Penalty',\n",
       " 'g408Penalty',\n",
       " 'g424Penalty',\n",
       " 'melodyBonusAchieved',\n",
       " 'melodyBonusThreshold',\n",
       " 'melodyBonusThresholdCoop',\n",
       " 'melodyBonusThresholdNonCoop',\n",
       " 'micCenterStage',\n",
       " 'micStageLeft',\n",
       " 'micStageRight',\n",
       " 'rp',\n",
       " 'techFoulCount',\n",
       " 'teleopAmpNoteCount',\n",
       " 'teleopAmpNotePoints',\n",
       " 'teleopPoints',\n",
       " 'teleopSpeakerNoteAmplifiedCount',\n",
       " 'teleopSpeakerNoteAmplifiedPoints',\n",
       " 'teleopSpeakerNoteCount',\n",
       " 'teleopSpeakerNotePoints',\n",
       " 'teleopTotalNotePoints',\n",
       " 'totalPoints',\n",
       " 'trapCenterStage',\n",
       " 'trapStageLeft',\n",
       " 'trapStageRight']"
      ]
     },
     "execution_count": 3,
     "metadata": {},
     "output_type": "execute_result"
    }
   ],
   "source": [
    "list(data[0].score_breakdown['blue'].keys())\n"
   ]
  },
  {
   "cell_type": "markdown",
   "metadata": {},
   "source": [
    "This cell goes into more detail about what's in each field."
   ]
  },
  {
   "cell_type": "code",
   "execution_count": 4,
   "metadata": {},
   "outputs": [
    {
     "name": "stdout",
     "output_type": "stream",
     "text": [
      "adjustPoints\n",
      "autoAmpNoteCount\n",
      "autoAmpNotePoints\n",
      "autoLeavePoints\n",
      "autoLineRobot1.No\n",
      "autoLineRobot1.Yes\n",
      "autoLineRobot2.No\n",
      "autoLineRobot2.Yes\n",
      "autoLineRobot3.No\n",
      "autoLineRobot3.Yes\n",
      "autoPoints\n",
      "autoSpeakerNoteCount\n",
      "autoSpeakerNotePoints\n",
      "autoTotalNotePoints\n",
      "coopNotePlayed.False\n",
      "coopNotePlayed.True\n",
      "coopertitionBonusAchieved.False\n",
      "coopertitionBonusAchieved.True\n",
      "coopertitionCriteriaMet.False\n",
      "coopertitionCriteriaMet.True\n",
      "endGameHarmonyPoints\n",
      "endGameNoteInTrapPoints\n",
      "endGameOnStagePoints\n",
      "endGameParkPoints\n",
      "endGameRobot1.CenterStage\n",
      "endGameRobot1.None\n",
      "endGameRobot1.Parked\n",
      "endGameRobot1.StageLeft\n",
      "endGameRobot1.StageRight\n",
      "endGameRobot2.CenterStage\n",
      "endGameRobot2.None\n",
      "endGameRobot2.Parked\n",
      "endGameRobot2.StageLeft\n",
      "endGameRobot2.StageRight\n",
      "endGameRobot3.CenterStage\n",
      "endGameRobot3.None\n",
      "endGameRobot3.Parked\n",
      "endGameRobot3.StageLeft\n",
      "endGameRobot3.StageRight\n",
      "endGameSpotLightBonusPoints\n",
      "endGameTotalStagePoints\n",
      "ensembleBonusAchieved.False\n",
      "ensembleBonusAchieved.True\n",
      "ensembleBonusOnStageRobotsThreshold\n",
      "ensembleBonusStagePointsThreshold\n",
      "foulCount\n",
      "foulPoints\n",
      "g206Penalty.False\n",
      "g408Penalty.False\n",
      "g424Penalty.False\n",
      "g424Penalty.True\n",
      "melodyBonusAchieved.False\n",
      "melodyBonusAchieved.True\n",
      "melodyBonusThreshold\n",
      "melodyBonusThresholdCoop\n",
      "melodyBonusThresholdNonCoop\n",
      "micCenterStage.False\n",
      "micCenterStage.True\n",
      "micStageLeft.False\n",
      "micStageLeft.True\n",
      "micStageRight.False\n",
      "micStageRight.True\n",
      "rp\n",
      "techFoulCount\n",
      "teleopAmpNoteCount\n",
      "teleopAmpNotePoints\n",
      "teleopPoints\n",
      "teleopSpeakerNoteAmplifiedCount\n",
      "teleopSpeakerNoteAmplifiedPoints\n",
      "teleopSpeakerNoteCount\n",
      "teleopSpeakerNotePoints\n",
      "teleopTotalNotePoints\n",
      "totalPoints\n",
      "trapCenterStage.False\n",
      "trapCenterStage.True\n",
      "trapStageLeft.False\n",
      "trapStageLeft.True\n",
      "trapStageRight.False\n",
      "trapStageRight.True\n"
     ]
    }
   ],
   "source": [
    "#data[0].score_breakdown['blue'].keys()\n",
    "\n",
    "#endgameFields = Counter()\n",
    "#taxiFields = Counter()\n",
    "#for d in data:\n",
    "#   endgameFields[d.score_breakdown['blue']['endgameRobot1']]+=1\n",
    "#   endgameFields[d.score_breakdown['blue']['endgameRobot2']]+=1\n",
    "#   endgameFields[d.score_breakdown['blue']['endgameRobot3']]+=1\n",
    "#   taxiFields[d.score_breakdown['blue']['taxiRobot1']]+=1\n",
    "#   taxiFields[d.score_breakdown['blue']['taxiRobot2']]+=1\n",
    "#   taxiFields[d.score_breakdown['blue']['taxiRobot3']]+=1\n",
    "#print(endgameFields)\n",
    "#print(taxiFields)\n",
    "stats = set()\n",
    "for d in data:\n",
    "    for k in d.score_breakdown['blue']:\n",
    "        v = d.score_breakdown['blue'][k]\n",
    "        t = type(v)\n",
    "        if t is int:\n",
    "            stats.add(k)\n",
    "        elif t is bool or t is str:\n",
    "            stats.add(f'{k}.{str(v)}')\n",
    "        elif t is dict:\n",
    "            for k2 in v:\n",
    "                #if type(v[k2]) is list:\n",
    "                #    for v2 in v[k2]:\n",
    "                #        stats.add(f'{k}.{k2}.[{v2}]')\n",
    "                #else:\n",
    "                #stats.add(f'{k}.{k2}.{str(type(v[k2]))}')\n",
    "                stats.add(f'{k}.{k2}.{type(v[k2])}')\n",
    "        elif t is list:\n",
    "            stats.add(f'{k}.{str(t)}')\n",
    "            #for v2 in v:\n",
    "            #    stats.add(f'{k}.[{str(v2)}]')\n",
    "                \n",
    "for k in sorted(stats):\n",
    "    print(k)"
   ]
  },
  {
   "cell_type": "code",
   "execution_count": 5,
   "metadata": {},
   "outputs": [
    {
     "data": {
      "text/plain": [
       "Counter({'f': 69, 'qm': 2246, 'sf': 410})"
      ]
     },
     "execution_count": 5,
     "metadata": {},
     "output_type": "execute_result"
    }
   ],
   "source": [
    "from collections import Counter\n",
    "Counter([x.comp_level for x in data])"
   ]
  },
  {
   "cell_type": "markdown",
   "metadata": {},
   "source": [
    "As you can see there is a lot of information here.  We want to collect all of this together so that at the end of the regionals we have score statistics for every team.  We'll sum up all the integer and boolean values and average them over the team's matches.  Grid scores and other dictionary fields will get special treatment."
   ]
  },
  {
   "cell_type": "code",
   "execution_count": 6,
   "metadata": {},
   "outputs": [],
   "source": [
    "qualifiers = [x for x in data if x.comp_level=='qm' and x.score_breakdown is not None] "
   ]
  },
  {
   "cell_type": "code",
   "execution_count": 7,
   "metadata": {},
   "outputs": [],
   "source": [
    "# This will store all the team statistics\n",
    "teamAggregates = {}\n",
    "\n",
    "# Currently just using Week0 events.\n",
    "for m in qualifiers:\n",
    "    # only aggregate statistics for regional matches- skip the districts or we're cheating.\n",
    "    #if m.event_key=='2020pncmp':\n",
    "    #    continue\n",
    "    for t in m.alliances.red.team_keys:\n",
    "        addMatch(t, m, teamAggregates)\n",
    "    for t in m.alliances.blue.team_keys:\n",
    "        addMatch(t, m, teamAggregates)\n",
    "        \n",
    "# normalize the aggregates\n",
    "for t in teamAggregates:\n",
    "    for k in teamAggregates[t]:\n",
    "        if k=='totalMatches':\n",
    "            continue\n",
    "        teamAggregates[t][k]/=teamAggregates[t]['totalMatches']\n",
    "\n",
    "with open('teamStats_2024.pkl','wb') as f:\n",
    "    pickle.dump(teamAggregates,f)"
   ]
  },
  {
   "cell_type": "code",
   "execution_count": 8,
   "metadata": {},
   "outputs": [
    {
     "data": {
      "text/plain": [
       "{'totalMatches': 12,\n",
       " 'winCount': 0.3333333333333333,\n",
       " 'adjustPointsTotal': 0.0,\n",
       " 'autoAmpNoteCountTotal': 0.0,\n",
       " 'autoAmpNotePointsTotal': 0.0,\n",
       " 'autoLeavePointsTotal': 3.8333333333333335,\n",
       " 'autoPointsTotal': 15.083333333333334,\n",
       " 'autoSpeakerNoteCountTotal': 2.25,\n",
       " 'autoSpeakerNotePointsTotal': 11.25,\n",
       " 'autoTotalNotePointsTotal': 11.25,\n",
       " 'coopNotePlayedTotal': 0.5,\n",
       " 'coopertitionBonusAchievedTotal': 0.3333333333333333,\n",
       " 'coopertitionCriteriaMetTotal': 0.5,\n",
       " 'endGameHarmonyPointsTotal': 0.0,\n",
       " 'endGameNoteInTrapPointsTotal': 0.8333333333333334,\n",
       " 'endGameOnStagePointsTotal': 0.75,\n",
       " 'endGameParkPointsTotal': 1.6666666666666667,\n",
       " 'endGameSpotLightBonusPointsTotal': 0.0,\n",
       " 'endGameTotalStagePointsTotal': 3.25,\n",
       " 'ensembleBonusAchievedTotal': 0.08333333333333333,\n",
       " 'ensembleBonusOnStageRobotsThresholdTotal': 2.0,\n",
       " 'ensembleBonusStagePointsThresholdTotal': 10.0,\n",
       " 'foulCountTotal': 0.5,\n",
       " 'foulPointsTotal': 4.166666666666667,\n",
       " 'g206PenaltyTotal': 0.0,\n",
       " 'g408PenaltyTotal': 0.0,\n",
       " 'g424PenaltyTotal': 0.16666666666666666,\n",
       " 'melodyBonusAchievedTotal': 0.16666666666666666,\n",
       " 'melodyBonusThresholdTotal': 17.0,\n",
       " 'melodyBonusThresholdCoopTotal': 15.0,\n",
       " 'melodyBonusThresholdNonCoopTotal': 18.0,\n",
       " 'micCenterStageTotal': 0.0,\n",
       " 'micStageLeftTotal': 0.16666666666666666,\n",
       " 'micStageRightTotal': 0.08333333333333333,\n",
       " 'rpTotal': 0.9166666666666666,\n",
       " 'techFoulCountTotal': 1.5,\n",
       " 'teleopAmpNoteCountTotal': 2.75,\n",
       " 'teleopAmpNotePointsTotal': 2.75,\n",
       " 'teleopPointsTotal': 19.833333333333332,\n",
       " 'teleopSpeakerNoteAmplifiedCountTotal': 0.8333333333333334,\n",
       " 'teleopSpeakerNoteAmplifiedPointsTotal': 4.166666666666667,\n",
       " 'teleopSpeakerNoteCountTotal': 4.833333333333333,\n",
       " 'teleopSpeakerNotePointsTotal': 9.666666666666666,\n",
       " 'teleopTotalNotePointsTotal': 16.583333333333332,\n",
       " 'totalPointsTotal': 39.083333333333336,\n",
       " 'trapCenterStageTotal': 0.0,\n",
       " 'trapStageLeftTotal': 0.08333333333333333,\n",
       " 'trapStageRightTotal': 0.08333333333333333,\n",
       " 'autoLineRobot1YesTotal': 0.5833333333333334,\n",
       " 'autoLineRobot1NoTotal': 0.4166666666666667,\n",
       " 'endGameRobot1NoneTotal': 0.3333333333333333,\n",
       " 'endGameRobot1ParkedTotal': 0.6666666666666666,\n",
       " 'endGameRobot1CenterStageTotal': 0.0,\n",
       " 'endGameRobot1StageLeftTotal': 0.0,\n",
       " 'endGameRobot1StageRightTotal': 0.0,\n",
       " 'autoLineRobot2YesTotal': 0.75,\n",
       " 'autoLineRobot2NoTotal': 0.25,\n",
       " 'endGameRobot2NoneTotal': 0.3333333333333333,\n",
       " 'endGameRobot2ParkedTotal': 0.5,\n",
       " 'endGameRobot2CenterStageTotal': 0.0,\n",
       " 'endGameRobot2StageLeftTotal': 0.16666666666666666,\n",
       " 'endGameRobot2StageRightTotal': 0.0,\n",
       " 'autoLineRobot3YesTotal': 0.5833333333333334,\n",
       " 'autoLineRobot3NoTotal': 0.4166666666666667,\n",
       " 'endGameRobot3NoneTotal': 0.4166666666666667,\n",
       " 'endGameRobot3ParkedTotal': 0.5,\n",
       " 'endGameRobot3CenterStageTotal': 0.0,\n",
       " 'endGameRobot3StageLeftTotal': 0.0,\n",
       " 'endGameRobot3StageRightTotal': 0.08333333333333333}"
      ]
     },
     "execution_count": 8,
     "metadata": {},
     "output_type": "execute_result"
    }
   ],
   "source": [
    "teamAggregates['frc4319']"
   ]
  },
  {
   "cell_type": "markdown",
   "metadata": {},
   "source": [
    "Now we have statistics for every team.  We can use this to generate features for every match."
   ]
  },
  {
   "cell_type": "code",
   "execution_count": 9,
   "metadata": {},
   "outputs": [
    {
     "data": {
      "text/plain": [
       "{'red_missingCount': 0,\n",
       " 'blue_missingCount': 0,\n",
       " 'red_totalMatches': 11.333333333333334,\n",
       " 'red_winCount': 0.8333333333333334,\n",
       " 'red_adjustPointsTotal': 0.0,\n",
       " 'red_autoAmpNoteCountTotal': 0.030303030303030304,\n",
       " 'red_autoAmpNotePointsTotal': 0.06060606060606061,\n",
       " 'red_autoLeavePointsTotal': 3.9444444444444446,\n",
       " 'red_autoPointsTotal': 15.343434343434344,\n",
       " 'red_autoSpeakerNoteCountTotal': 2.2676767676767677,\n",
       " 'red_autoSpeakerNotePointsTotal': 11.33838383838384,\n",
       " 'red_autoTotalNotePointsTotal': 11.398989898989901,\n",
       " 'red_coopNotePlayedTotal': 0.5707070707070707,\n",
       " 'red_coopertitionBonusAchievedTotal': 0.3888888888888889,\n",
       " 'red_coopertitionCriteriaMetTotal': 0.5707070707070707,\n",
       " 'red_endGameHarmonyPointsTotal': 0.05555555555555555,\n",
       " 'red_endGameNoteInTrapPointsTotal': 1.1994949494949496,\n",
       " 'red_endGameOnStagePointsTotal': 3.893939393939394,\n",
       " 'red_endGameParkPointsTotal': 1.1186868686868685,\n",
       " 'red_endGameSpotLightBonusPointsTotal': 0.14646464646464644,\n",
       " 'red_endGameTotalStagePointsTotal': 6.414141414141414,\n",
       " 'red_ensembleBonusAchievedTotal': 0.17929292929292928,\n",
       " 'red_ensembleBonusOnStageRobotsThresholdTotal': 2.0,\n",
       " 'red_ensembleBonusStagePointsThresholdTotal': 10.0,\n",
       " 'red_foulCountTotal': 0.2626262626262626,\n",
       " 'red_foulPointsTotal': 7.358585858585859,\n",
       " 'red_g206PenaltyTotal': 0.0,\n",
       " 'red_g408PenaltyTotal': 0.0,\n",
       " 'red_g424PenaltyTotal': 0.030303030303030304,\n",
       " 'red_melodyBonusAchievedTotal': 0.29797979797979796,\n",
       " 'red_melodyBonusThresholdTotal': 16.833333333333332,\n",
       " 'red_melodyBonusThresholdCoopTotal': 15.0,\n",
       " 'red_melodyBonusThresholdNonCoopTotal': 18.0,\n",
       " 'red_micCenterStageTotal': 0.027777777777777776,\n",
       " 'red_micStageLeftTotal': 0.030303030303030304,\n",
       " 'red_micStageRightTotal': 0.11616161616161617,\n",
       " 'red_rpTotal': 2.143939393939394,\n",
       " 'red_techFoulCountTotal': 0.3813131313131313,\n",
       " 'red_teleopAmpNoteCountTotal': 3.285353535353536,\n",
       " 'red_teleopAmpNotePointsTotal': 3.285353535353536,\n",
       " 'red_teleopPointsTotal': 28.098484848484848,\n",
       " 'red_teleopSpeakerNoteAmplifiedCountTotal': 1.7929292929292926,\n",
       " 'red_teleopSpeakerNoteAmplifiedPointsTotal': 8.964646464646465,\n",
       " 'red_teleopSpeakerNoteCountTotal': 4.717171717171717,\n",
       " 'red_teleopSpeakerNotePointsTotal': 9.434343434343434,\n",
       " 'red_teleopTotalNotePointsTotal': 21.684343434343436,\n",
       " 'red_totalPointsTotal': 50.80050505050505,\n",
       " 'red_trapCenterStageTotal': 0.0,\n",
       " 'red_trapStageLeftTotal': 0.14898989898989898,\n",
       " 'red_trapStageRightTotal': 0.0909090909090909,\n",
       " 'red_autoLineRobot1YesTotal': 0.7929292929292929,\n",
       " 'red_autoLineRobot1NoTotal': 0.20707070707070707,\n",
       " 'red_endGameRobot1NoneTotal': 0.14646464646464644,\n",
       " 'red_endGameRobot1ParkedTotal': 0.4116161616161616,\n",
       " 'red_endGameRobot1CenterStageTotal': 0.08585858585858586,\n",
       " 'red_endGameRobot1StageLeftTotal': 0.356060606060606,\n",
       " 'red_endGameRobot1StageRightTotal': 0.0,\n",
       " 'red_autoLineRobot2YesTotal': 0.6540404040404041,\n",
       " 'red_autoLineRobot2NoTotal': 0.345959595959596,\n",
       " 'red_endGameRobot2NoneTotal': 0.2626262626262626,\n",
       " 'red_endGameRobot2ParkedTotal': 0.2929292929292929,\n",
       " 'red_endGameRobot2CenterStageTotal': 0.0,\n",
       " 'red_endGameRobot2StageLeftTotal': 0.17676767676767677,\n",
       " 'red_endGameRobot2StageRightTotal': 0.2676767676767677,\n",
       " 'red_autoLineRobot3YesTotal': 0.5252525252525252,\n",
       " 'red_autoLineRobot3NoTotal': 0.4747474747474747,\n",
       " 'red_endGameRobot3NoneTotal': 0.17424242424242423,\n",
       " 'red_endGameRobot3ParkedTotal': 0.41414141414141414,\n",
       " 'red_endGameRobot3CenterStageTotal': 0.027777777777777776,\n",
       " 'red_endGameRobot3StageLeftTotal': 0.0,\n",
       " 'red_endGameRobot3StageRightTotal': 0.3838383838383838,\n",
       " 'blue_totalMatches': 12.0,\n",
       " 'blue_winCount': 0.5833333333333334,\n",
       " 'blue_adjustPointsTotal': 0.0,\n",
       " 'blue_autoAmpNoteCountTotal': 0.027777777777777776,\n",
       " 'blue_autoAmpNotePointsTotal': 0.05555555555555555,\n",
       " 'blue_autoLeavePointsTotal': 3.611111111111111,\n",
       " 'blue_autoPointsTotal': 12.972222222222223,\n",
       " 'blue_autoSpeakerNoteCountTotal': 1.861111111111111,\n",
       " 'blue_autoSpeakerNotePointsTotal': 9.305555555555557,\n",
       " 'blue_autoTotalNotePointsTotal': 9.361111111111112,\n",
       " 'blue_coopNotePlayedTotal': 0.4166666666666667,\n",
       " 'blue_coopertitionBonusAchievedTotal': 0.27777777777777773,\n",
       " 'blue_coopertitionCriteriaMetTotal': 0.4166666666666667,\n",
       " 'blue_endGameHarmonyPointsTotal': 0.0,\n",
       " 'blue_endGameNoteInTrapPointsTotal': 0.2777777777777778,\n",
       " 'blue_endGameOnStagePointsTotal': 2.75,\n",
       " 'blue_endGameParkPointsTotal': 1.1944444444444444,\n",
       " 'blue_endGameSpotLightBonusPointsTotal': 0.1111111111111111,\n",
       " 'blue_endGameTotalStagePointsTotal': 4.333333333333333,\n",
       " 'blue_ensembleBonusAchievedTotal': 0.05555555555555555,\n",
       " 'blue_ensembleBonusOnStageRobotsThresholdTotal': 2.0,\n",
       " 'blue_ensembleBonusStagePointsThresholdTotal': 10.0,\n",
       " 'blue_foulCountTotal': 0.4166666666666667,\n",
       " 'blue_foulPointsTotal': 5.472222222222222,\n",
       " 'blue_g206PenaltyTotal': 0.0,\n",
       " 'blue_g408PenaltyTotal': 0.0,\n",
       " 'blue_g424PenaltyTotal': 0.08333333333333333,\n",
       " 'blue_melodyBonusAchievedTotal': 0.13888888888888887,\n",
       " 'blue_melodyBonusThresholdTotal': 17.166666666666668,\n",
       " 'blue_melodyBonusThresholdCoopTotal': 15.0,\n",
       " 'blue_melodyBonusThresholdNonCoopTotal': 18.0,\n",
       " 'blue_micCenterStageTotal': 0.08333333333333333,\n",
       " 'blue_micStageLeftTotal': 0.08333333333333333,\n",
       " 'blue_micStageRightTotal': 0.1111111111111111,\n",
       " 'blue_rpTotal': 1.3611111111111114,\n",
       " 'blue_techFoulCountTotal': 1.388888888888889,\n",
       " 'blue_teleopAmpNoteCountTotal': 1.9166666666666667,\n",
       " 'blue_teleopAmpNotePointsTotal': 1.9166666666666667,\n",
       " 'blue_teleopPointsTotal': 23.305555555555557,\n",
       " 'blue_teleopSpeakerNoteAmplifiedCountTotal': 0.5555555555555555,\n",
       " 'blue_teleopSpeakerNoteAmplifiedPointsTotal': 2.777777777777778,\n",
       " 'blue_teleopSpeakerNoteCountTotal': 7.138888888888888,\n",
       " 'blue_teleopSpeakerNotePointsTotal': 14.277777777777777,\n",
       " 'blue_teleopTotalNotePointsTotal': 18.972222222222225,\n",
       " 'blue_totalPointsTotal': 41.75,\n",
       " 'blue_trapCenterStageTotal': 0.0,\n",
       " 'blue_trapStageLeftTotal': 0.0,\n",
       " 'blue_trapStageRightTotal': 0.05555555555555555,\n",
       " 'blue_autoLineRobot1YesTotal': 0.5277777777777778,\n",
       " 'blue_autoLineRobot1NoTotal': 0.47222222222222227,\n",
       " 'blue_endGameRobot1NoneTotal': 0.2777777777777778,\n",
       " 'blue_endGameRobot1ParkedTotal': 0.4166666666666667,\n",
       " 'blue_endGameRobot1CenterStageTotal': 0.05555555555555555,\n",
       " 'blue_endGameRobot1StageLeftTotal': 0.2222222222222222,\n",
       " 'blue_endGameRobot1StageRightTotal': 0.027777777777777776,\n",
       " 'blue_autoLineRobot2YesTotal': 0.6666666666666666,\n",
       " 'blue_autoLineRobot2NoTotal': 0.3333333333333333,\n",
       " 'blue_endGameRobot2NoneTotal': 0.27777777777777773,\n",
       " 'blue_endGameRobot2ParkedTotal': 0.3611111111111111,\n",
       " 'blue_endGameRobot2CenterStageTotal': 0.05555555555555555,\n",
       " 'blue_endGameRobot2StageLeftTotal': 0.13888888888888887,\n",
       " 'blue_endGameRobot2StageRightTotal': 0.16666666666666666,\n",
       " 'blue_autoLineRobot3YesTotal': 0.611111111111111,\n",
       " 'blue_autoLineRobot3NoTotal': 0.3888888888888889,\n",
       " 'blue_endGameRobot3NoneTotal': 0.3333333333333333,\n",
       " 'blue_endGameRobot3ParkedTotal': 0.4166666666666667,\n",
       " 'blue_endGameRobot3CenterStageTotal': 0.027777777777777776,\n",
       " 'blue_endGameRobot3StageLeftTotal': 0.0,\n",
       " 'blue_endGameRobot3StageRightTotal': 0.2222222222222222,\n",
       " 'event': '2024bcvi',\n",
       " 'comp_level': 'f',\n",
       " 'label': 1}"
      ]
     },
     "execution_count": 9,
     "metadata": {},
     "output_type": "execute_result"
    }
   ],
   "source": [
    "\n",
    "features = []\n",
    "\n",
    "for m in data:\n",
    "    f = featurizeMatch(m, teamAggregates)\n",
    "    features.append(f)\n",
    "    # Optionally invert the red/blue alliances and add this match as well, since it should be symmetric\n",
    "    features.append(invertMatch(f))\n",
    "    \n",
    "features[0]"
   ]
  },
  {
   "cell_type": "code",
   "execution_count": 10,
   "metadata": {},
   "outputs": [
    {
     "name": "stdout",
     "output_type": "stream",
     "text": [
      "4492 training examples and 958 test\n"
     ]
    }
   ],
   "source": [
    "from sklearn.feature_extraction import DictVectorizer\n",
    "# create train and test sets\n",
    "train = []\n",
    "trainY = []\n",
    "test = []\n",
    "testY = []\n",
    "\n",
    "for m in features:    \n",
    "    if 'event' not in m:\n",
    "        print(m)\n",
    "    event = m['event']\n",
    "    comp_level = m['comp_level']\n",
    "    del m['event']\n",
    "    del m['comp_level']\n",
    "    \n",
    "    label = m['label']\n",
    "    del m['label']\n",
    "    \n",
    "    #if event == '2019pncmp':\n",
    "    if comp_level!='qm':\n",
    "        test.append(m)\n",
    "        testY.append(label)\n",
    "    else:\n",
    "        train.append(m)\n",
    "        trainY.append(label)\n",
    "        \n",
    "vectorizer = DictVectorizer()\n",
    "trainX = vectorizer.fit_transform(train)\n",
    "testX = vectorizer.transform(test)\n",
    "\n",
    "print('{} training examples and {} test'.format(len(train),len(test)))\n"
   ]
  },
  {
   "cell_type": "code",
   "execution_count": 11,
   "metadata": {},
   "outputs": [
    {
     "name": "stdout",
     "output_type": "stream",
     "text": [
      "accuracy: 0.6962421711899791\n"
     ]
    }
   ],
   "source": [
    "from sklearn.ensemble import RandomForestClassifier\n",
    "classifier = RandomForestClassifier(n_estimators=100, random_state=0, min_samples_split=3)  \n",
    "classifier.fit(trainX,trainY)\n",
    "forest_predictions= classifier.predict(testX)\n",
    "forest_scores = classifier.predict_proba(testX)\n",
    "import numpy as np\n",
    "from sklearn.metrics import accuracy_score\n",
    "#np.sum(np.abs(scores-Ytest))\n",
    "print('accuracy: {}'.format(accuracy_score(testY, forest_predictions)))\n",
    "#list(zip(forest_scores[:,1],testY))\n",
    "\n",
    "# Save the model\n",
    "model_fn = 'model_2024_forest.pkl'\n",
    "with open(model_fn, 'wb') as outF:\n",
    "    pickle.dump((vectorizer,classifier), outF)\n"
   ]
  },
  {
   "cell_type": "markdown",
   "metadata": {},
   "source": [
    "Let's look at the feature importances. They tell us how useful a specific feature is."
   ]
  },
  {
   "cell_type": "code",
   "execution_count": 12,
   "metadata": {},
   "outputs": [
    {
     "name": "stdout",
     "output_type": "stream",
     "text": [
      "Feature ranking:\n"
     ]
    },
    {
     "data": {
      "image/png": "[encoded data removed]",
      "text/plain": [
       "<Figure size 1440x720 with 1 Axes>"
      ]
     },
     "metadata": {
      "needs_background": "light"
     },
     "output_type": "display_data"
    }
   ],
   "source": [
    "topN = 20\n",
    "importances = classifier.feature_importances_\n",
    "std = np.std([tree.feature_importances_ for tree in classifier.estimators_],\n",
    "             axis=0)\n",
    "indices = np.argsort(importances)[::-1][:topN]\n",
    "names = vectorizer.feature_names_\n",
    "\n",
    "# Print the feature ranking\n",
    "print(\"Feature ranking:\")\n",
    "\n",
    "#for f in range(trainX.shape[1]):\n",
    "#    print(\"%d. %s (%f)\" % (f + 1, names[indices[f]], importances[indices[f]]))\n",
    "colors = [names[f].split('_')[0] for f in indices]\n",
    "labels = [names[f].replace('Count','').replace('Points','').replace('red','r').replace('blue','b') for f in indices]\n",
    "# Plot the feature importances of the forest\n",
    "%matplotlib inline\n",
    "import matplotlib.pyplot as plt\n",
    "plt.rcParams[\"figure.figsize\"] = (20, 10)\n",
    "plt.figure()\n",
    "plt.title(\"Feature importances\")\n",
    "#plt.bar(range(trainX.shape[1]), importances[indices],\n",
    "plt.bar(range(len(indices)), importances[indices],\n",
    "       color=colors, \n",
    "        #yerr=std[indices], \n",
    "        align=\"center\")\n",
    "plt.xticks(range(len(indices)), labels, rotation='vertical', fontsize='large')\n",
    "    \n",
    "plt.xlim([-1, len(indices)])\n",
    "plt.subplots_adjust(bottom=0.5)\n",
    "#plt.legend()\n",
    "plt.show()"
   ]
  },
  {
   "cell_type": "code",
   "execution_count": 13,
   "metadata": {},
   "outputs": [],
   "source": [
    "def percentile(dictionary, key):\n",
    "    teams = [t for t in dictionary]\n",
    "    values = [dictionary[t][key] for t in dictionary]\n",
    "    ranks = sorted(range(len(values)), key=lambda x: values[x])\n",
    "    return dict([(teams[ranks[i]], i*100/len(values)) for i in range(len(ranks))])    \n",
    "\n",
    "raw = dict([(k, percentile(teamAggregates,k)) for k in teamAggregates['frc4319']])\n",
    "#stats = dict([(k,percentile(teamAggregates,k)['frc1153']) for k in teamAggregates['frc1153']])"
   ]
  },
  {
   "cell_type": "markdown",
   "metadata": {},
   "source": [
    "The next cell enables comparisons between two teams."
   ]
  },
  {
   "cell_type": "code",
   "execution_count": 14,
   "metadata": {},
   "outputs": [
    {
     "data": {
      "image/png": "[encoded data removed]",
      "text/plain": [
       "<Figure size 1440x720 with 1 Axes>"
      ]
     },
     "metadata": {
      "needs_background": "light"
     },
     "output_type": "display_data"
    }
   ],
   "source": [
    "import matplotlib.pyplot as plt\n",
    "import numpy as np\n",
    "\n",
    "objects = [k for k in raw]\n",
    "y_pos = np.arange(len(objects))\n",
    "#performance = [[raw[k]['frc492'],raw[k]['frc2910']] for k in stats]\n",
    "#performance\n",
    "t1 = 'frc1153'\n",
    "t2 = 'frc238'\n",
    "plt.figure()\n",
    "plt.bar(y_pos, [raw[k][t1] for k in raw], alpha=0.5, width=0.25)\n",
    "plt.bar(y_pos+0.25, [raw[k][t2] for k in raw], alpha=0.5, width=0.25)\n",
    "plt.xticks(y_pos, objects, rotation=90, fontsize='x-small')\n",
    "plt.subplots_adjust(bottom=0.5)\n",
    "plt.ylabel('Percentile')\n",
    "plt.title('Stats summary')\n",
    "plt.legend([t1,t2])\n",
    "\n",
    "plt.show()\n"
   ]
  },
  {
   "cell_type": "markdown",
   "metadata": {},
   "source": [
    "## Let's also try logistic regression."
   ]
  },
  {
   "cell_type": "code",
   "execution_count": 15,
   "metadata": {},
   "outputs": [
    {
     "data": {
      "text/plain": [
       "0.6784968684759917"
      ]
     },
     "execution_count": 15,
     "metadata": {},
     "output_type": "execute_result"
    }
   ],
   "source": [
    "from sklearn.linear_model import LogisticRegression\n",
    "classifier = LogisticRegression(random_state=0, solver='lbfgs', multi_class='multinomial', max_iter=10000)\n",
    "classifier.fit(trainX,trainY)\n",
    "lr_predictions= classifier.predict(testX)\n",
    "accuracy_score(testY, lr_predictions)"
   ]
  },
  {
   "cell_type": "code",
   "execution_count": 16,
   "metadata": {},
   "outputs": [
    {
     "name": "stdout",
     "output_type": "stream",
     "text": [
      "Feature ranking:\n"
     ]
    },
    {
     "data": {
      "image/png": "[encoded data removed]",
      "text/plain": [
       "<Figure size 1440x720 with 1 Axes>"
      ]
     },
     "metadata": {
      "needs_background": "light"
     },
     "output_type": "display_data"
    }
   ],
   "source": [
    "importances = classifier.coef_[0]\n",
    "#std = np.std([tree.feature_importances_ for tree in classifier.estimators_],\n",
    "#             axis=0)\n",
    "indices = np.argsort(importances)[::-1]\n",
    "names = vectorizer.feature_names_\n",
    "\n",
    "# Print the feature ranking\n",
    "print(\"Feature ranking:\")\n",
    "\n",
    "#for f in range(trainX.shape[1]):\n",
    "#    print(\"%d. %s (%f)\" % (f + 1, names[indices[f]], importances[indices[f]]))\n",
    "colors = [names[indices[f]].split('_')[0] for f in range(trainX.shape[1])]\n",
    "labels = [names[indices[f]].replace('Count','').replace('Points','').replace('red','r').replace('blue','b') for f in range(trainX.shape[1])]\n",
    "# Plot the feature importances of the forest\n",
    "%matplotlib inline\n",
    "import matplotlib.pyplot as plt\n",
    "plt.rcParams[\"figure.figsize\"] = (20, 10)\n",
    "plt.figure()\n",
    "plt.title(\"Feature importances\")\n",
    "plt.bar(range(trainX.shape[1]), importances[indices],\n",
    "       color=colors, \n",
    "        #yerr=std[indices], \n",
    "        align=\"center\")\n",
    "plt.xticks(range(trainX.shape[1]), labels, rotation='vertical', fontsize='x-small')\n",
    "    \n",
    "plt.xlim([-1, trainX.shape[1]])\n",
    "plt.subplots_adjust(bottom=0.5)\n",
    "#plt.legend()\n",
    "plt.show()"
   ]
  },
  {
   "cell_type": "markdown",
   "metadata": {},
   "source": [
    "## Linear Regression"
   ]
  },
  {
   "cell_type": "code",
   "execution_count": 17,
   "metadata": {},
   "outputs": [
    {
     "data": {
      "text/plain": [
       "0.6617954070981211"
      ]
     },
     "execution_count": 17,
     "metadata": {},
     "output_type": "execute_result"
    }
   ],
   "source": [
    "from sklearn.linear_model import RidgeClassifier\n",
    "classifier = RidgeClassifier()\n",
    "classifier.fit(trainX,trainY)\n",
    "predictions= classifier.predict(testX)\n",
    "accuracy_score(testY, predictions)"
   ]
  },
  {
   "cell_type": "markdown",
   "metadata": {},
   "source": [
    "So far our best score at predicting the districts is 0.704 using RandomForests.  Next time we can explore hyperparameter tuning and also predicting which alliances would have been the best ones for us to join."
   ]
  },
  {
   "cell_type": "markdown",
   "metadata": {},
   "source": [
    "Next steps: for a given event we want to decide how to prioritize alliance choices.  Suppose we have all the data to date, as well as all the qualifier data for the event. Who should we choose as partners?"
   ]
  },
  {
   "cell_type": "code",
   "execution_count": 18,
   "metadata": {},
   "outputs": [
    {
     "ename": "KeyError",
     "evalue": "'2023wasno'",
     "output_type": "error",
     "traceback": [
      "\u001b[1;31m---------------------------------------------------------------------------\u001b[0m",
      "\u001b[1;31mKeyError\u001b[0m                                  Traceback (most recent call last)",
      "\u001b[1;32m<ipython-input-18-a52ef0a6a018>\u001b[0m in \u001b[0;36m<module>\u001b[1;34m\u001b[0m\n\u001b[0;32m      5\u001b[0m \u001b[0mevent\u001b[0m \u001b[1;33m=\u001b[0m \u001b[1;34m'2023wasno'\u001b[0m\u001b[1;33m\u001b[0m\u001b[1;33m\u001b[0m\u001b[0m\n\u001b[0;32m      6\u001b[0m teams = set([t for x in \\\n\u001b[1;32m----> 7\u001b[1;33m     \u001b[1;33m[\u001b[0m\u001b[0mm\u001b[0m\u001b[1;33m.\u001b[0m\u001b[0malliances\u001b[0m\u001b[1;33m.\u001b[0m\u001b[0mred\u001b[0m\u001b[1;33m.\u001b[0m\u001b[0mteam_keys\u001b[0m \u001b[1;33m+\u001b[0m \u001b[0mm\u001b[0m\u001b[1;33m.\u001b[0m\u001b[0malliances\u001b[0m\u001b[1;33m.\u001b[0m\u001b[0mblue\u001b[0m\u001b[1;33m.\u001b[0m\u001b[0mteam_keys\u001b[0m \u001b[1;32mfor\u001b[0m \u001b[0mm\u001b[0m \u001b[1;32min\u001b[0m \u001b[0mmatches\u001b[0m\u001b[1;33m[\u001b[0m\u001b[1;34m'matches'\u001b[0m\u001b[1;33m]\u001b[0m\u001b[1;33m[\u001b[0m\u001b[0mevent\u001b[0m\u001b[1;33m]\u001b[0m\u001b[1;33m]\u001b[0m\u001b[0;31m \u001b[0m\u001b[0;31m\\\u001b[0m\u001b[1;33m\u001b[0m\u001b[1;33m\u001b[0m\u001b[0m\n\u001b[0m\u001b[0;32m      8\u001b[0m         for t in x])\n\u001b[0;32m      9\u001b[0m \u001b[1;33m\u001b[0m\u001b[0m\n",
      "\u001b[1;31mKeyError\u001b[0m: '2023wasno'"
     ]
    }
   ],
   "source": [
    "# optimize alliances for frc492 at wasno:\n",
    "import random\n",
    "from tqdm import tqdm\n",
    "\n",
    "event = '2023wasno'\n",
    "teams = set([t for x in \\\n",
    "    [m.alliances.red.team_keys + m.alliances.blue.team_keys for m in matches['matches'][event]] \\\n",
    "        for t in x])\n",
    "\n",
    "model_fn = 'model_2023_forest.pkl'\n",
    "with open(model_fn, 'rb') as inF:\n",
    "    vectorizer, model = pickle.load(inF)\n",
    "\n",
    "target = 'frc492'\n",
    "pairs = [(x,y) for x in teams if x!=target for y in teams if y!=target if x<y]\n",
    "results = {}\n",
    "features = []\n",
    "alliances = []\n",
    "for (x,y) in tqdm(pairs):\n",
    "    red = [target, x, y]\n",
    "    candidates = [x for x in teams if x not in red]\n",
    "    trials = 100\n",
    "    \n",
    "    for m in range(trials):\n",
    "        blue = random.sample(candidates, 3)\n",
    "        f = featurizeAlliances(teamAggregates, red, blue)\n",
    "        features.append(f)\n",
    "        alliances.append([red,blue])\n",
    "\n",
    "scores = model.predict_proba(vectorizer.transform(features))\n",
    "results = {}\n",
    "for ((_,x,y),_), score in zip(alliances, scores): \n",
    "    if (x,y) not in results:\n",
    "        results[(x,y)] = 0\n",
    "    results[(x,y)] += score[0]    \n",
    "\n",
    "\n",
    "for r in list(sorted(results, key=lambda x: results[x], reverse=True))[:100]:\n",
    "    print(r, results[r])"
   ]
  },
  {
   "cell_type": "code",
   "execution_count": null,
   "metadata": {},
   "outputs": [],
   "source": []
  }
 ],
 "metadata": {
  "kernelspec": {
   "display_name": "Python 3",
   "language": "python",
   "name": "python3"
  },
  "language_info": {
   "codemirror_mode": {
    "name": "ipython",
    "version": 3
   },
   "file_extension": ".py",
   "mimetype": "text/x-python",
   "name": "python",
   "nbconvert_exporter": "python",
   "pygments_lexer": "ipython3",
   "version": "3.8.8"
  }
 },
 "nbformat": 4,
 "nbformat_minor": 2
}
