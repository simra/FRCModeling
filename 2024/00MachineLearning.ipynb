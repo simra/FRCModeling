{
 "cells": [
  {
   "cell_type": "markdown",
   "metadata": {},
   "source": [
    "## 2023 TBA Predictions"
   ]
  },
  {
   "cell_type": "markdown",
   "metadata": {},
   "source": [
    "Load the training data into a pandas data frame.  "
   ]
  },
  {
   "cell_type": "code",
   "execution_count": 1,
   "metadata": {},
   "outputs": [
    {
     "name": "stdout",
     "output_type": "stream",
     "text": [
      "183 events\n"
     ]
    }
   ],
   "source": [
    "from __future__ import print_function\n",
    "import pickle\n",
    "#import time\n",
    "import sys\n",
    "sys.path.append('..')\n",
    "import swagger_client as v3client\n",
    "from swagger_client.rest import ApiException\n",
    "from featurization import addMatch, featurizeMatch, invertMatch, featurizeAlliances\n",
    "\n",
    "filename = 'matches_2024.pkl'\n",
    "matches = []\n",
    "with open(filename, 'rb') as f:\n",
    "    matches = pickle.load(f)\n",
    "\n",
    "print(f'{len(matches[\"matches\"])} events')"
   ]
  },
  {
   "cell_type": "markdown",
   "metadata": {},
   "source": [
    "Preview a match object"
   ]
  },
  {
   "cell_type": "code",
   "execution_count": 2,
   "metadata": {},
   "outputs": [
    {
     "name": "stdout",
     "output_type": "stream",
     "text": [
      "72 matches\n"
     ]
    },
    {
     "data": {
      "text/plain": [
       "{'actual_time': 1708853998,\n",
       " 'alliances': {'blue': {'dq_team_keys': [],\n",
       "                        'score': 59,\n",
       "                        'surrogate_team_keys': [],\n",
       "                        'team_keys': ['frc4319', 'frc1690', 'frc9303']},\n",
       "               'red': {'dq_team_keys': [],\n",
       "                       'score': 26,\n",
       "                       'surrogate_team_keys': [],\n",
       "                       'team_keys': ['frc4338', 'frc4320', 'frc5990']}},\n",
       " 'comp_level': 'qm',\n",
       " 'event_key': '2024isde1',\n",
       " 'key': '2024isde1_qm1',\n",
       " 'match_number': 1,\n",
       " 'post_result_time': 1708854241,\n",
       " 'predicted_time': 1708906141,\n",
       " 'score_breakdown': {'blue': {'adjustPoints': 0,\n",
       "                              'autoAmpNoteCount': 0,\n",
       "                              'autoAmpNotePoints': 0,\n",
       "                              'autoLeavePoints': 2,\n",
       "                              'autoLineRobot1': 'No',\n",
       "                              'autoLineRobot2': 'Yes',\n",
       "                              'autoLineRobot3': 'No',\n",
       "                              'autoPoints': 22,\n",
       "                              'autoSpeakerNoteCount': 4,\n",
       "                              'autoSpeakerNotePoints': 20,\n",
       "                              'autoTotalNotePoints': 20,\n",
       "                              'coopNotePlayed': True,\n",
       "                              'coopertitionBonusAchieved': False,\n",
       "                              'coopertitionCriteriaMet': True,\n",
       "                              'endGameHarmonyPoints': 0,\n",
       "                              'endGameNoteInTrapPoints': 0,\n",
       "                              'endGameOnStagePoints': 3,\n",
       "                              'endGameParkPoints': 1,\n",
       "                              'endGameRobot1': 'Parked',\n",
       "                              'endGameRobot2': 'StageLeft',\n",
       "                              'endGameRobot3': 'None',\n",
       "                              'endGameSpotLightBonusPoints': 0,\n",
       "                              'endGameTotalStagePoints': 4,\n",
       "                              'ensembleBonusAchieved': False,\n",
       "                              'ensembleBonusOnStageRobotsThreshold': 2,\n",
       "                              'ensembleBonusStagePointsThreshold': 10,\n",
       "                              'foulCount': 2,\n",
       "                              'foulPoints': 0,\n",
       "                              'g206Penalty': False,\n",
       "                              'g408Penalty': False,\n",
       "                              'g424Penalty': False,\n",
       "                              'melodyBonusAchieved': True,\n",
       "                              'melodyBonusThreshold': 18,\n",
       "                              'melodyBonusThresholdCoop': 15,\n",
       "                              'melodyBonusThresholdNonCoop': 18,\n",
       "                              'micCenterStage': False,\n",
       "                              'micStageLeft': False,\n",
       "                              'micStageRight': False,\n",
       "                              'rp': 3,\n",
       "                              'techFoulCount': 0,\n",
       "                              'teleopAmpNoteCount': 7,\n",
       "                              'teleopAmpNotePoints': 7,\n",
       "                              'teleopPoints': 37,\n",
       "                              'teleopSpeakerNoteAmplifiedCount': 4,\n",
       "                              'teleopSpeakerNoteAmplifiedPoints': 20,\n",
       "                              'teleopSpeakerNoteCount': 3,\n",
       "                              'teleopSpeakerNotePoints': 6,\n",
       "                              'teleopTotalNotePoints': 33,\n",
       "                              'totalPoints': 59,\n",
       "                              'trapCenterStage': False,\n",
       "                              'trapStageLeft': False,\n",
       "                              'trapStageRight': False},\n",
       "                     'red': {'adjustPoints': 0,\n",
       "                             'autoAmpNoteCount': 0,\n",
       "                             'autoAmpNotePoints': 0,\n",
       "                             'autoLeavePoints': 2,\n",
       "                             'autoLineRobot1': 'No',\n",
       "                             'autoLineRobot2': 'No',\n",
       "                             'autoLineRobot3': 'Yes',\n",
       "                             'autoPoints': 7,\n",
       "                             'autoSpeakerNoteCount': 1,\n",
       "                             'autoSpeakerNotePoints': 5,\n",
       "                             'autoTotalNotePoints': 5,\n",
       "                             'coopNotePlayed': False,\n",
       "                             'coopertitionBonusAchieved': False,\n",
       "                             'coopertitionCriteriaMet': False,\n",
       "                             'endGameHarmonyPoints': 0,\n",
       "                             'endGameNoteInTrapPoints': 0,\n",
       "                             'endGameOnStagePoints': 0,\n",
       "                             'endGameParkPoints': 2,\n",
       "                             'endGameRobot1': 'Parked',\n",
       "                             'endGameRobot2': 'Parked',\n",
       "                             'endGameRobot3': 'None',\n",
       "                             'endGameSpotLightBonusPoints': 0,\n",
       "                             'endGameTotalStagePoints': 2,\n",
       "                             'ensembleBonusAchieved': False,\n",
       "                             'ensembleBonusOnStageRobotsThreshold': 2,\n",
       "                             'ensembleBonusStagePointsThreshold': 10,\n",
       "                             'foulCount': 0,\n",
       "                             'foulPoints': 4,\n",
       "                             'g206Penalty': False,\n",
       "                             'g408Penalty': False,\n",
       "                             'g424Penalty': False,\n",
       "                             'melodyBonusAchieved': False,\n",
       "                             'melodyBonusThreshold': 18,\n",
       "                             'melodyBonusThresholdCoop': 15,\n",
       "                             'melodyBonusThresholdNonCoop': 18,\n",
       "                             'micCenterStage': False,\n",
       "                             'micStageLeft': False,\n",
       "                             'micStageRight': False,\n",
       "                             'rp': 0,\n",
       "                             'techFoulCount': 0,\n",
       "                             'teleopAmpNoteCount': 6,\n",
       "                             'teleopAmpNotePoints': 6,\n",
       "                             'teleopPoints': 15,\n",
       "                             'teleopSpeakerNoteAmplifiedCount': 1,\n",
       "                             'teleopSpeakerNoteAmplifiedPoints': 5,\n",
       "                             'teleopSpeakerNoteCount': 1,\n",
       "                             'teleopSpeakerNotePoints': 2,\n",
       "                             'teleopTotalNotePoints': 13,\n",
       "                             'totalPoints': 26,\n",
       "                             'trapCenterStage': False,\n",
       "                             'trapStageLeft': False,\n",
       "                             'trapStageRight': False}},\n",
       " 'set_number': 1,\n",
       " 'time': 1708853400,\n",
       " 'videos': [],\n",
       " 'winning_alliance': 'blue'}"
      ]
     },
     "execution_count": 2,
     "metadata": {},
     "output_type": "execute_result"
    }
   ],
   "source": [
    "non_empty = [k for k in matches['matches'].keys() if len(matches['matches'][k])>0]\n",
    "data = [m for k in matches['matches'] for m in matches['matches'][k]]\n",
    "data = [m for m in data if m.winning_alliance!='' and m.score_breakdown is not None]\n",
    "print(f'{len(data)} matches')\n",
    "data[0]\n",
    "#red = [x for m in data for x in m.alliances.red.team_keys]\n",
    "#blue = [x for m in data for x in m.alliances.blue.team_keys]\n",
    "#from collections import Counter\n",
    "#Counter(red+blue)"
   ]
  },
  {
   "cell_type": "code",
   "execution_count": 6,
   "metadata": {},
   "outputs": [
    {
     "data": {
      "text/plain": [
       "[]"
      ]
     },
     "execution_count": 6,
     "metadata": {},
     "output_type": "execute_result"
    }
   ],
   "source": []
  },
  {
   "cell_type": "markdown",
   "metadata": {},
   "source": [
    "List the fields in a single alliance match"
   ]
  },
  {
   "cell_type": "code",
   "execution_count": 3,
   "metadata": {},
   "outputs": [
    {
     "data": {
      "text/plain": [
       "['adjustPoints',\n",
       " 'autoAmpNoteCount',\n",
       " 'autoAmpNotePoints',\n",
       " 'autoLeavePoints',\n",
       " 'autoLineRobot1',\n",
       " 'autoLineRobot2',\n",
       " 'autoLineRobot3',\n",
       " 'autoPoints',\n",
       " 'autoSpeakerNoteCount',\n",
       " 'autoSpeakerNotePoints',\n",
       " 'autoTotalNotePoints',\n",
       " 'coopNotePlayed',\n",
       " 'coopertitionBonusAchieved',\n",
       " 'coopertitionCriteriaMet',\n",
       " 'endGameHarmonyPoints',\n",
       " 'endGameNoteInTrapPoints',\n",
       " 'endGameOnStagePoints',\n",
       " 'endGameParkPoints',\n",
       " 'endGameRobot1',\n",
       " 'endGameRobot2',\n",
       " 'endGameRobot3',\n",
       " 'endGameSpotLightBonusPoints',\n",
       " 'endGameTotalStagePoints',\n",
       " 'ensembleBonusAchieved',\n",
       " 'ensembleBonusOnStageRobotsThreshold',\n",
       " 'ensembleBonusStagePointsThreshold',\n",
       " 'foulCount',\n",
       " 'foulPoints',\n",
       " 'g206Penalty',\n",
       " 'g408Penalty',\n",
       " 'g424Penalty',\n",
       " 'melodyBonusAchieved',\n",
       " 'melodyBonusThreshold',\n",
       " 'melodyBonusThresholdCoop',\n",
       " 'melodyBonusThresholdNonCoop',\n",
       " 'micCenterStage',\n",
       " 'micStageLeft',\n",
       " 'micStageRight',\n",
       " 'rp',\n",
       " 'techFoulCount',\n",
       " 'teleopAmpNoteCount',\n",
       " 'teleopAmpNotePoints',\n",
       " 'teleopPoints',\n",
       " 'teleopSpeakerNoteAmplifiedCount',\n",
       " 'teleopSpeakerNoteAmplifiedPoints',\n",
       " 'teleopSpeakerNoteCount',\n",
       " 'teleopSpeakerNotePoints',\n",
       " 'teleopTotalNotePoints',\n",
       " 'totalPoints',\n",
       " 'trapCenterStage',\n",
       " 'trapStageLeft',\n",
       " 'trapStageRight']"
      ]
     },
     "execution_count": 3,
     "metadata": {},
     "output_type": "execute_result"
    }
   ],
   "source": [
    "list(data[0].score_breakdown['blue'].keys())\n"
   ]
  },
  {
   "cell_type": "markdown",
   "metadata": {},
   "source": [
    "This cell goes into more detail about what's in each field."
   ]
  },
  {
   "cell_type": "code",
   "execution_count": 4,
   "metadata": {},
   "outputs": [
    {
     "name": "stdout",
     "output_type": "stream",
     "text": [
      "adjustPoints\n",
      "autoAmpNoteCount\n",
      "autoAmpNotePoints\n",
      "autoLeavePoints\n",
      "autoLineRobot1.No\n",
      "autoLineRobot1.Yes\n",
      "autoLineRobot2.No\n",
      "autoLineRobot2.Yes\n",
      "autoLineRobot3.No\n",
      "autoLineRobot3.Yes\n",
      "autoPoints\n",
      "autoSpeakerNoteCount\n",
      "autoSpeakerNotePoints\n",
      "autoTotalNotePoints\n",
      "coopNotePlayed.False\n",
      "coopNotePlayed.True\n",
      "coopertitionBonusAchieved.False\n",
      "coopertitionBonusAchieved.True\n",
      "coopertitionCriteriaMet.False\n",
      "coopertitionCriteriaMet.True\n",
      "endGameHarmonyPoints\n",
      "endGameNoteInTrapPoints\n",
      "endGameOnStagePoints\n",
      "endGameParkPoints\n",
      "endGameRobot1.CenterStage\n",
      "endGameRobot1.None\n",
      "endGameRobot1.Parked\n",
      "endGameRobot1.StageLeft\n",
      "endGameRobot1.StageRight\n",
      "endGameRobot2.None\n",
      "endGameRobot2.Parked\n",
      "endGameRobot2.StageLeft\n",
      "endGameRobot2.StageRight\n",
      "endGameRobot3.CenterStage\n",
      "endGameRobot3.None\n",
      "endGameRobot3.Parked\n",
      "endGameRobot3.StageLeft\n",
      "endGameRobot3.StageRight\n",
      "endGameSpotLightBonusPoints\n",
      "endGameTotalStagePoints\n",
      "ensembleBonusAchieved.False\n",
      "ensembleBonusAchieved.True\n",
      "ensembleBonusOnStageRobotsThreshold\n",
      "ensembleBonusStagePointsThreshold\n",
      "foulCount\n",
      "foulPoints\n",
      "g206Penalty.False\n",
      "g408Penalty.False\n",
      "g424Penalty.False\n",
      "g424Penalty.True\n",
      "melodyBonusAchieved.False\n",
      "melodyBonusAchieved.True\n",
      "melodyBonusThreshold\n",
      "melodyBonusThresholdCoop\n",
      "melodyBonusThresholdNonCoop\n",
      "micCenterStage.False\n",
      "micCenterStage.True\n",
      "micStageLeft.False\n",
      "micStageLeft.True\n",
      "micStageRight.False\n",
      "micStageRight.True\n",
      "rp\n",
      "techFoulCount\n",
      "teleopAmpNoteCount\n",
      "teleopAmpNotePoints\n",
      "teleopPoints\n",
      "teleopSpeakerNoteAmplifiedCount\n",
      "teleopSpeakerNoteAmplifiedPoints\n",
      "teleopSpeakerNoteCount\n",
      "teleopSpeakerNotePoints\n",
      "teleopTotalNotePoints\n",
      "totalPoints\n",
      "trapCenterStage.False\n",
      "trapStageLeft.False\n",
      "trapStageLeft.True\n",
      "trapStageRight.False\n",
      "trapStageRight.True\n"
     ]
    }
   ],
   "source": [
    "#data[0].score_breakdown['blue'].keys()\n",
    "\n",
    "#endgameFields = Counter()\n",
    "#taxiFields = Counter()\n",
    "#for d in data:\n",
    "#   endgameFields[d.score_breakdown['blue']['endgameRobot1']]+=1\n",
    "#   endgameFields[d.score_breakdown['blue']['endgameRobot2']]+=1\n",
    "#   endgameFields[d.score_breakdown['blue']['endgameRobot3']]+=1\n",
    "#   taxiFields[d.score_breakdown['blue']['taxiRobot1']]+=1\n",
    "#   taxiFields[d.score_breakdown['blue']['taxiRobot2']]+=1\n",
    "#   taxiFields[d.score_breakdown['blue']['taxiRobot3']]+=1\n",
    "#print(endgameFields)\n",
    "#print(taxiFields)\n",
    "stats = set()\n",
    "for d in data:\n",
    "    for k in d.score_breakdown['blue']:\n",
    "        v = d.score_breakdown['blue'][k]\n",
    "        t = type(v)\n",
    "        if t is int:\n",
    "            stats.add(k)\n",
    "        elif t is bool or t is str:\n",
    "            stats.add(f'{k}.{str(v)}')\n",
    "        elif t is dict:\n",
    "            for k2 in v:\n",
    "                #if type(v[k2]) is list:\n",
    "                #    for v2 in v[k2]:\n",
    "                #        stats.add(f'{k}.{k2}.[{v2}]')\n",
    "                #else:\n",
    "                #stats.add(f'{k}.{k2}.{str(type(v[k2]))}')\n",
    "                stats.add(f'{k}.{k2}.{type(v[k2])}')\n",
    "        elif t is list:\n",
    "            stats.add(f'{k}.{str(t)}')\n",
    "            #for v2 in v:\n",
    "            #    stats.add(f'{k}.[{str(v2)}]')\n",
    "                \n",
    "for k in sorted(stats):\n",
    "    print(k)"
   ]
  },
  {
   "cell_type": "code",
   "execution_count": 5,
   "metadata": {},
   "outputs": [
    {
     "data": {
      "text/plain": [
       "Counter({'qm': 57, 'f': 2, 'sf': 13})"
      ]
     },
     "execution_count": 5,
     "metadata": {},
     "output_type": "execute_result"
    }
   ],
   "source": [
    "from collections import Counter\n",
    "Counter([x.comp_level for x in data])"
   ]
  },
  {
   "cell_type": "markdown",
   "metadata": {},
   "source": [
    "As you can see there is a lot of information here.  We want to collect all of this together so that at the end of the regionals we have score statistics for every team.  We'll sum up all the integer and boolean values and average them over the team's matches.  Grid scores and other dictionary fields will get special treatment."
   ]
  },
  {
   "cell_type": "code",
   "execution_count": 6,
   "metadata": {},
   "outputs": [],
   "source": [
    "qualifiers = [x for x in data if x.comp_level=='qm' and x.score_breakdown is not None] "
   ]
  },
  {
   "cell_type": "code",
   "execution_count": 8,
   "metadata": {},
   "outputs": [],
   "source": [
    "# This will store all the team statistics\n",
    "teamAggregates = {}\n",
    "\n",
    "# Currently just using Week0 events.\n",
    "for m in qualifiers:\n",
    "    # only aggregate statistics for regional matches- skip the districts or we're cheating.\n",
    "    #if m.event_key=='2020pncmp':\n",
    "    #    continue\n",
    "    for t in m.alliances.red.team_keys:\n",
    "        addMatch(t, m, teamAggregates)\n",
    "    for t in m.alliances.blue.team_keys:\n",
    "        addMatch(t, m, teamAggregates)\n",
    "        \n",
    "# normalize the aggregates\n",
    "for t in teamAggregates:\n",
    "    for k in teamAggregates[t]:\n",
    "        if k=='totalMatches':\n",
    "            continue\n",
    "        teamAggregates[t][k]/=teamAggregates[t]['totalMatches']\n",
    "\n",
    "with open('teamStats_2024.pkl','wb') as f:\n",
    "    pickle.dump(teamAggregates,f)"
   ]
  },
  {
   "cell_type": "code",
   "execution_count": 9,
   "metadata": {},
   "outputs": [
    {
     "data": {
      "text/plain": [
       "{'totalMatches': 8,\n",
       " 'winCount': 0.375,\n",
       " 'adjustPointsTotal': 0.0,\n",
       " 'autoAmpNoteCountTotal': 0.0,\n",
       " 'autoAmpNotePointsTotal': 0.0,\n",
       " 'autoLeavePointsTotal': 3.5,\n",
       " 'autoPointsTotal': 12.25,\n",
       " 'autoSpeakerNoteCountTotal': 1.75,\n",
       " 'autoSpeakerNotePointsTotal': 8.75,\n",
       " 'autoTotalNotePointsTotal': 8.75,\n",
       " 'coopNotePlayedTotal': 0.5,\n",
       " 'coopertitionBonusAchievedTotal': 0.25,\n",
       " 'coopertitionCriteriaMetTotal': 0.5,\n",
       " 'endGameHarmonyPointsTotal': 0.0,\n",
       " 'endGameNoteInTrapPointsTotal': 1.25,\n",
       " 'endGameOnStagePointsTotal': 1.125,\n",
       " 'endGameParkPointsTotal': 1.5,\n",
       " 'endGameSpotLightBonusPointsTotal': 0.0,\n",
       " 'endGameTotalStagePointsTotal': 3.875,\n",
       " 'ensembleBonusAchievedTotal': 0.125,\n",
       " 'ensembleBonusOnStageRobotsThresholdTotal': 2.0,\n",
       " 'ensembleBonusStagePointsThresholdTotal': 10.0,\n",
       " 'foulCountTotal': 0.5,\n",
       " 'foulPointsTotal': 5.0,\n",
       " 'g206PenaltyTotal': 0.0,\n",
       " 'g408PenaltyTotal': 0.0,\n",
       " 'g424PenaltyTotal': 0.125,\n",
       " 'melodyBonusAchievedTotal': 0.125,\n",
       " 'melodyBonusThresholdTotal': 17.25,\n",
       " 'melodyBonusThresholdCoopTotal': 15.0,\n",
       " 'melodyBonusThresholdNonCoopTotal': 18.0,\n",
       " 'micCenterStageTotal': 0.0,\n",
       " 'micStageLeftTotal': 0.0,\n",
       " 'micStageRightTotal': 0.0,\n",
       " 'rpTotal': 1.0,\n",
       " 'techFoulCountTotal': 1.75,\n",
       " 'teleopAmpNoteCountTotal': 3.25,\n",
       " 'teleopAmpNotePointsTotal': 3.25,\n",
       " 'teleopPointsTotal': 21.25,\n",
       " 'teleopSpeakerNoteAmplifiedCountTotal': 1.125,\n",
       " 'teleopSpeakerNoteAmplifiedPointsTotal': 5.625,\n",
       " 'teleopSpeakerNoteCountTotal': 4.25,\n",
       " 'teleopSpeakerNotePointsTotal': 8.5,\n",
       " 'teleopTotalNotePointsTotal': 17.375,\n",
       " 'totalPointsTotal': 38.5,\n",
       " 'trapCenterStageTotal': 0.0,\n",
       " 'trapStageLeftTotal': 0.125,\n",
       " 'trapStageRightTotal': 0.125,\n",
       " 'autoLineRobot1YesTotal': 0.375,\n",
       " 'autoLineRobot1NoTotal': 0.625,\n",
       " 'endGameRobot1NoneTotal': 0.125,\n",
       " 'endGameRobot1ParkedTotal': 0.875,\n",
       " 'endGameRobot1CenterStageTotal': 0.0,\n",
       " 'endGameRobot1StageLeftTotal': 0.0,\n",
       " 'endGameRobot1StageRightTotal': 0.0,\n",
       " 'autoLineRobot2YesTotal': 0.75,\n",
       " 'autoLineRobot2NoTotal': 0.25,\n",
       " 'endGameRobot2NoneTotal': 0.5,\n",
       " 'endGameRobot2ParkedTotal': 0.25,\n",
       " 'endGameRobot2CenterStageTotal': 0.0,\n",
       " 'endGameRobot2StageLeftTotal': 0.25,\n",
       " 'endGameRobot2StageRightTotal': 0.0,\n",
       " 'autoLineRobot3YesTotal': 0.625,\n",
       " 'autoLineRobot3NoTotal': 0.375,\n",
       " 'endGameRobot3NoneTotal': 0.5,\n",
       " 'endGameRobot3ParkedTotal': 0.375,\n",
       " 'endGameRobot3CenterStageTotal': 0.0,\n",
       " 'endGameRobot3StageLeftTotal': 0.0,\n",
       " 'endGameRobot3StageRightTotal': 0.125}"
      ]
     },
     "execution_count": 9,
     "metadata": {},
     "output_type": "execute_result"
    }
   ],
   "source": [
    "teamAggregates['frc4319']"
   ]
  },
  {
   "cell_type": "markdown",
   "metadata": {},
   "source": [
    "Now we have statistics for every team.  We can use this to generate features for every match."
   ]
  },
  {
   "cell_type": "code",
   "execution_count": 10,
   "metadata": {},
   "outputs": [
    {
     "data": {
      "text/plain": [
       "{'red_missingCount': 0,\n",
       " 'blue_missingCount': 0,\n",
       " 'red_totalMatches': 7.666666666666667,\n",
       " 'red_winCount': 0.4761904761904762,\n",
       " 'red_adjustPointsTotal': 0.0,\n",
       " 'red_autoAmpNoteCountTotal': 0.0,\n",
       " 'red_autoAmpNotePointsTotal': 0.0,\n",
       " 'red_autoLeavePointsTotal': 3.130952380952381,\n",
       " 'red_autoPointsTotal': 12.74404761904762,\n",
       " 'red_autoSpeakerNoteCountTotal': 1.9226190476190474,\n",
       " 'red_autoSpeakerNotePointsTotal': 9.613095238095239,\n",
       " 'red_autoTotalNotePointsTotal': 9.613095238095239,\n",
       " 'red_coopNotePlayedTotal': 0.44642857142857145,\n",
       " 'red_coopertitionBonusAchievedTotal': 0.26785714285714285,\n",
       " 'red_coopertitionCriteriaMetTotal': 0.44642857142857145,\n",
       " 'red_endGameHarmonyPointsTotal': 0.09523809523809523,\n",
       " 'red_endGameNoteInTrapPointsTotal': 1.1011904761904763,\n",
       " 'red_endGameOnStagePointsTotal': 1.4464285714285714,\n",
       " 'red_endGameParkPointsTotal': 1.2261904761904763,\n",
       " 'red_endGameSpotLightBonusPointsTotal': 0.125,\n",
       " 'red_endGameTotalStagePointsTotal': 3.994047619047619,\n",
       " 'red_ensembleBonusAchievedTotal': 0.16666666666666666,\n",
       " 'red_ensembleBonusOnStageRobotsThresholdTotal': 2.0,\n",
       " 'red_ensembleBonusStagePointsThresholdTotal': 10.0,\n",
       " 'red_foulCountTotal': 0.30952380952380953,\n",
       " 'red_foulPointsTotal': 7.232142857142857,\n",
       " 'red_g206PenaltyTotal': 0.0,\n",
       " 'red_g408PenaltyTotal': 0.0,\n",
       " 'red_g424PenaltyTotal': 0.047619047619047616,\n",
       " 'red_melodyBonusAchievedTotal': 0.22023809523809523,\n",
       " 'red_melodyBonusThresholdTotal': 17.196428571428573,\n",
       " 'red_melodyBonusThresholdCoopTotal': 15.0,\n",
       " 'red_melodyBonusThresholdNonCoopTotal': 18.0,\n",
       " 'red_micCenterStageTotal': 0.0,\n",
       " 'red_micStageLeftTotal': 0.125,\n",
       " 'red_micStageRightTotal': 0.08333333333333333,\n",
       " 'red_rpTotal': 1.3392857142857142,\n",
       " 'red_techFoulCountTotal': 0.7202380952380952,\n",
       " 'red_teleopAmpNoteCountTotal': 3.75,\n",
       " 'red_teleopAmpNotePointsTotal': 3.75,\n",
       " 'red_teleopPointsTotal': 22.5,\n",
       " 'red_teleopSpeakerNoteAmplifiedCountTotal': 1.125,\n",
       " 'red_teleopSpeakerNoteAmplifiedPointsTotal': 5.625,\n",
       " 'red_teleopSpeakerNoteCountTotal': 4.565476190476191,\n",
       " 'red_teleopSpeakerNotePointsTotal': 9.130952380952381,\n",
       " 'red_teleopTotalNotePointsTotal': 18.50595238095238,\n",
       " 'red_totalPointsTotal': 42.476190476190474,\n",
       " 'red_trapCenterStageTotal': 0.0,\n",
       " 'red_trapStageLeftTotal': 0.08928571428571429,\n",
       " 'red_trapStageRightTotal': 0.13095238095238096,\n",
       " 'red_autoLineRobot1YesTotal': 0.39285714285714285,\n",
       " 'red_autoLineRobot1NoTotal': 0.6071428571428571,\n",
       " 'red_endGameRobot1NoneTotal': 0.43452380952380953,\n",
       " 'red_endGameRobot1ParkedTotal': 0.39285714285714285,\n",
       " 'red_endGameRobot1CenterStageTotal': 0.0,\n",
       " 'red_endGameRobot1StageLeftTotal': 0.08928571428571429,\n",
       " 'red_endGameRobot1StageRightTotal': 0.08333333333333333,\n",
       " 'red_autoLineRobot2YesTotal': 0.6071428571428571,\n",
       " 'red_autoLineRobot2NoTotal': 0.39285714285714285,\n",
       " 'red_endGameRobot2NoneTotal': 0.4226190476190476,\n",
       " 'red_endGameRobot2ParkedTotal': 0.4047619047619048,\n",
       " 'red_endGameRobot2CenterStageTotal': 0.0,\n",
       " 'red_endGameRobot2StageLeftTotal': 0.125,\n",
       " 'red_endGameRobot2StageRightTotal': 0.047619047619047616,\n",
       " 'red_autoLineRobot3YesTotal': 0.5654761904761905,\n",
       " 'red_autoLineRobot3NoTotal': 0.43452380952380953,\n",
       " 'red_endGameRobot3NoneTotal': 0.43452380952380953,\n",
       " 'red_endGameRobot3ParkedTotal': 0.42857142857142855,\n",
       " 'red_endGameRobot3CenterStageTotal': 0.0,\n",
       " 'red_endGameRobot3StageLeftTotal': 0.047619047619047616,\n",
       " 'red_endGameRobot3StageRightTotal': 0.08928571428571429,\n",
       " 'blue_totalMatches': 8.0,\n",
       " 'blue_winCount': 0.5833333333333334,\n",
       " 'blue_adjustPointsTotal': 0.0,\n",
       " 'blue_autoAmpNoteCountTotal': 0.0,\n",
       " 'blue_autoAmpNotePointsTotal': 0.0,\n",
       " 'blue_autoLeavePointsTotal': 3.3333333333333335,\n",
       " 'blue_autoPointsTotal': 16.875,\n",
       " 'blue_autoSpeakerNoteCountTotal': 2.7083333333333335,\n",
       " 'blue_autoSpeakerNotePointsTotal': 13.541666666666666,\n",
       " 'blue_autoTotalNotePointsTotal': 13.541666666666666,\n",
       " 'blue_coopNotePlayedTotal': 0.6666666666666666,\n",
       " 'blue_coopertitionBonusAchievedTotal': 0.375,\n",
       " 'blue_coopertitionCriteriaMetTotal': 0.6666666666666666,\n",
       " 'blue_endGameHarmonyPointsTotal': 0.0,\n",
       " 'blue_endGameNoteInTrapPointsTotal': 1.0416666666666667,\n",
       " 'blue_endGameOnStagePointsTotal': 1.875,\n",
       " 'blue_endGameParkPointsTotal': 1.4166666666666667,\n",
       " 'blue_endGameSpotLightBonusPointsTotal': 0.08333333333333333,\n",
       " 'blue_endGameTotalStagePointsTotal': 4.416666666666667,\n",
       " 'blue_ensembleBonusAchievedTotal': 0.08333333333333333,\n",
       " 'blue_ensembleBonusOnStageRobotsThresholdTotal': 2.0,\n",
       " 'blue_ensembleBonusStagePointsThresholdTotal': 10.0,\n",
       " 'blue_foulCountTotal': 0.4583333333333333,\n",
       " 'blue_foulPointsTotal': 5.416666666666667,\n",
       " 'blue_g206PenaltyTotal': 0.0,\n",
       " 'blue_g408PenaltyTotal': 0.0,\n",
       " 'blue_g424PenaltyTotal': 0.041666666666666664,\n",
       " 'blue_melodyBonusAchievedTotal': 0.375,\n",
       " 'blue_melodyBonusThresholdTotal': 16.875,\n",
       " 'blue_melodyBonusThresholdCoopTotal': 15.0,\n",
       " 'blue_melodyBonusThresholdNonCoopTotal': 18.0,\n",
       " 'blue_micCenterStageTotal': 0.0,\n",
       " 'blue_micStageLeftTotal': 0.041666666666666664,\n",
       " 'blue_micStageRightTotal': 0.08333333333333333,\n",
       " 'blue_rpTotal': 1.625,\n",
       " 'blue_techFoulCountTotal': 1.0416666666666667,\n",
       " 'blue_teleopAmpNoteCountTotal': 4.291666666666667,\n",
       " 'blue_teleopAmpNotePointsTotal': 4.291666666666667,\n",
       " 'blue_teleopPointsTotal': 26.25,\n",
       " 'blue_teleopSpeakerNoteAmplifiedCountTotal': 1.875,\n",
       " 'blue_teleopSpeakerNoteAmplifiedPointsTotal': 9.375,\n",
       " 'blue_teleopSpeakerNoteCountTotal': 4.083333333333333,\n",
       " 'blue_teleopSpeakerNotePointsTotal': 8.166666666666666,\n",
       " 'blue_teleopTotalNotePointsTotal': 21.833333333333332,\n",
       " 'blue_totalPointsTotal': 48.541666666666664,\n",
       " 'blue_trapCenterStageTotal': 0.0,\n",
       " 'blue_trapStageLeftTotal': 0.08333333333333333,\n",
       " 'blue_trapStageRightTotal': 0.125,\n",
       " 'blue_autoLineRobot1YesTotal': 0.4583333333333333,\n",
       " 'blue_autoLineRobot1NoTotal': 0.5416666666666666,\n",
       " 'blue_endGameRobot1NoneTotal': 0.16666666666666666,\n",
       " 'blue_endGameRobot1ParkedTotal': 0.7083333333333334,\n",
       " 'blue_endGameRobot1CenterStageTotal': 0.0,\n",
       " 'blue_endGameRobot1StageLeftTotal': 0.08333333333333333,\n",
       " 'blue_endGameRobot1StageRightTotal': 0.041666666666666664,\n",
       " 'blue_autoLineRobot2YesTotal': 0.6666666666666666,\n",
       " 'blue_autoLineRobot2NoTotal': 0.3333333333333333,\n",
       " 'blue_endGameRobot2NoneTotal': 0.3333333333333333,\n",
       " 'blue_endGameRobot2ParkedTotal': 0.3333333333333333,\n",
       " 'blue_endGameRobot2CenterStageTotal': 0.0,\n",
       " 'blue_endGameRobot2StageLeftTotal': 0.25,\n",
       " 'blue_endGameRobot2StageRightTotal': 0.08333333333333333,\n",
       " 'blue_autoLineRobot3YesTotal': 0.5416666666666666,\n",
       " 'blue_autoLineRobot3NoTotal': 0.4583333333333333,\n",
       " 'blue_endGameRobot3NoneTotal': 0.4583333333333333,\n",
       " 'blue_endGameRobot3ParkedTotal': 0.375,\n",
       " 'blue_endGameRobot3CenterStageTotal': 0.0,\n",
       " 'blue_endGameRobot3StageLeftTotal': 0.041666666666666664,\n",
       " 'blue_endGameRobot3StageRightTotal': 0.125,\n",
       " 'event': '2024isde1',\n",
       " 'comp_level': 'qm',\n",
       " 'label': 0}"
      ]
     },
     "execution_count": 10,
     "metadata": {},
     "output_type": "execute_result"
    }
   ],
   "source": [
    "\n",
    "features = []\n",
    "\n",
    "for m in data:\n",
    "    f = featurizeMatch(m, teamAggregates)\n",
    "    features.append(f)\n",
    "    # Optionally invert the red/blue alliances and add this match as well, since it should be symmetric\n",
    "    features.append(invertMatch(f))\n",
    "    \n",
    "features[0]"
   ]
  },
  {
   "cell_type": "code",
   "execution_count": 11,
   "metadata": {},
   "outputs": [
    {
     "name": "stdout",
     "output_type": "stream",
     "text": [
      "114 training examples and 30 test\n"
     ]
    }
   ],
   "source": [
    "from sklearn.feature_extraction import DictVectorizer\n",
    "# create train and test sets\n",
    "train = []\n",
    "trainY = []\n",
    "test = []\n",
    "testY = []\n",
    "\n",
    "for m in features:    \n",
    "    if 'event' not in m:\n",
    "        print(m)\n",
    "    event = m['event']\n",
    "    comp_level = m['comp_level']\n",
    "    del m['event']\n",
    "    del m['comp_level']\n",
    "    \n",
    "    label = m['label']\n",
    "    del m['label']\n",
    "    \n",
    "    #if event == '2019pncmp':\n",
    "    if comp_level!='qm':\n",
    "        test.append(m)\n",
    "        testY.append(label)\n",
    "    else:\n",
    "        train.append(m)\n",
    "        trainY.append(label)\n",
    "        \n",
    "vectorizer = DictVectorizer()\n",
    "trainX = vectorizer.fit_transform(train)\n",
    "testX = vectorizer.transform(test)\n",
    "\n",
    "print('{} training examples and {} test'.format(len(train),len(test)))\n"
   ]
  },
  {
   "cell_type": "code",
   "execution_count": 13,
   "metadata": {},
   "outputs": [
    {
     "name": "stdout",
     "output_type": "stream",
     "text": [
      "accuracy: 0.36666666666666664\n"
     ]
    }
   ],
   "source": [
    "from sklearn.ensemble import RandomForestClassifier\n",
    "classifier = RandomForestClassifier(n_estimators=100, random_state=0, min_samples_split=3)  \n",
    "classifier.fit(trainX,trainY)\n",
    "forest_predictions= classifier.predict(testX)\n",
    "forest_scores = classifier.predict_proba(testX)\n",
    "import numpy as np\n",
    "from sklearn.metrics import accuracy_score\n",
    "#np.sum(np.abs(scores-Ytest))\n",
    "print('accuracy: {}'.format(accuracy_score(testY, forest_predictions)))\n",
    "#list(zip(forest_scores[:,1],testY))\n",
    "\n",
    "# Save the model\n",
    "model_fn = 'model_2024_forest.pkl'\n",
    "with open(model_fn, 'wb') as outF:\n",
    "    pickle.dump((vectorizer,classifier), outF)\n"
   ]
  },
  {
   "cell_type": "markdown",
   "metadata": {},
   "source": [
    "Let's look at the feature importances. They tell us how useful a specific feature is."
   ]
  },
  {
   "cell_type": "code",
   "execution_count": 14,
   "metadata": {},
   "outputs": [
    {
     "name": "stdout",
     "output_type": "stream",
     "text": [
      "Feature ranking:\n"
     ]
    },
    {
     "data": {
      "image/png": "[encoded data removed]",
      "text/plain": [
       "<Figure size 1440x720 with 1 Axes>"
      ]
     },
     "metadata": {
      "needs_background": "light"
     },
     "output_type": "display_data"
    }
   ],
   "source": [
    "topN = 20\n",
    "importances = classifier.feature_importances_\n",
    "std = np.std([tree.feature_importances_ for tree in classifier.estimators_],\n",
    "             axis=0)\n",
    "indices = np.argsort(importances)[::-1][:topN]\n",
    "names = vectorizer.feature_names_\n",
    "\n",
    "# Print the feature ranking\n",
    "print(\"Feature ranking:\")\n",
    "\n",
    "#for f in range(trainX.shape[1]):\n",
    "#    print(\"%d. %s (%f)\" % (f + 1, names[indices[f]], importances[indices[f]]))\n",
    "colors = [names[f].split('_')[0] for f in indices]\n",
    "labels = [names[f].replace('Count','').replace('Points','').replace('red','r').replace('blue','b') for f in indices]\n",
    "# Plot the feature importances of the forest\n",
    "%matplotlib inline\n",
    "import matplotlib.pyplot as plt\n",
    "plt.rcParams[\"figure.figsize\"] = (20, 10)\n",
    "plt.figure()\n",
    "plt.title(\"Feature importances\")\n",
    "#plt.bar(range(trainX.shape[1]), importances[indices],\n",
    "plt.bar(range(len(indices)), importances[indices],\n",
    "       color=colors, \n",
    "        #yerr=std[indices], \n",
    "        align=\"center\")\n",
    "plt.xticks(range(len(indices)), labels, rotation='vertical', fontsize='large')\n",
    "    \n",
    "plt.xlim([-1, len(indices)])\n",
    "plt.subplots_adjust(bottom=0.5)\n",
    "#plt.legend()\n",
    "plt.show()"
   ]
  },
  {
   "cell_type": "code",
   "execution_count": 15,
   "metadata": {},
   "outputs": [],
   "source": [
    "def percentile(dictionary, key):\n",
    "    teams = [t for t in dictionary]\n",
    "    values = [dictionary[t][key] for t in dictionary]\n",
    "    ranks = sorted(range(len(values)), key=lambda x: values[x])\n",
    "    return dict([(teams[ranks[i]], i*100/len(values)) for i in range(len(ranks))])    \n",
    "\n",
    "raw = dict([(k, percentile(teamAggregates,k)) for k in teamAggregates['frc4319']])\n",
    "#stats = dict([(k,percentile(teamAggregates,k)['frc1153']) for k in teamAggregates['frc1153']])"
   ]
  },
  {
   "cell_type": "markdown",
   "metadata": {},
   "source": [
    "The next cell enables comparisons between two teams."
   ]
  },
  {
   "cell_type": "code",
   "execution_count": 16,
   "metadata": {},
   "outputs": [
    {
     "data": {
      "image/png": "[encoded data removed]",
      "text/plain": [
       "<Figure size 1440x720 with 1 Axes>"
      ]
     },
     "metadata": {
      "needs_background": "light"
     },
     "output_type": "display_data"
    }
   ],
   "source": [
    "import matplotlib.pyplot as plt\n",
    "import numpy as np\n",
    "\n",
    "objects = [k for k in raw]\n",
    "y_pos = np.arange(len(objects))\n",
    "#performance = [[raw[k]['frc492'],raw[k]['frc2910']] for k in stats]\n",
    "#performance\n",
    "t1 = 'frc1153'\n",
    "t2 = 'frc238'\n",
    "plt.figure()\n",
    "plt.bar(y_pos, [raw[k][t1] for k in raw], alpha=0.5, width=0.25)\n",
    "plt.bar(y_pos+0.25, [raw[k][t2] for k in raw], alpha=0.5, width=0.25)\n",
    "plt.xticks(y_pos, objects, rotation=90, fontsize='x-small')\n",
    "plt.subplots_adjust(bottom=0.5)\n",
    "plt.ylabel('Percentile')\n",
    "plt.title('Stats summary')\n",
    "plt.legend([t1,t2])\n",
    "\n",
    "plt.show()\n"
   ]
  },
  {
   "cell_type": "markdown",
   "metadata": {},
   "source": [
    "## Let's also try logistic regression."
   ]
  },
  {
   "cell_type": "code",
   "execution_count": 17,
   "metadata": {},
   "outputs": [
    {
     "data": {
      "text/plain": [
       "0.26666666666666666"
      ]
     },
     "execution_count": 17,
     "metadata": {},
     "output_type": "execute_result"
    }
   ],
   "source": [
    "from sklearn.linear_model import LogisticRegression\n",
    "classifier = LogisticRegression(random_state=0, solver='lbfgs', multi_class='multinomial', max_iter=10000)\n",
    "classifier.fit(trainX,trainY)\n",
    "lr_predictions= classifier.predict(testX)\n",
    "accuracy_score(testY, lr_predictions)"
   ]
  },
  {
   "cell_type": "code",
   "execution_count": 18,
   "metadata": {},
   "outputs": [
    {
     "name": "stdout",
     "output_type": "stream",
     "text": [
      "Feature ranking:\n"
     ]
    },
    {
     "data": {
      "image/png": "[encoded data removed]",
      "text/plain": [
       "<Figure size 1440x720 with 1 Axes>"
      ]
     },
     "metadata": {
      "needs_background": "light"
     },
     "output_type": "display_data"
    }
   ],
   "source": [
    "importances = classifier.coef_[0]\n",
    "#std = np.std([tree.feature_importances_ for tree in classifier.estimators_],\n",
    "#             axis=0)\n",
    "indices = np.argsort(importances)[::-1]\n",
    "names = vectorizer.feature_names_\n",
    "\n",
    "# Print the feature ranking\n",
    "print(\"Feature ranking:\")\n",
    "\n",
    "#for f in range(trainX.shape[1]):\n",
    "#    print(\"%d. %s (%f)\" % (f + 1, names[indices[f]], importances[indices[f]]))\n",
    "colors = [names[indices[f]].split('_')[0] for f in range(trainX.shape[1])]\n",
    "labels = [names[indices[f]].replace('Count','').replace('Points','').replace('red','r').replace('blue','b') for f in range(trainX.shape[1])]\n",
    "# Plot the feature importances of the forest\n",
    "%matplotlib inline\n",
    "import matplotlib.pyplot as plt\n",
    "plt.rcParams[\"figure.figsize\"] = (20, 10)\n",
    "plt.figure()\n",
    "plt.title(\"Feature importances\")\n",
    "plt.bar(range(trainX.shape[1]), importances[indices],\n",
    "       color=colors, \n",
    "        #yerr=std[indices], \n",
    "        align=\"center\")\n",
    "plt.xticks(range(trainX.shape[1]), labels, rotation='vertical', fontsize='x-small')\n",
    "    \n",
    "plt.xlim([-1, trainX.shape[1]])\n",
    "plt.subplots_adjust(bottom=0.5)\n",
    "#plt.legend()\n",
    "plt.show()"
   ]
  },
  {
   "cell_type": "markdown",
   "metadata": {},
   "source": [
    "## Linear Regression"
   ]
  },
  {
   "cell_type": "code",
   "execution_count": 19,
   "metadata": {},
   "outputs": [
    {
     "data": {
      "text/plain": [
       "0.2"
      ]
     },
     "execution_count": 19,
     "metadata": {},
     "output_type": "execute_result"
    }
   ],
   "source": [
    "from sklearn.linear_model import RidgeClassifier\n",
    "classifier = RidgeClassifier()\n",
    "classifier.fit(trainX,trainY)\n",
    "predictions= classifier.predict(testX)\n",
    "accuracy_score(testY, predictions)"
   ]
  },
  {
   "cell_type": "markdown",
   "metadata": {},
   "source": [
    "So far our best score at predicting the districts is 0.704 using RandomForests.  Next time we can explore hyperparameter tuning and also predicting which alliances would have been the best ones for us to join."
   ]
  },
  {
   "cell_type": "markdown",
   "metadata": {},
   "source": [
    "Next steps: for a given event we want to decide how to prioritize alliance choices.  Suppose we have all the data to date, as well as all the qualifier data for the event. Who should we choose as partners?"
   ]
  },
  {
   "cell_type": "code",
   "execution_count": 20,
   "metadata": {},
   "outputs": [
    {
     "ename": "KeyError",
     "evalue": "'2023wasno'",
     "output_type": "error",
     "traceback": [
      "\u001b[1;31m---------------------------------------------------------------------------\u001b[0m",
      "\u001b[1;31mKeyError\u001b[0m                                  Traceback (most recent call last)",
      "\u001b[1;32m<ipython-input-20-a52ef0a6a018>\u001b[0m in \u001b[0;36m<module>\u001b[1;34m\u001b[0m\n\u001b[0;32m      5\u001b[0m \u001b[0mevent\u001b[0m \u001b[1;33m=\u001b[0m \u001b[1;34m'2023wasno'\u001b[0m\u001b[1;33m\u001b[0m\u001b[1;33m\u001b[0m\u001b[0m\n\u001b[0;32m      6\u001b[0m teams = set([t for x in \\\n\u001b[1;32m----> 7\u001b[1;33m     \u001b[1;33m[\u001b[0m\u001b[0mm\u001b[0m\u001b[1;33m.\u001b[0m\u001b[0malliances\u001b[0m\u001b[1;33m.\u001b[0m\u001b[0mred\u001b[0m\u001b[1;33m.\u001b[0m\u001b[0mteam_keys\u001b[0m \u001b[1;33m+\u001b[0m \u001b[0mm\u001b[0m\u001b[1;33m.\u001b[0m\u001b[0malliances\u001b[0m\u001b[1;33m.\u001b[0m\u001b[0mblue\u001b[0m\u001b[1;33m.\u001b[0m\u001b[0mteam_keys\u001b[0m \u001b[1;32mfor\u001b[0m \u001b[0mm\u001b[0m \u001b[1;32min\u001b[0m \u001b[0mmatches\u001b[0m\u001b[1;33m[\u001b[0m\u001b[1;34m'matches'\u001b[0m\u001b[1;33m]\u001b[0m\u001b[1;33m[\u001b[0m\u001b[0mevent\u001b[0m\u001b[1;33m]\u001b[0m\u001b[1;33m]\u001b[0m\u001b[0;31m \u001b[0m\u001b[0;31m\\\u001b[0m\u001b[1;33m\u001b[0m\u001b[1;33m\u001b[0m\u001b[0m\n\u001b[0m\u001b[0;32m      8\u001b[0m         for t in x])\n\u001b[0;32m      9\u001b[0m \u001b[1;33m\u001b[0m\u001b[0m\n",
      "\u001b[1;31mKeyError\u001b[0m: '2023wasno'"
     ]
    }
   ],
   "source": [
    "# optimize alliances for frc492 at wasno:\n",
    "import random\n",
    "from tqdm import tqdm\n",
    "\n",
    "event = '2023wasno'\n",
    "teams = set([t for x in \\\n",
    "    [m.alliances.red.team_keys + m.alliances.blue.team_keys for m in matches['matches'][event]] \\\n",
    "        for t in x])\n",
    "\n",
    "model_fn = 'model_2023_forest.pkl'\n",
    "with open(model_fn, 'rb') as inF:\n",
    "    vectorizer, model = pickle.load(inF)\n",
    "\n",
    "target = 'frc492'\n",
    "pairs = [(x,y) for x in teams if x!=target for y in teams if y!=target if x<y]\n",
    "results = {}\n",
    "features = []\n",
    "alliances = []\n",
    "for (x,y) in tqdm(pairs):\n",
    "    red = [target, x, y]\n",
    "    candidates = [x for x in teams if x not in red]\n",
    "    trials = 100\n",
    "    \n",
    "    for m in range(trials):\n",
    "        blue = random.sample(candidates, 3)\n",
    "        f = featurizeAlliances(teamAggregates, red, blue)\n",
    "        features.append(f)\n",
    "        alliances.append([red,blue])\n",
    "\n",
    "scores = model.predict_proba(vectorizer.transform(features))\n",
    "results = {}\n",
    "for ((_,x,y),_), score in zip(alliances, scores): \n",
    "    if (x,y) not in results:\n",
    "        results[(x,y)] = 0\n",
    "    results[(x,y)] += score[0]    \n",
    "\n",
    "\n",
    "for r in list(sorted(results, key=lambda x: results[x], reverse=True))[:100]:\n",
    "    print(r, results[r])"
   ]
  },
  {
   "cell_type": "code",
   "execution_count": null,
   "metadata": {},
   "outputs": [],
   "source": []
  }
 ],
 "metadata": {
  "kernelspec": {
   "display_name": "Python 3",
   "language": "python",
   "name": "python3"
  },
  "language_info": {
   "codemirror_mode": {
    "name": "ipython",
    "version": 3
   },
   "file_extension": ".py",
   "mimetype": "text/x-python",
   "name": "python",
   "nbconvert_exporter": "python",
   "pygments_lexer": "ipython3",
   "version": "3.8.8"
  }
 },
 "nbformat": 4,
 "nbformat_minor": 2
}
