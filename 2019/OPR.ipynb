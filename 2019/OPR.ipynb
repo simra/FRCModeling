{
 "cells": [
  {
   "cell_type": "markdown",
   "metadata": {},
   "source": [
    "# Last time we looked a predicting District matches from the regional events. Let's add some more features to our model."
   ]
  },
  {
   "cell_type": "markdown",
   "metadata": {},
   "source": [
    "Load the training data into a pandas data frame.  "
   ]
  },
  {
   "cell_type": "code",
   "execution_count": 17,
   "metadata": {},
   "outputs": [],
   "source": [
    "from __future__ import print_function\n",
    "import pickle\n",
    "#import time\n",
    "import sys\n",
    "sys.path.append('..')\n",
    "import swagger_client as v3client\n",
    "from swagger_client.rest import ApiException\n",
    "\n",
    "filename = 'matches_2019.pkl'\n",
    "matches = []\n",
    "with open(filename, 'rb') as f:\n",
    "    matches = pickle.load(f)\n"
   ]
  },
  {
   "cell_type": "markdown",
   "metadata": {},
   "source": [
    "Preview a match object"
   ]
  },
  {
   "cell_type": "code",
   "execution_count": 44,
   "metadata": {},
   "outputs": [
    {
     "name": "stdout",
     "output_type": "stream",
     "text": [
      "21240\n"
     ]
    },
    {
     "data": {
      "text/plain": [
       "(34314, 8166)"
      ]
     },
     "execution_count": 44,
     "metadata": {},
     "output_type": "execute_result"
    }
   ],
   "source": [
    "non_empty = [k for k in matches['matches'].keys() if len(matches['matches'][k])>0]\n",
    "data = [m for k in matches['matches'] for m in matches['matches'][k]]\n",
    "data = [m for m in data if m.winning_alliance!='']\n",
    "print(len(data))\n",
    "red = [x for m in data for x in m.alliances.red.team_keys]\n",
    "blue = [x for m in data for x in m.alliances.blue.team_keys]\n",
    "from collections import Counter\n",
    "Counter(red+blue)\n",
    "\n",
    "qualifiers = [m for m in data if m.comp_level=='qm']\n",
    "finals = [m for m in data if m.comp_level!='qm']\n",
    "alliances = [' '.join(m.alliances.red.team_keys) for m in qualifiers]  + [' '.join(m.alliances.blue.team_keys) for m in qualifiers]\n",
    "alliances_finals = [' '.join(m.alliances.red.team_keys) for m in finals]  + [' '.join(m.alliances.blue.team_keys) for m in finals]\n",
    "scores = [m.alliances.red.score for m in qualifiers] + [m.alliances.blue.score for m in qualifiers]\n",
    "rp = [m.score_breakdown and m.score_breakdown['red']['rp'] or 0.0 for m in qualifiers] + [m.score_breakdown and m.score_breakdown['blue']['rp'] or 0.0 for m in qualifiers]\n",
    "#foul = [m.alliances.red.]\n",
    "scores_finals = [m.alliances.red.score for m in finals] + [m.alliances.blue.score for m in finals]\n",
    "len(scores),len(scores_finals)  # should be 2x number of qualifiers"
   ]
  },
  {
   "cell_type": "code",
   "execution_count": 45,
   "metadata": {
    "scrolled": true
   },
   "outputs": [
    {
     "data": {
      "text/plain": [
       "(34314, 2)"
      ]
     },
     "execution_count": 45,
     "metadata": {},
     "output_type": "execute_result"
    }
   ],
   "source": [
    "from sklearn.feature_extraction.text import CountVectorizer  \n",
    "from sklearn.pipeline import FeatureUnion\n",
    "from sklearn.compose import ColumnTransformer\n",
    "import numpy as np\n",
    "#from scipy.sparse.linalg import spsolve\n",
    "\n",
    "# two count vectorizers. This transforms the alliance lists into vector encodings\n",
    "vectorizer = CountVectorizer(max_features=15000, min_df=1, max_df=1.0, stop_words=None)  \n",
    "\n",
    "X = vectorizer.fit_transform(alliances)\n",
    "X_finals = vectorizer.transform(alliances_finals)\n",
    "# shuffle the data first\n",
    "#train = train.sample(frac=1.0)\n",
    "\n",
    "# produce the training features and labels.\n",
    "#X = ct.fit_transform(train)\n",
    "y = np.column_stack([scores, rp])\n",
    "y_finals = scores_finals\n",
    "\n",
    "#X[1,:].todense()\n",
    "np.shape(y)\n"
   ]
  },
  {
   "cell_type": "code",
   "execution_count": 48,
   "metadata": {},
   "outputs": [
    {
     "name": "stdout",
     "output_type": "stream",
     "text": [
      "[28.30255665  0.83450885]\n"
     ]
    }
   ],
   "source": [
    "from scipy.sparse.linalg import lsqr\n",
    "\n",
    "opr = lsqr(X,y[:,0])[0]\n",
    "opr_rp = lsqr(X,y[:,1])[0]\n",
    "opr_all = np.column_stack([opr, opr_rp])\n",
    "#print(opr)\n",
    "opr_lookup=dict(zip(sorted(vectorizer.vocabulary_,key=lambda x: vectorizer.vocabulary_[x]),opr_all))\n",
    "#for x,y in list(zip(list(X_finals*opr),y_finals)):\n",
    "#    print('{}\\t{}'.format(x,y))\n",
    "#print(vectorizer.vocabulary_)\n",
    "#list(sorted(vectorizer.vocabulary_,key=lambda x: vectorizer.vocabulary_[x]))\n",
    "#print(X[0,:].todense())\n",
    "#print(alliances[0])\n",
    "#print(vectorizer.vocabulary_['frc5813'])\n",
    "#print(vectorizer.vocabulary_['frc2342'])\n",
    "#print(vectorizer.vocabulary_['frc3323'])\n",
    "print(opr_lookup['frc492'])"
   ]
  },
  {
   "cell_type": "code",
   "execution_count": 49,
   "metadata": {},
   "outputs": [
    {
     "name": "stdout",
     "output_type": "stream",
     "text": [
      "frc1574B\n",
      "frc3211B\n",
      "frc1690B\n",
      "frc3339B\n",
      "frc503B\n",
      "frc3538B\n",
      "frc4130B\n",
      "frc27B\n",
      "frc2834B\n",
      "frc5687B\n",
      "frc4564B\n",
      "frc6328B\n",
      "frc7127B\n",
      "frc862B\n",
      "frc33B\n",
      "frc3604B\n",
      "frc3707B\n",
      "frc3655B\n",
      "frc1023B\n",
      "frc3641B\n",
      "frc1678B\n",
      "frc1678C\n",
      "frc1323B\n",
      "frc971B\n",
      "frc5104B\n",
      "frc2135B\n",
      "frc973C\n",
      "frc5458B\n",
      "frc973B\n",
      "frc254B\n",
      "frc6465B\n",
      "frc5817B\n",
      "frc1671B\n",
      "frc971C\n",
      "frc6174B\n",
      "frc299B\n",
      "frc6657B\n",
      "frc2601B\n",
      "frc102B\n"
     ]
    }
   ],
   "source": [
    "teamAggregates = {}\n",
    "\n",
    "def addMatch(team, m):    \n",
    "    if team not in teamAggregates:       \n",
    "        # initialize an empty record for the team.\n",
    "        teamAggregates[team]= {\n",
    "            'totalMatches':0, \n",
    "            'rpTotal': 0,\n",
    "            'totalPoints': 0,\n",
    "            'winCount': 0\n",
    "        }\n",
    "            \n",
    "\n",
    "    alliance = 'blue' if team in m.alliances.blue.team_keys else 'red'\n",
    "    points = m.score_breakdown[alliance]\n",
    "    summary = teamAggregates[team]\n",
    "    # update all of the fields.\n",
    "    summary['totalMatches']+=1    \n",
    "    \n",
    "    summary['rpTotal'] += points['rp']\n",
    "    summary['totalPoints'] += points['totalPoints']\n",
    "    summary['winCount'] += int(m.winning_alliance==alliance)\n",
    "\n",
    "# Currently just using Week0 events.\n",
    "for m in qualifiers:\n",
    "    if m.score_breakdown is None:\n",
    "        continue\n",
    "    # only aggregate statistics for regional matches- skip the districts or we're cheating.\n",
    "    #if m.event_key=='2020pncmp':\n",
    "    #    continue\n",
    "    for t in m.alliances.red.team_keys:\n",
    "        addMatch(t,m)\n",
    "    for t in m.alliances.blue.team_keys:\n",
    "        addMatch(t,m)\n",
    "        \n",
    "# normalize the aggregates\n",
    "for t in teamAggregates:\n",
    "    for k in teamAggregates[t]:\n",
    "        if k=='totalMatches':\n",
    "            continue\n",
    "        teamAggregates[t][k]/=teamAggregates[t]['totalMatches']\n",
    "    if t in opr_lookup:\n",
    "        teamAggregates[t]['opr']=opr_lookup[t][0]\n",
    "        teamAggregates[t]['opr_rp']=opr_lookup[t][1]\n",
    "    else:\n",
    "        print(t)\n",
    "\n",
    "with open('teamStats_tmp_2019.pkl','wb') as f:\n",
    "    pickle.dump(teamAggregates,f)"
   ]
  },
  {
   "cell_type": "code",
   "execution_count": 52,
   "metadata": {},
   "outputs": [],
   "source": [
    "with open('stats_tmp.tsv','w',encoding='utf-8') as outStats:\n",
    "    outStats.write('{}\\n'.format('\\t'.join(['team','opr','opr_rp','rp','points','wins'])))\n",
    "    for t in teamAggregates:\n",
    "        k = teamAggregates[t]\n",
    "        if 'opr' not in k:\n",
    "            continue\n",
    "        outStats.write('{}\\t{}\\t{}\\t{}\\t{}\\t{}\\n'.format(t,k['opr'],k['opr_rp'],k['rpTotal'],k['totalPoints'],k['winCount']))"
   ]
  }
 ],
 "metadata": {
  "kernelspec": {
   "display_name": "Python 3",
   "language": "python",
   "name": "python3"
  },
  "language_info": {
   "codemirror_mode": {
    "name": "ipython",
    "version": 3
   },
   "file_extension": ".py",
   "mimetype": "text/x-python",
   "name": "python",
   "nbconvert_exporter": "python",
   "pygments_lexer": "ipython3",
   "version": "3.6.5"
  }
 },
 "nbformat": 4,
 "nbformat_minor": 2
}
