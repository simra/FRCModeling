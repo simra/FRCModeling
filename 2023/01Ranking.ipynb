{
 "cells": [
  {
   "cell_type": "markdown",
   "metadata": {},
   "source": [
    "## 2023 TBA Predictions"
   ]
  },
  {
   "cell_type": "markdown",
   "metadata": {},
   "source": [
    "Match data is fetched from TBA by running fetchMatches.py.  Run this first before running this notebook.\n",
    "\n",
    "`python fetchMatches.py`\n"
   ]
  },
  {
   "cell_type": "code",
   "execution_count": 1,
   "metadata": {},
   "outputs": [
    {
     "name": "stdout",
     "output_type": "stream",
     "text": [
      "Fetching event 2023alhu\n",
      "Fetching event 2023arli\n",
      "Fetching event 2023ausc\n",
      "Fetching event 2023azgl\n",
      "Fetching event 2023azva\n",
      "Fetching event 2023bcvi\n",
      "Fetching event 2023brbr\n",
      "Fetching event 2023caav\n",
      "Fetching event 2023cada\n",
      "Fetching event 2023cafr\n",
      "Fetching event 2023cala\n",
      "Fetching event 2023camb\n",
      "Fetching event 2023caoc\n",
      "Fetching event 2023caph\n",
      "Fetching event 2023casd\n",
      "Fetching event 2023casf\n",
      "Fetching event 2023casj\n",
      "Fetching event 2023cave\n",
      "Fetching event 2023cc\n",
      "Fetching event 2023chcmp\n",
      "Fetching event 2023cmptx\n",
      "Fetching event 2023code\n",
      "Fetching event 2023cops\n",
      "Fetching event 2023cthar\n",
      "Fetching event 2023ctwat\n",
      "Fetching event 2023flor\n",
      "Fetching event 2023flta\n",
      "Fetching event 2023flwp\n",
      "Fetching event 2023gaalb\n",
      "Fetching event 2023gacar\n",
      "Fetching event 2023gacmp\n",
      "Fetching event 2023gadal\n",
      "Fetching event 2023gagwi\n",
      "Fetching event 2023gamac\n",
      "Fetching event 2023hiho\n",
      "Fetching event 2023iacf\n",
      "Fetching event 2023idbo\n",
      "Fetching event 2023ilch\n",
      "Fetching event 2023ilpe\n",
      "Fetching event 2023ilwz\n",
      "Fetching event 2023incmp\n",
      "Fetching event 2023ingre\n",
      "Fetching event 2023inmis\n",
      "Fetching event 2023inpri\n",
      "Fetching event 2023inwla\n",
      "Fetching event 2023iscmp\n",
      "Fetching event 2023isde1\n",
      "Fetching event 2023isde2\n",
      "Fetching event 2023isde3\n",
      "Fetching event 2023isde4\n",
      "Fetching event 2023ksla\n",
      "Fetching event 2023lake\n",
      "Fetching event 2023mabos\n",
      "Fetching event 2023mabri\n",
      "Fetching event 2023marea\n",
      "Fetching event 2023mawne\n",
      "Fetching event 2023mawor\n",
      "Fetching event 2023mdbet\n",
      "Fetching event 2023mdtim\n",
      "Fetching event 2023mibel\n",
      "Fetching event 2023micmp\n",
      "Fetching event 2023midet\n",
      "Fetching event 2023midtr\n",
      "Fetching event 2023miesc\n",
      "Fetching event 2023mifor\n",
      "Fetching event 2023mijac\n",
      "Fetching event 2023mike2\n",
      "Fetching event 2023miken\n",
      "Fetching event 2023miket\n",
      "Fetching event 2023mikk\n",
      "Fetching event 2023mikk2\n",
      "Fetching event 2023mila2\n",
      "Fetching event 2023milak\n",
      "Fetching event 2023milan\n",
      "Fetching event 2023miliv\n",
      "Fetching event 2023milsu\n",
      "Fetching event 2023mimcc\n",
      "Fetching event 2023mimid\n",
      "Fetching event 2023mimil\n",
      "Fetching event 2023mimus\n",
      "Fetching event 2023misal\n",
      "Fetching event 2023misjo\n",
      "Fetching event 2023mista\n",
      "Fetching event 2023mitr2\n",
      "Fetching event 2023mitry\n",
      "Fetching event 2023mitvc\n",
      "Fetching event 2023miwmi\n",
      "Fetching event 2023mndu\n",
      "Fetching event 2023mndu2\n",
      "Fetching event 2023mnkk\n",
      "Fetching event 2023mnmi\n",
      "Fetching event 2023mnmi2\n",
      "Fetching event 2023mnwz\n",
      "Fetching event 2023mokc\n",
      "Fetching event 2023mose\n",
      "Fetching event 2023mosl\n",
      "Fetching event 2023mrcmp\n",
      "Fetching event 2023mslr\n",
      "Fetching event 2023mxmo\n",
      "Fetching event 2023mxpu\n",
      "Fetching event 2023mxto\n",
      "Fetching event 2023ncash\n",
      "Fetching event 2023nccmp\n",
      "Fetching event 2023ncjoh\n",
      "Fetching event 2023ncmec\n",
      "Fetching event 2023ncpem\n",
      "Fetching event 2023ncwak\n",
      "Fetching event 2023ndgf\n",
      "Fetching event 2023necmp\n",
      "Fetching event 2023nhdur\n",
      "Fetching event 2023nhgrs\n",
      "Fetching event 2023njfla\n",
      "Fetching event 2023njrob\n",
      "Fetching event 2023njski\n",
      "Fetching event 2023njtab\n",
      "Fetching event 2023njwas\n",
      "Fetching event 2023nvlv\n",
      "Fetching event 2023nyli\n",
      "Fetching event 2023nyli2\n",
      "Fetching event 2023nyny\n",
      "Fetching event 2023nyro\n",
      "Fetching event 2023nyrra\n",
      "Fetching event 2023nytr\n",
      "Fetching event 2023nywz\n",
      "Fetching event 2023ohcl\n",
      "Fetching event 2023ohmv\n",
      "Fetching event 2023okok\n",
      "Fetching event 2023oktu\n",
      "Fetching event 2023onbar\n",
      "Fetching event 2023oncmp\n",
      "Fetching event 2023onham\n",
      "Fetching event 2023onlon\n",
      "Fetching event 2023onnew\n",
      "Fetching event 2023onnob\n",
      "Fetching event 2023ontor\n",
      "Fetching event 2023onwat\n",
      "Fetching event 2023onwin\n",
      "Fetching event 2023orore\n",
      "Fetching event 2023orsal\n",
      "Fetching event 2023orwil\n",
      "Fetching event 2023paben\n",
      "Fetching event 2023paca\n",
      "Fetching event 2023pahat\n",
      "Fetching event 2023paphi\n",
      "Fetching event 2023pncmp\n",
      "Fetching event 2023qcmo\n",
      "Fetching event 2023rinsc\n",
      "Fetching event 2023scand\n",
      "Fetching event 2023schar\n",
      "Fetching event 2023tnkn\n",
      "Fetching event 2023tuhc\n",
      "Fetching event 2023tuis\n",
      "Fetching event 2023tuis2\n",
      "Fetching event 2023tuis3\n",
      "Fetching event 2023txama\n",
      "Fetching event 2023txbel\n",
      "Fetching event 2023txcha\n",
      "Fetching event 2023txcle\n",
      "Fetching event 2023txcmp\n",
      "Fetching event 2023txdal\n",
      "Fetching event 2023txfor\n",
      "Fetching event 2023txhou\n",
      "Fetching event 2023txsan\n",
      "Fetching event 2023txwac\n",
      "Fetching event 2023utwv\n",
      "Fetching event 2023vaale\n",
      "Fetching event 2023vabla\n",
      "Fetching event 2023vagle\n",
      "Fetching event 2023vapor\n",
      "Fetching event 2023waahs\n",
      "Fetching event 2023wabon\n",
      "Fetching event 2023wasam\n",
      "Fetching event 2023wasno\n",
      "Fetching event 2023wayak\n",
      "Fetching event 2023week0\n",
      "Fetching event 2023wila\n",
      "Fetching event 2023wimi\n",
      "Fetching event 2023wisr\n",
      "Fetching event 2023wiwz\n",
      "Fetching event 2023zhha\n"
     ]
    }
   ],
   "source": [
    "from __future__ import print_function\n",
    "import pickle\n",
    "#import time\n",
    "import sys\n",
    "from collections import Counter\n",
    "from tqdm import tqdm\n",
    "\n",
    "sys.path.append('..')\n",
    "import swagger_client as v3client\n",
    "from swagger_client.rest import ApiException\n",
    "\n",
    "# If you fetch_matches best to set reset=True or you may miss some events.\n",
    "fetch_matches = True\n",
    "reset = True\n",
    "year = 2023\n",
    "\n",
    "if fetch_matches:\n",
    "    from fetchMatches import fetch_all_matches\n",
    "    # This will save to matches_{year}.pkl\n",
    "    fetch_all_matches(year, reset=reset)\n"
   ]
  },
  {
   "cell_type": "code",
   "execution_count": 2,
   "metadata": {},
   "outputs": [],
   "source": [
    "# load all the matches\n",
    "\n",
    "filename = f'matches_{year}.pkl'\n",
    "matches = []\n",
    "with open(filename, 'rb') as f:\n",
    "    matches = pickle.load(f)"
   ]
  },
  {
   "cell_type": "code",
   "execution_count": 3,
   "metadata": {},
   "outputs": [
    {
     "data": {
      "text/plain": [
       "['2023orore',\n",
       " '2023orsal',\n",
       " '2023orwil',\n",
       " '2023pncmp',\n",
       " '2023waahs',\n",
       " '2023wabon',\n",
       " '2023wasam',\n",
       " '2023wasno',\n",
       " '2023wayak']"
      ]
     },
     "execution_count": 3,
     "metadata": {},
     "output_type": "execute_result"
    }
   ],
   "source": [
    "# [m for m in matches['events'] if m.address and 'Spokane' in m.address]\n",
    "#[m for m in matches['events'] if 'pnc' in m.key]\n",
    "pnw_district = [m.key for m in matches['events'] if m.district and m.district.abbreviation=='pnw']\n",
    "pnw_district"
   ]
  },
  {
   "cell_type": "markdown",
   "metadata": {},
   "source": [
    "Filter the matches to completed matches"
   ]
  },
  {
   "cell_type": "code",
   "execution_count": 4,
   "metadata": {},
   "outputs": [
    {
     "name": "stdout",
     "output_type": "stream",
     "text": [
      "Found 7234 matches\n",
      "PNW Teams: ['frc1294', 'frc1318', 'frc1359', 'frc1425', 'frc1432', 'frc1540', 'frc1595', 'frc1778', 'frc1899', 'frc1983', 'frc2046', 'frc2097', 'frc2147', 'frc2374', 'frc2412', 'frc2471', 'frc2521', 'frc2522', 'frc2550', 'frc2557', 'frc2635', 'frc2733', 'frc2811', 'frc2898', 'frc2903', 'frc2907', 'frc2910', 'frc2915', 'frc2926', 'frc2928', 'frc2929', 'frc2930', 'frc2976', 'frc2980', 'frc2990', 'frc3024', 'frc3049', 'frc3218', 'frc3219', 'frc3268', 'frc3393', 'frc3588', 'frc360', 'frc3636', 'frc3663', 'frc3673', 'frc3674', 'frc3681', 'frc3711', 'frc3712', 'frc3786', 'frc3826', 'frc3876', 'frc4043', 'frc4060', 'frc4061', 'frc4089', 'frc4104', 'frc4125', 'frc4127', 'frc4131', 'frc4173', 'frc4450', 'frc4469', 'frc4488', 'frc4512', 'frc4513', 'frc4579', 'frc4662', 'frc4681', 'frc4682', 'frc4692', 'frc488', 'frc4911', 'frc4915', 'frc4918', 'frc492', 'frc4980', 'frc5295', 'frc5468', 'frc5588', 'frc568', 'frc5683', 'frc5920', 'frc5937', 'frc5941', 'frc5970', 'frc5975', 'frc6076', 'frc6343', 'frc6350', 'frc6443', 'frc6465', 'frc6696', 'frc6831', 'frc6845', 'frc7034', 'frc7461', 'frc753', 'frc7627', 'frc8248', 'frc8302', 'frc8303', 'frc8386', 'frc847', 'frc8532', 'frc8896', 'frc9023', 'frc9036', 'frc948', 'frc949', 'frc955', 'frc957', 'frc997']\n"
     ]
    }
   ],
   "source": [
    "non_empty = [k for k in matches['matches'].keys() if len(matches['matches'][k])>0]\n",
    "data = [m for k in matches['matches'] for m in matches['matches'][k]]\n",
    "data = [m for m in data if m.winning_alliance!='' and m.score_breakdown is not None]\n",
    "print(f'Found {len(data)} matches')\n",
    "\n",
    "pnw_teams = set()\n",
    "for m in [m for m in data if m.event_key in pnw_district]:\n",
    "    for t in m.alliances.red.team_keys:\n",
    "        pnw_teams.add(t)\n",
    "    for t in m.alliances.blue.team_keys:\n",
    "        pnw_teams.add(t)\n",
    "    \n",
    "pnw_teams = list(sorted(pnw_teams))\n",
    "print(f'PNW Teams: {pnw_teams}')\n",
    "#red = [x for m in data for x in m.alliances.red.team_keys]\n",
    "#blue = [x for m in data for x in m.alliances.blue.team_keys]\n",
    "#from collections import Counter\n",
    "#Counter(red+blue)"
   ]
  },
  {
   "cell_type": "code",
   "execution_count": 5,
   "metadata": {},
   "outputs": [
    {
     "data": {
      "text/plain": [
       "Counter({'f': 196, 'qm': 5921, 'sf': 1117})"
      ]
     },
     "execution_count": 5,
     "metadata": {},
     "output_type": "execute_result"
    }
   ],
   "source": [
    "# Finals, quarterfinales, qualifiers, semifinals\n",
    "Counter([x.comp_level for x in data])"
   ]
  },
  {
   "cell_type": "code",
   "execution_count": 6,
   "metadata": {},
   "outputs": [],
   "source": [
    "# We'll only train based on qualifier matches\n",
    "\n",
    "qualifiers = [x for x in data if x.comp_level=='qm'] "
   ]
  },
  {
   "cell_type": "markdown",
   "metadata": {},
   "source": [
    "Create aggregate team statistics for all teams, and a separate set for PNW teams"
   ]
  },
  {
   "cell_type": "code",
   "execution_count": 7,
   "metadata": {},
   "outputs": [],
   "source": [
    "\n",
    "from featurization import addMatch\n",
    "\n",
    "teamAggregates = {}\n",
    "pnwAggregates  = {}\n",
    "\n",
    "\n",
    "import re\n",
    "\n",
    "\n",
    "for m in qualifiers:    \n",
    "    for t in m.alliances.red.team_keys:\n",
    "        addMatch(t, m, teamAggregates)\n",
    "        if m.event_key in pnw_district:\n",
    "            addMatch(t, m, pnwAggregates)\n",
    "    for t in m.alliances.blue.team_keys:\n",
    "        addMatch(t,m, teamAggregates)\n",
    "        if m.event_key in pnw_district:\n",
    "            addMatch(t, m, pnwAggregates)\n",
    "        \n",
    "# normalize the aggregates -- TODO: move all this code to featurization.py\n",
    "def normalize(aggregates):\n",
    "    for t in aggregates:\n",
    "        for k in aggregates[t]:\n",
    "            if k=='totalMatches':\n",
    "                continue\n",
    "            aggregates[t][k]/=aggregates[t]['totalMatches']\n",
    "        aggregates[t]['totalMatches'] = 1.0\n",
    "\n",
    "normalize(teamAggregates)\n",
    "normalize(pnwAggregates)\n",
    "\n",
    "with open('teamStats_2023.pkl','wb') as f:\n",
    "    pickle.dump(teamAggregates,f)"
   ]
  },
  {
   "cell_type": "code",
   "execution_count": 8,
   "metadata": {},
   "outputs": [
    {
     "data": {
      "text/plain": [
       "Counter({'2023orore': 84,\n",
       "         '2023orwil': 69,\n",
       "         '2023wabon': 76,\n",
       "         '2023wasno': 83,\n",
       "         '2023wayak': 69})"
      ]
     },
     "execution_count": 8,
     "metadata": {},
     "output_type": "execute_result"
    }
   ],
   "source": [
    "Counter([m.event_key for m in data if m.event_key in pnw_district])"
   ]
  },
  {
   "cell_type": "markdown",
   "metadata": {},
   "source": [
    "Now we have statistics for every team.  We can use this to generate features for every match."
   ]
  },
  {
   "cell_type": "code",
   "execution_count": 9,
   "metadata": {},
   "outputs": [
    {
     "name": "stderr",
     "output_type": "stream",
     "text": [
      "100%|████████████████████████████████████████████████████████████████████████████| 7234/7234 [00:05<00:00, 1298.49it/s]\n"
     ]
    }
   ],
   "source": [
    "from featurization import featurizeMatch, invertMatch\n",
    "features = []\n",
    "\n",
    "for m in tqdm(data):\n",
    "    f = featurizeMatch(m, teamAggregates)\n",
    "    features.append(f)\n",
    "    #features.append(invertMatch(f))\n",
    "    \n"
   ]
  },
  {
   "cell_type": "code",
   "execution_count": 10,
   "metadata": {},
   "outputs": [
    {
     "data": {
      "text/plain": [
       "7234"
      ]
     },
     "execution_count": 10,
     "metadata": {},
     "output_type": "execute_result"
    }
   ],
   "source": [
    "len(features)"
   ]
  },
  {
   "cell_type": "code",
   "execution_count": 11,
   "metadata": {},
   "outputs": [
    {
     "name": "stdout",
     "output_type": "stream",
     "text": [
      "5921 training examples and 1313 test\n"
     ]
    }
   ],
   "source": [
    "from sklearn.feature_extraction import DictVectorizer\n",
    "# create train and test sets\n",
    "train = []\n",
    "trainY = []\n",
    "test = []\n",
    "testY = []\n",
    "\n",
    "for m in features:    \n",
    "    if 'event' not in m:\n",
    "        print(m)\n",
    "    event = m['event']\n",
    "    comp_level = m['comp_level']\n",
    "    del m['event']\n",
    "    del m['comp_level']\n",
    "    \n",
    "    label = m['label']\n",
    "    del m['label']\n",
    "    \n",
    "    # Train on qualifiers. Test on everything else.\n",
    "    if comp_level!='qm':\n",
    "        test.append(m)\n",
    "        testY.append(label)\n",
    "    else:\n",
    "        train.append(m)\n",
    "        trainY.append(label)\n",
    "        \n",
    "vectorizer = DictVectorizer()\n",
    "trainX = vectorizer.fit_transform(train)\n",
    "testX = vectorizer.transform(test)\n",
    "\n",
    "print('{} training examples and {} test'.format(len(train),len(test)))\n"
   ]
  },
  {
   "cell_type": "code",
   "execution_count": 12,
   "metadata": {},
   "outputs": [
    {
     "name": "stdout",
     "output_type": "stream",
     "text": [
      "accuracy: 0.6953541507996953\n"
     ]
    }
   ],
   "source": [
    "from sklearn.ensemble import RandomForestClassifier\n",
    "classifier = RandomForestClassifier(n_estimators=100, random_state=0, min_samples_split=3)  \n",
    "classifier.fit(trainX,trainY)\n",
    "forest_predictions= classifier.predict(testX)\n",
    "forest_scores = classifier.predict_proba(testX)\n",
    "import numpy as np\n",
    "from sklearn.metrics import accuracy_score\n",
    "#np.sum(np.abs(scores-Ytest))\n",
    "print('accuracy: {}'.format(accuracy_score(testY, forest_predictions)))\n",
    "#list(zip(forest_scores[:,1],testY))\n",
    "\n",
    "# Save the model\n",
    "model_fn = 'model_2023_forest.pkl'\n",
    "with open(model_fn, 'wb') as outF:\n",
    "    pickle.dump((vectorizer,classifier), outF)\n"
   ]
  },
  {
   "cell_type": "markdown",
   "metadata": {},
   "source": [
    "Let's look at the feature importances. They tell us how useful a specific feature is."
   ]
  },
  {
   "cell_type": "code",
   "execution_count": 13,
   "metadata": {},
   "outputs": [
    {
     "name": "stdout",
     "output_type": "stream",
     "text": [
      "Feature ranking:\n"
     ]
    },
    {
     "data": {
      "image/png": "[encoded data removed]",
      "text/plain": [
       "<Figure size 1440x720 with 1 Axes>"
      ]
     },
     "metadata": {
      "needs_background": "light"
     },
     "output_type": "display_data"
    }
   ],
   "source": [
    "topN = 20\n",
    "importances = classifier.feature_importances_\n",
    "std = np.std([tree.feature_importances_ for tree in classifier.estimators_],\n",
    "             axis=0)\n",
    "indices = np.argsort(importances)[::-1][:topN]\n",
    "names = vectorizer.feature_names_\n",
    "\n",
    "# Print the feature ranking\n",
    "print(\"Feature ranking:\")\n",
    "\n",
    "#for f in range(trainX.shape[1]):\n",
    "#    print(\"%d. %s (%f)\" % (f + 1, names[indices[f]], importances[indices[f]]))\n",
    "colors = [names[indices[f]].split('_')[0] for f in range(topN)]\n",
    "labels = [names[indices[f]].replace('Count','').replace('Points','').replace('red','r').replace('blue','b') for f in range(topN)]\n",
    "# Plot the feature importances of the forest\n",
    "%matplotlib inline\n",
    "import matplotlib.pyplot as plt\n",
    "plt.rcParams[\"figure.figsize\"] = (20, 10)\n",
    "plt.figure()\n",
    "plt.title(\"Feature importances\")\n",
    "plt.bar(range(topN), importances[indices],\n",
    "       color=colors, \n",
    "        #yerr=std[indices], \n",
    "        align=\"center\")\n",
    "plt.xticks(range(topN), labels, rotation='vertical', fontsize='large')\n",
    "    \n",
    "plt.xlim([-1, topN])\n",
    "plt.subplots_adjust(bottom=0.5)\n",
    "#plt.legend()\n",
    "plt.show()"
   ]
  },
  {
   "cell_type": "code",
   "execution_count": 14,
   "metadata": {},
   "outputs": [],
   "source": [
    "def percentile(dictionary, key):\n",
    "    teams = [t for t in dictionary]\n",
    "    values = [dictionary[t][key] for t in dictionary]\n",
    "    ranks = sorted(range(len(values)), key=lambda x: values[x])\n",
    "    return dict([(teams[ranks[i]], i*100/len(values)) for i in range(len(ranks))])    \n",
    "\n",
    "raw = dict([(k, percentile(teamAggregates,k)) for k in teamAggregates['frc1153']])\n",
    "#stats = dict([(k,percentile(teamAggregates,k)['frc1153']) for k in teamAggregates['frc1153']])"
   ]
  },
  {
   "cell_type": "markdown",
   "metadata": {},
   "source": [
    "The next cell enables comparisons between two teams."
   ]
  },
  {
   "cell_type": "code",
   "execution_count": 28,
   "metadata": {},
   "outputs": [
    {
     "data": {
      "image/png": "[encoded data removed]",
      "text/plain": [
       "<Figure size 1440x720 with 1 Axes>"
      ]
     },
     "metadata": {
      "needs_background": "light"
     },
     "output_type": "display_data"
    }
   ],
   "source": [
    "import matplotlib.pyplot as plt\n",
    "import numpy as np\n",
    "\n",
    "objects = [k for k in raw]\n",
    "y_pos = np.arange(len(objects))\n",
    "#performance = [[raw[k]['frc492'],raw[k]['frc2910']] for k in stats]\n",
    "#performance\n",
    "t1 = 'frc1153'\n",
    "t2 = 'frc238'\n",
    "plt.figure()\n",
    "plt.bar(y_pos, [raw[k][t1] for k in raw], alpha=0.5, width=0.25)\n",
    "plt.bar(y_pos+0.25, [raw[k][t2] for k in raw], alpha=0.5, width=0.25)\n",
    "plt.xticks(y_pos, objects, rotation=90, fontsize='x-small')\n",
    "plt.subplots_adjust(bottom=0.5)\n",
    "plt.ylabel('Percentile')\n",
    "plt.title('Stats summary')\n",
    "plt.legend([t1,t2])\n",
    "\n",
    "plt.show()\n"
   ]
  },
  {
   "cell_type": "markdown",
   "metadata": {},
   "source": [
    "So far our best score at predicting the districts is about 70% using RandomForests.  Next time we can explore hyperparameter tuning and also predicting which alliances would have been the best ones for us to join."
   ]
  },
  {
   "cell_type": "markdown",
   "metadata": {},
   "source": [
    "Next steps: for a given event we want to decide how to prioritize alliance choices.  Suppose we have all the data to date, as well as all the qualifier data for the event. Who should we choose as partners?"
   ]
  },
  {
   "cell_type": "code",
   "execution_count": 16,
   "metadata": {},
   "outputs": [
    {
     "name": "stdout",
     "output_type": "stream",
     "text": [
      "There are 27 teams at this event\n"
     ]
    },
    {
     "name": "stderr",
     "output_type": "stream",
     "text": [
      "100%|██████████████████████████████████████████████████████████████████████████████████| 66/66 [00:24<00:00,  2.71it/s]\n"
     ]
    },
    {
     "name": "stdout",
     "output_type": "stream",
     "text": [
      "Running 33000 predictions\n",
      "('frc492', 'frc2926', 'frc8532') 54.25848333333331\n",
      "('frc492', 'frc4060', 'frc8532') 50.45009999999992\n",
      "('frc492', 'frc2926', 'frc4060') 47.83176666666667\n",
      "('frc492', 'frc4513', 'frc8532') 47.01335000000001\n",
      "('frc492', 'frc2926', 'frc4513') 46.70484999999999\n",
      "('frc492', 'frc3826', 'frc8532') 45.9664333333333\n",
      "('frc492', 'frc2926', 'frc3826') 45.89368333333334\n",
      "('frc492', 'frc2926', 'frc4692') 45.43391666666666\n",
      "('frc492', 'frc4060', 'frc4692') 44.395033333333345\n",
      "('frc492', 'frc4692', 'frc8532') 43.59631666666665\n",
      "('frc492', 'frc4060', 'frc4513') 42.81433333333332\n",
      "('frc492', 'frc3826', 'frc4060') 41.9713333333333\n",
      "('frc492', 'frc3826', 'frc4692') 38.68586666666666\n",
      "('frc492', 'frc4513', 'frc4692') 38.349333333333306\n",
      "('frc492', 'frc6831', 'frc8532') 37.83790000000001\n",
      "('frc492', 'frc3826', 'frc4513') 37.284033333333404\n",
      "('frc492', 'frc2926', 'frc3876') 36.541783333333335\n",
      "('frc492', 'frc2926', 'frc6831') 36.35723333333334\n",
      "('frc492', 'frc3876', 'frc8532') 34.7104166666667\n",
      "('frc492', 'frc3876', 'frc4060') 33.78458333333332\n",
      "('frc492', 'frc4060', 'frc6831') 33.42886666666669\n",
      "('frc492', 'frc4104', 'frc8532') 31.382816666666667\n",
      "('frc492', 'frc4692', 'frc6831') 31.344166666666652\n",
      "('frc492', 'frc3712', 'frc8532') 30.629299999999986\n",
      "('frc492', 'frc3826', 'frc3876') 30.16918333333332\n",
      "('frc492', 'frc2926', 'frc4104') 30.1366666666667\n",
      "('frc492', 'frc4513', 'frc6831') 29.6439\n",
      "('frc492', 'frc3712', 'frc4060') 29.030866666666697\n",
      "('frc492', 'frc3876', 'frc4692') 29.01953333333335\n",
      "('frc492', 'frc2926', 'frc3712') 28.974599999999988\n",
      "('frc492', 'frc3826', 'frc6831') 28.11316666666665\n",
      "('frc492', 'frc4060', 'frc4104') 27.981099999999998\n",
      "('frc492', 'frc3876', 'frc4513') 27.066100000000013\n",
      "('frc492', 'frc4104', 'frc4692') 26.83723333333332\n",
      "('frc492', 'frc4692', 'frc6076') 26.44983333333331\n",
      "('frc492', 'frc3826', 'frc4104') 25.906749999999988\n",
      "('frc492', 'frc2926', 'frc6076') 25.25226666666665\n",
      "('frc492', 'frc4060', 'frc4125') 25.14229999999999\n",
      "('frc492', 'frc3712', 'frc4692') 25.088166666666677\n",
      "('frc492', 'frc3712', 'frc3826') 24.989033333333342\n",
      "('frc492', 'frc6076', 'frc8532') 24.815700000000003\n",
      "('frc492', 'frc4104', 'frc4513') 24.669383333333318\n",
      "('frc492', 'frc4125', 'frc8532') 24.141133333333315\n",
      "('frc492', 'frc3876', 'frc6831') 23.24233333333333\n",
      "('frc492', 'frc4060', 'frc6076') 23.19530000000001\n",
      "('frc492', 'frc3826', 'frc4125') 22.930699999999987\n",
      "('frc492', 'frc3712', 'frc4513') 22.91913333333335\n",
      "('frc492', 'frc4125', 'frc4692') 22.24856666666666\n",
      "('frc492', 'frc4104', 'frc6831') 21.4162\n",
      "('frc492', 'frc2926', 'frc4125') 21.21616666666668\n",
      "('frc492', 'frc4513', 'frc6076') 21.205633333333356\n",
      "('frc492', 'frc3876', 'frc4104') 20.835866666666647\n",
      "('frc492', 'frc3876', 'frc6076') 20.685699999999994\n",
      "('frc492', 'frc3826', 'frc6076') 20.56553333333335\n",
      "('frc492', 'frc4125', 'frc4513') 19.954166666666666\n",
      "('frc492', 'frc3876', 'frc4125') 19.407333333333334\n",
      "('frc492', 'frc3712', 'frc4104') 18.940066666666652\n",
      "('frc492', 'frc3712', 'frc6831') 18.49959999999999\n",
      "('frc492', 'frc4104', 'frc6076') 17.817649999999976\n",
      "('frc492', 'frc6076', 'frc6831') 17.45693333333334\n",
      "('frc492', 'frc3712', 'frc3876') 17.27340000000002\n",
      "('frc492', 'frc4125', 'frc6831') 16.565299999999993\n",
      "('frc492', 'frc4104', 'frc4125') 16.00066666666667\n",
      "('frc492', 'frc4125', 'frc6076') 15.986066666666657\n",
      "('frc492', 'frc3712', 'frc6076') 15.112600000000004\n",
      "('frc492', 'frc3712', 'frc4125') 13.726833333333337\n"
     ]
    }
   ],
   "source": [
    "# optimize alliances for {target_id} at {event} on second pick:\n",
    "import random\n",
    "from tqdm import tqdm\n",
    "from featurization import featurizeAlliances\n",
    "from itertools import combinations\n",
    "\n",
    "event = '2023wayak'\n",
    "target_id = 492\n",
    "teams = set([t for x in \\\n",
    "    [m.alliances.red.team_keys + m.alliances.blue.team_keys for m in matches['matches'][event]] \\\n",
    "        for t in x])\n",
    "print(f'There are {len(teams)} teams at this event')\n",
    "\n",
    "model_fn = 'model_2023_forest.pkl'\n",
    "with open(model_fn, 'rb') as inF:\n",
    "    vectorizer, model = pickle.load(inF)\n",
    "\n",
    "# wasno\n",
    "taken_wasno = [\n",
    "    #2910, 2930, 7627, 488, 4911, # 4915, 1318, 2522 -- for 4911 on their first pick.\n",
    "    2910, 4131, 6443, 1595, 2811, 5920, 5468, 492, 2147, 1318, 955, 3711, 7461, 4061, 4980\n",
    "]\n",
    "\n",
    "\n",
    "taken = list(map(lambda x: f'frc{x}', taken_wasno))\n",
    "\n",
    "# set to just ['frc492'] if you're ranking pairs\n",
    "target = [f'frc{target_id}']\n",
    "# target = ['frc492', 'frc1899']\n",
    "\n",
    "# If you are ranking pairs\n",
    "if len(target)==1:\n",
    "    partners = [[x,y] for x in teams if x!=target for y in teams if y!=target if x<y and x not in taken and y not in taken]\n",
    "else:\n",
    "    partners = [[x] for x in teams if x not in taken]\n",
    "results = {}\n",
    "features = []\n",
    "alliances = []\n",
    "trials = 500 \n",
    "\n",
    "# iterate through all the potential pairs of partners. \n",
    "# For each pair, we sample {trials} opponent alliances and assess whether we think they will win.\n",
    "for p in tqdm(partners): \n",
    "    red = target + p  \n",
    "    candidates = [x for x in teams if x not in red]\n",
    "    \n",
    "    # Run trials sampling blue alliances from the remaining teams.\n",
    "    # Here we're sampling any possible alliance, except the members of red.\n",
    "    # We just run {trials} samples because a typical event has about 34 teams, which would yield \n",
    "    # more than 5000 alliances, requiring more than 2 million match predictions in total\n",
    "    \n",
    "    for m in range(trials):\n",
    "        blue = random.sample(candidates, 3)\n",
    "        f = featurizeAlliances(teamAggregates, red, blue)\n",
    "        features.append(f)\n",
    "        alliances.append([red,blue])\n",
    "\n",
    "# run all the simulated matches through the model\n",
    "print(f\"Running {len(features)} predictions\")\n",
    "scores = model.predict_proba(vectorizer.transform(features))\n",
    "results = {}\n",
    "for (p,_), score in zip(alliances, scores): \n",
    "    p = tuple(p)\n",
    "    if p not in results:\n",
    "        results[p] = 0\n",
    "    results[p] += score[1]    \n",
    "\n",
    "\n",
    "for r in list(sorted(results, key=lambda x: results[x], reverse=True))[:100]:\n",
    "    print(r, results[r]*100/trials)"
   ]
  },
  {
   "cell_type": "code",
   "execution_count": 17,
   "metadata": {},
   "outputs": [
    {
     "name": "stdout",
     "output_type": "stream",
     "text": [
      "[(1, 'frc2910'), (2, 'frc2147'), (3, 'frc4131'), (4, 'frc6443'), (5, 'frc955'), (6, 'frc1595'), (7, 'frc3711'), (8, 'frc1318'), (9, 'frc2811'), (10, 'frc5920'), (11, 'frc5468'), (12, 'frc4061'), (13, 'frc492'), (14, 'frc7461'), (15, 'frc2926'), (16, 'frc4513'), (17, 'frc3826'), (18, 'frc4980'), (19, 'frc4060'), (20, 'frc4104'), (21, 'frc3712'), (22, 'frc4692'), (23, 'frc3876'), (24, 'frc8532'), (25, 'frc6831'), (26, 'frc4125'), (27, 'frc6076')]\n",
      "['frc2910', 'frc2147', 'frc4131', 'frc6443', 'frc955', 'frc1595', 'frc3711', 'frc1318', 'frc2811', 'frc5920', 'frc5468', 'frc4061', 'frc492']\n",
      "['frc2910', 'frc2147', 'frc4131', 'frc6443', 'frc955', 'frc1595', 'frc3711', 'frc1318', 'frc2811', 'frc5920', 'frc5468', 'frc4061', 'frc492', 'frc7461', 'frc2926', 'frc4513', 'frc3826', 'frc4980', 'frc4060', 'frc4104', 'frc3712', 'frc4692', 'frc3876', 'frc8532', 'frc6831']\n"
     ]
    }
   ],
   "source": [
    "# Districts\n",
    "import random\n",
    "from tqdm import tqdm\n",
    "\n",
    "# Districts event key is '2022pncmp': update this on Friday night\n",
    "#event = '2022pncmp'\n",
    "event = '2023wayak'\n",
    "\n",
    "# Fetch the event rankings so far.\n",
    "from fetchMatches import fetch_event_rankings\n",
    "rankings = fetch_event_rankings(event)\n",
    "\n",
    "print([(r.rank, r.team_key) for r in rankings.rankings])\n",
    "teams = [r.team_key for r in rankings.rankings]\n",
    "\n",
    "rank_492 = [r.rank for r in rankings.rankings if r.team_key==f'frc{target_id}'][0]\n",
    "prior_taken = teams[:rank_492]\n",
    "print(prior_taken)\n",
    "teams_ahead = rank_492-1\n",
    "all_taken = teams[:rank_492+teams_ahead]\n",
    "print(all_taken)\n",
    "\n",
    "rankings_dict = dict([(r.team_key, r.rank) for r in rankings.rankings])"
   ]
  },
  {
   "cell_type": "code",
   "execution_count": 19,
   "metadata": {},
   "outputs": [
    {
     "name": "stderr",
     "output_type": "stream",
     "text": [
      "\r",
      "  0%|                                                                                          | 0/325 [00:00<?, ?it/s]"
     ]
    },
    {
     "name": "stdout",
     "output_type": "stream",
     "text": [
      "{'frc7461', 'frc4061', 'frc6443', 'frc4104', 'frc4125', 'frc3826', 'frc4060', 'frc6076', 'frc5468', 'frc4692', 'frc2811', 'frc3711', 'frc8532', 'frc5920', 'frc492', 'frc2910', 'frc955', 'frc1595', 'frc6831', 'frc1318', 'frc3712', 'frc4513', 'frc4980', 'frc3876', 'frc4131', 'frc2926', 'frc2147'}\n"
     ]
    },
    {
     "name": "stderr",
     "output_type": "stream",
     "text": [
      "100%|████████████████████████████████████████████████████████████████████████████████| 325/325 [03:55<00:00,  1.38it/s]\n"
     ]
    },
    {
     "name": "stdout",
     "output_type": "stream",
     "text": [
      "('frc492', 'frc2147', 'frc955') 81.24183333333356\n",
      "('frc492', 'frc2147', 'frc2910') 81.22191666666677\n",
      "('frc492', 'frc2910', 'frc955') 81.1941\n",
      "('frc492', 'frc1318', 'frc2910') 81.13791666666678\n",
      "('frc492', 'frc2910', 'frc4131') 80.67711666666656\n",
      "('frc492', 'frc2910', 'frc3711') 80.41599999999995\n",
      "('frc492', 'frc2910', 'frc4513') 79.92028333333339\n",
      "('frc492', 'frc2910', 'frc6443') 79.91083333333336\n",
      "('frc492', 'frc2910', 'frc4980') 79.75003333333345\n",
      "('frc492', 'frc2910', 'frc2926') 79.6045833333335\n",
      "('frc492', 'frc2910', 'frc5920') 79.56646666666673\n",
      "('frc492', 'frc1595', 'frc2910') 79.50251666666678\n",
      "('frc492', 'frc2910', 'frc4060') 79.25597500000013\n",
      "('frc492', 'frc2910', 'frc8532') 79.02659999999996\n",
      "('frc492', 'frc2147', 'frc3711') 78.97663333333347\n",
      "('frc492', 'frc2147', 'frc7461') 78.94035000000004\n",
      "('frc492', 'frc2910', 'frc4061') 78.83118333333358\n",
      "('frc492', 'frc1318', 'frc2147') 78.8275333333336\n",
      "('frc492', 'frc2811', 'frc2910') 78.4635\n",
      "('frc492', 'frc2910', 'frc6831') 78.36760000000015\n",
      "('frc492', 'frc2910', 'frc5468') 78.30096666666678\n",
      "('frc492', 'frc2910', 'frc3876') 78.1322333333333\n",
      "('frc492', 'frc1318', 'frc3711') 77.98043333333352\n",
      "('frc492', 'frc2147', 'frc4131') 77.20235000000007\n",
      "('frc492', 'frc3711', 'frc955') 76.97960000000018\n",
      "('frc492', 'frc2910', 'frc4692') 76.18128333333327\n",
      "('frc492', 'frc1318', 'frc955') 75.88575000000012\n",
      "('frc492', 'frc2910', 'frc3826') 75.7480333333333\n",
      "('frc492', 'frc2910', 'frc3712') 75.46610000000005\n",
      "('frc492', 'frc1318', 'frc7461') 74.42989999999993\n",
      "('frc492', 'frc2910', 'frc7461') 74.37441666666668\n",
      "('frc492', 'frc2147', 'frc6443') 73.7164333333334\n",
      "('frc492', 'frc2910', 'frc4104') 73.68396666666676\n",
      "('frc492', 'frc3711', 'frc7461') 73.67349999999999\n",
      "('frc492', 'frc3711', 'frc4131') 73.53866666666667\n",
      "('frc492', 'frc6443', 'frc955') 73.10016666666662\n",
      "('frc492', 'frc4131', 'frc955') 73.0553333333333\n",
      "('frc492', 'frc1318', 'frc4131') 72.84141666666675\n",
      "('frc492', 'frc2910', 'frc6076') 72.70908333333352\n",
      "('frc492', 'frc7461', 'frc955') 72.47153333333334\n",
      "('frc492', 'frc3711', 'frc6443') 72.29656666666669\n",
      "('frc492', 'frc2147', 'frc8532') 71.2879500000002\n",
      "('frc492', 'frc2811', 'frc955') 71.22065000000003\n",
      "('frc492', 'frc1318', 'frc6443') 71.12155000000018\n",
      "('frc492', 'frc2147', 'frc2926') 71.03735000000016\n",
      "('frc492', 'frc4131', 'frc6443') 71.0074833333334\n",
      "('frc492', 'frc2147', 'frc2811') 70.79198333333342\n",
      "('frc492', 'frc1318', 'frc2811') 70.38711666666674\n",
      "('frc492', 'frc3711', 'frc8532') 69.17541666666678\n",
      "('frc492', 'frc4131', 'frc7461') 68.85790000000009\n",
      "('frc492', 'frc8532', 'frc955') 68.8232833333332\n",
      "('frc492', 'frc2926', 'frc3711') 68.73295000000009\n",
      "('frc492', 'frc2811', 'frc4131') 68.68320000000003\n",
      "('frc492', 'frc6443', 'frc7461') 68.39125000000003\n",
      "('frc492', 'frc3711', 'frc4061') 68.36833333333335\n",
      "('frc492', 'frc2147', 'frc4060') 68.29990000000005\n",
      "('frc492', 'frc2147', 'frc5468') 67.45728333333342\n",
      "('frc492', 'frc1318', 'frc8532') 67.21425000000008\n",
      "('frc492', 'frc2811', 'frc7461') 67.15165000000006\n",
      "('frc492', 'frc1595', 'frc2147') 67.07733333333354\n",
      "('frc492', 'frc2926', 'frc7461') 66.93851666666656\n",
      "('frc492', 'frc4060', 'frc7461') 66.80118333333326\n",
      "('frc492', 'frc2811', 'frc3711') 66.75973333333347\n",
      "('frc492', 'frc4060', 'frc955') 66.66378333333334\n",
      "('frc492', 'frc3711', 'frc4060') 66.45375\n",
      "('frc492', 'frc1318', 'frc2926') 66.34618333333339\n",
      "('frc492', 'frc2147', 'frc3826') 66.11259999999993\n",
      "('frc492', 'frc4061', 'frc955') 65.97976666666654\n",
      "('frc492', 'frc4131', 'frc8532') 65.89857500000002\n",
      "('frc492', 'frc1595', 'frc3711') 65.82541666666677\n",
      "('frc492', 'frc1595', 'frc7461') 65.77461666666665\n",
      "('frc492', 'frc2926', 'frc4131') 65.6278583333334\n",
      "('frc492', 'frc3711', 'frc4513') 65.57206666666673\n",
      "('frc492', 'frc3711', 'frc5468') 65.1531333333334\n",
      "('frc492', 'frc7461', 'frc8532') 64.97353333333321\n",
      "('frc492', 'frc5920', 'frc955') 64.68026666666671\n",
      "('frc492', 'frc2926', 'frc955') 64.62181666666663\n",
      "('frc492', 'frc2147', 'frc4061') 64.60201666666676\n",
      "('frc492', 'frc2147', 'frc5920') 64.52166666666677\n",
      "('frc492', 'frc2811', 'frc6443') 64.34285000000004\n",
      "('frc492', 'frc2910', 'frc4125') 64.07548333333334\n",
      "('frc492', 'frc1318', 'frc1595') 63.99704166666677\n",
      "('frc492', 'frc4060', 'frc4131') 63.77270000000002\n",
      "('frc492', 'frc1595', 'frc955') 63.744300000000095\n",
      "('frc492', 'frc1318', 'frc4513') 63.686716666666726\n",
      "('frc492', 'frc5468', 'frc955') 63.61568333333335\n",
      "('frc492', 'frc2926', 'frc6443') 63.54781666666669\n",
      "('frc492', 'frc2147', 'frc4692') 63.48659999999994\n",
      "('frc492', 'frc4061', 'frc4131') 63.391383333333316\n",
      "('frc492', 'frc1595', 'frc4131') 63.2476916666667\n",
      "('frc492', 'frc1318', 'frc3826') 63.078941666666665\n",
      "('frc492', 'frc4513', 'frc955') 63.00841666666679\n",
      "('frc492', 'frc4513', 'frc7461') 62.958266666666674\n",
      "('frc492', 'frc1595', 'frc6443') 62.8738666666667\n",
      "('frc492', 'frc1318', 'frc4060') 62.839833333333424\n",
      "('frc492', 'frc5468', 'frc7461') 62.810433333333314\n",
      "('frc492', 'frc6443', 'frc8532') 62.505133333333376\n",
      "('frc492', 'frc2147', 'frc4980') 62.48999999999987\n",
      "('frc492', 'frc2147', 'frc4513') 62.415199999999984\n",
      "('frc492', 'frc1318', 'frc5920') 62.36453333333332\n"
     ]
    }
   ],
   "source": [
    "# This cell continues with the event key set above.\n",
    "\n",
    "teams = set([t for x in \\\n",
    "    [m.alliances.red.team_keys + m.alliances.blue.team_keys for m in matches['matches'][event]] \\\n",
    "        for t in x])\n",
    "print(teams)\n",
    "model_fn = 'model_2023_forest.pkl'\n",
    "with open(model_fn, 'rb') as inF:\n",
    "    vectorizer, model = pickle.load(inF)\n",
    "\n",
    "# Set to include only 492 when we just want to rank all the potential alliances.\n",
    "taken = [\n",
    "    target_id\n",
    "]\n",
    "\n",
    "\n",
    "taken = list(map(lambda x: f'frc{x}', taken))\n",
    "\n",
    "# set to just ['frc492'] if you're ranking pairs, ['frc492', 'first choice partner'] if you want to rank second choices.\n",
    "target = [f'frc{target_id}']\n",
    "# target = ['frc492', 'frc1899']\n",
    "\n",
    "# If you are ranking pairs\n",
    "if len(target)==1:\n",
    "    partners = [[x,y] for x in teams if x!=target for y in teams if y!=target if x<y and x not in taken and y not in taken]\n",
    "else:\n",
    "    partners = [[x] for x in teams if x not in taken]\n",
    "results = {}\n",
    "features = []\n",
    "alliances = []\n",
    "trials = 1000\n",
    "for p in tqdm(partners): \n",
    "    red = target + p  \n",
    "    candidates = [x for x in teams if x not in red]\n",
    "    \n",
    "    for m in range(trials):\n",
    "        # Here we're sampling any possible alliance, except the members of red.    \n",
    "        blue = random.sample(candidates, 3)\n",
    "        f = featurizeAlliances(teamAggregates, red, blue)\n",
    "        features.append(f)\n",
    "        alliances.append([red,blue])\n",
    "\n",
    "# run all the simulated matches through the model\n",
    "scores = model.predict_proba(vectorizer.transform(features))\n",
    "results = {}\n",
    "for (p,_), score in zip(alliances, scores): \n",
    "    p = tuple(p)\n",
    "    if p not in results:\n",
    "        results[p] = 0\n",
    "    results[p] += score[1]    \n",
    "\n",
    "for p in results:\n",
    "    results[p] = results[p] * 100 / trials\n",
    "\n",
    "for r in list(sorted(results, key=lambda x: results[x], reverse=True))[:100]:\n",
    "    print(r, results[r])"
   ]
  },
  {
   "cell_type": "code",
   "execution_count": null,
   "metadata": {},
   "outputs": [],
   "source": [
    "\n",
    "with open('alliance_rankings.csv', 'w', encoding='utf-8') as outF:\n",
    "    outF.write('a1,a2,a3,p(win),rank1,rank2,rank3\\n')\n",
    "    for (a1,a2,a3) in list(sorted(results, key=lambda x: results[x], reverse=True)):\n",
    "        outF.write('{},{},{},{},{},{},{}\\n'.format(a1,a2,a3,results[(a1,a2,a3)], rankings_dict[a1], rankings_dict[a2], rankings_dict[a3]))\n",
    "\n",
    "ranks = {}\n",
    "for r in results:\n",
    "    for a in r[1:]:\n",
    "        if a not in ranks:\n",
    "            ranks[a] = 0\n",
    "        ranks[a]+=results[r]\n",
    "with open('team_rankings.csv', 'w', encoding='utf-8') as outF:\n",
    "    outF.write('team,score,pnw_rank\\n')\n",
    "    for a in sorted(ranks, key=lambda x: ranks[x], reverse=True):\n",
    "        outF.write('{},{},{}\\n'.format(a,ranks[a], rankings_dict[a]))\n"
   ]
  },
  {
   "cell_type": "code",
   "execution_count": null,
   "metadata": {},
   "outputs": [],
   "source": [
    "# One more using only districts stats\n",
    "# This cell continues with the event key set above.\n",
    "\n",
    "teams = set([t for x in \\\n",
    "    [m.alliances.red.team_keys + m.alliances.blue.team_keys for m in matches['matches'][event]] \\\n",
    "        for t in x])\n",
    "print(teams)\n",
    "model_fn = 'model_2023_forest.pkl'\n",
    "with open(model_fn, 'rb') as inF:\n",
    "    vectorizer, model = pickle.load(inF)\n",
    "\n",
    "# Set to include only 492 when we just want to rank all the potential alliances.\n",
    "taken = [\n",
    "    target_id\n",
    "]\n",
    "\n",
    "\n",
    "taken = list(map(lambda x: f'frc{x}', taken))\n",
    "\n",
    "# set to just ['frc492'] if you're ranking pairs, ['frc492', 'first choice partner'] if you want to rank second choices.\n",
    "target = [f'frc{target_id}']\n",
    "# target = ['frc492', 'frc1899']\n",
    "\n",
    "# If you are ranking pairs\n",
    "if len(target)==1:\n",
    "    partners = [[x,y] for x in teams if x!=target for y in teams if y!=target if x<y and x not in taken and y not in taken]\n",
    "else:\n",
    "    partners = [[x] for x in teams if x not in taken]\n",
    "results = {}\n",
    "features = []\n",
    "alliances = []\n",
    "trials = 1000\n",
    "for p in tqdm(partners): \n",
    "    red = target + p  \n",
    "    candidates = [x for x in teams if x not in red]\n",
    "    \n",
    "    for m in range(trials):\n",
    "        # Here we're sampling any possible alliance, except the members of red.    \n",
    "        blue = random.sample(candidates, 3)\n",
    "        f = featurizeAlliances(red, blue, pnwAggregates)\n",
    "        features.append(f)\n",
    "        alliances.append([red,blue])\n",
    "\n",
    "# run all the simulated matches through the model\n",
    "scores = model.predict_proba(vectorizer.transform(features))\n",
    "results = {}\n",
    "for (p,_), score in zip(alliances, scores): \n",
    "    p = tuple(p)\n",
    "    if p not in results:\n",
    "        results[p] = 0\n",
    "    results[p] += score[1]    \n",
    "\n",
    "for p in results:\n",
    "    results[p] = results[p] * 100 / trials\n",
    "\n",
    "for r in list(sorted(results, key=lambda x: results[x], reverse=True))[:100]:\n",
    "    print(r, results[r])"
   ]
  },
  {
   "cell_type": "code",
   "execution_count": null,
   "metadata": {},
   "outputs": [],
   "source": [
    "\n",
    "with open('pnw_alliance_rankings.csv', 'w', encoding='utf-8') as outF:\n",
    "    outF.write('a1,a2,a3,p(win),rank1,rank2,rank3\\n')\n",
    "    for (a1,a2,a3) in list(sorted(results, key=lambda x: results[x], reverse=True)):\n",
    "        outF.write('{},{},{},{},{},{},{}\\n'.format(a1,a2,a3,results[(a1,a2,a3)], rankings_dict[a1], rankings_dict[a2], rankings_dict[a3]))\n",
    "\n",
    "ranks = {}\n",
    "for r in results:\n",
    "    for a in r[1:]:\n",
    "        if a not in ranks:\n",
    "            ranks[a] = 0\n",
    "        ranks[a]+=results[r]\n",
    "with open('pnw_team_rankings.csv', 'w', encoding='utf-8') as outF:\n",
    "    outF.write('team,score,pnw_rank\\n')\n",
    "    for a in sorted(ranks, key=lambda x: ranks[x], reverse=True):\n",
    "        outF.write('{},{},{}\\n'.format(a,ranks[a], rankings_dict[a]))"
   ]
  },
  {
   "cell_type": "code",
   "execution_count": 26,
   "metadata": {},
   "outputs": [
    {
     "name": "stderr",
     "output_type": "stream",
     "text": [
      "100%|██████████| 1000/1000 [00:27<00:00, 35.76it/s]"
     ]
    },
    {
     "name": "stdout",
     "output_type": "stream",
     "text": [
      "('3636', '2930', '3674') 26.8%\n",
      "('4911', '2910', '3218') 14.1%\n",
      "('4488', '2471', '2522') 13.9%\n",
      "('2990', '955', '360') 12.9%\n",
      "('2046', '2976', '488') 11.9%\n",
      "('5827', '2147', '2557') 8.4%\n",
      "('4089', '1595', '3663') 8.2%\n",
      "('7034', '997', '1899') 3.8%\n"
     ]
    },
    {
     "name": "stderr",
     "output_type": "stream",
     "text": [
      "\n"
     ]
    }
   ],
   "source": [
    "# Brackets\n",
    "import random \n",
    "model_fn = 'model_2023_forest.pkl'\n",
    "with open(model_fn, 'rb') as inF:\n",
    "    vectorizer, model = pickle.load(inF)\n",
    "\n",
    "wins = Counter()\n",
    "\n",
    "trials = 1000\n",
    "for t in tqdm(range(trials)):\n",
    "    # TODO: download from TBA\n",
    "    brackets = list(map(lambda x: list(map(lambda y: f'frc{y}', x)),\n",
    "        [\n",
    "            (4911, 2910, 3218),\n",
    "            (2990, 955, 360),\n",
    "            (5827, 2147, 2557),\n",
    "            (4089, 1595, 3663),\n",
    "            (2046, 2976, 488),\n",
    "            (7034, 997, 1899),\n",
    "            (4488, 2471, 2522),\n",
    "            (3636, 2930, 3674)\n",
    "        ]))\n",
    "\n",
    "    while len(brackets)>1:\n",
    "        alliances = []\n",
    "        features = []\n",
    "        for x in range(0,len(brackets),2):\n",
    "            red = brackets[x]\n",
    "            blue = brackets[x+1]\n",
    "            #print(red,blue)\n",
    "            f = featurizeAlliances(red, blue, aggregates=teamAggregates)       \n",
    "            features.append(f)\n",
    "            alliances.append([red,blue])\n",
    "\n",
    "        # run all the simulated matches through the model\n",
    "        scores = model.predict_proba(vectorizer.transform(features))\n",
    "        results = {}\n",
    "        next_round = []\n",
    "        for (r,b), score in zip(alliances, scores): \n",
    "            #print(r,b,score)\n",
    "            #if score[1]>score[0]:\n",
    "            if random.random()<score[1]:\n",
    "                next_round.append(r)\n",
    "            else:\n",
    "                next_round.append(b)\n",
    "        brackets = next_round\n",
    "        #print(brackets)\n",
    "    wins[tuple(brackets[0])]+=1\n",
    "for x in sorted(wins, reverse=True, key=lambda x: wins[x]):\n",
    "    print(f'{tuple(map(lambda y: y[3:], x))} {wins[x]/10}%')"
   ]
  },
  {
   "cell_type": "code",
   "execution_count": null,
   "metadata": {},
   "outputs": [],
   "source": []
  }
 ],
 "metadata": {
  "kernelspec": {
   "display_name": "Python 3",
   "language": "python",
   "name": "python3"
  },
  "language_info": {
   "codemirror_mode": {
    "name": "ipython",
    "version": 3
   },
   "file_extension": ".py",
   "mimetype": "text/x-python",
   "name": "python",
   "nbconvert_exporter": "python",
   "pygments_lexer": "ipython3",
   "version": "3.8.8"
  }
 },
 "nbformat": 4,
 "nbformat_minor": 2
}
