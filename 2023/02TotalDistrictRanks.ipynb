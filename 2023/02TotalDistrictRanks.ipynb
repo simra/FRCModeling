{
 "cells": [
  {
   "cell_type": "markdown",
   "metadata": {},
   "source": [
    "## 2023 TBA Predictions"
   ]
  },
  {
   "cell_type": "markdown",
   "metadata": {},
   "source": [
    "Match data is fetched from TBA by running fetchMatches.py.  Run this first before running this notebook.\n",
    "\n",
    "`python fetchMatches.py`\n"
   ]
  },
  {
   "cell_type": "code",
   "execution_count": 51,
   "metadata": {},
   "outputs": [],
   "source": [
    "from __future__ import print_function\n",
    "import pickle\n",
    "#import time\n",
    "import sys\n",
    "from collections import Counter\n",
    "from tqdm import tqdm\n",
    "\n",
    "sys.path.append('..')\n",
    "import swagger_client as v3client\n",
    "from swagger_client.rest import ApiException\n",
    "\n",
    "# If you fetch_matches best to set reset=True or you may miss some events.\n",
    "fetch_matches = False\n",
    "reset = True\n",
    "year = 2023\n",
    "\n",
    "if fetch_matches:\n",
    "    from fetchMatches import fetch_all_matches\n",
    "    # This will save to matches_{year}.pkl\n",
    "    fetch_all_matches(year, reset=reset)\n"
   ]
  },
  {
   "cell_type": "code",
   "execution_count": 52,
   "metadata": {},
   "outputs": [],
   "source": [
    "# load all the matches\n",
    "filename = f'matches_{year}.pkl'\n",
    "matches = []\n",
    "with open(filename, 'rb') as f:\n",
    "    matches = pickle.load(f)\n",
    "    \n",
    "# Load the aggregates\n",
    "with open(f'teamStats_{year}.pkl','rb') as f:\n",
    "    teamAggregates = pickle.load(f)\n",
    "    \n",
    "    \n",
    "# Load the model\n",
    "model_fn = f'model_{year}_forest.pkl'\n",
    "with open(model_fn, 'rb') as f:\n",
    "    vectorizer, model = pickle.load(f)"
   ]
  },
  {
   "cell_type": "code",
   "execution_count": 53,
   "metadata": {},
   "outputs": [
    {
     "data": {
      "text/plain": [
       "['frc1294',\n",
       " 'frc1899',\n",
       " 'frc1983',\n",
       " 'frc2097',\n",
       " 'frc2412',\n",
       " 'frc2903',\n",
       " 'frc2910',\n",
       " 'frc2928',\n",
       " 'frc2976',\n",
       " 'frc3070',\n",
       " 'frc360',\n",
       " 'frc3681',\n",
       " 'frc3876',\n",
       " 'frc4173',\n",
       " 'frc4180',\n",
       " 'frc4450',\n",
       " 'frc4512',\n",
       " 'frc4682',\n",
       " 'frc488',\n",
       " 'frc4911',\n",
       " 'frc492',\n",
       " 'frc5827',\n",
       " 'frc5937',\n",
       " 'frc5941',\n",
       " 'frc7461',\n",
       " 'frc8032',\n",
       " 'frc8051',\n",
       " 'frc8248',\n",
       " 'frc9023',\n",
       " 'frc9036',\n",
       " 'frc948',\n",
       " 'frc949']"
      ]
     },
     "execution_count": 53,
     "metadata": {},
     "output_type": "execute_result"
    }
   ],
   "source": [
    "event = '2023wasam'\n",
    "teams = [m.key for m in matches['event_teams'][event]]\n",
    "teams"
   ]
  },
  {
   "cell_type": "markdown",
   "metadata": {},
   "source": [
    "Now we have statistics for every team.  We can use this to generate features for every match."
   ]
  },
  {
   "cell_type": "code",
   "execution_count": 54,
   "metadata": {},
   "outputs": [
    {
     "name": "stdout",
     "output_type": "stream",
     "text": [
      "Running 496 predictions\n",
      "frc2910\t77.73\n",
      "frc1983\t73.11\n",
      "frc7461\t70.86\n",
      "frc488\t69.22\n",
      "frc492\t68.05\n",
      "frc2412\t64.61\n",
      "frc4911\t63.00\n",
      "frc2976\t62.67\n",
      "frc4173\t59.65\n",
      "frc9023\t54.00\n",
      "frc360\t52.20\n",
      "frc3876\t47.76\n",
      "frc9036\t45.85\n",
      "frc1899\t45.57\n",
      "frc5937\t45.39\n",
      "frc4512\t44.24\n",
      "frc4450\t44.19\n",
      "frc5941\t43.06\n",
      "frc948\t42.40\n",
      "frc3070\t41.70\n",
      "frc4180\t40.35\n",
      "frc2928\t40.14\n",
      "frc4682\t39.79\n",
      "frc5827\t38.55\n",
      "frc8032\t37.47\n",
      "frc8051\t37.09\n",
      "frc1294\t35.16\n",
      "frc2903\t34.75\n",
      "frc8248\t34.23\n",
      "frc949\t33.27\n",
      "frc3681\t33.11\n",
      "frc2097\t30.85\n"
     ]
    }
   ],
   "source": [
    "from tqdm import tqdm\n",
    "from featurization import featurizeAlliances\n",
    "from itertools import combinations\n",
    "features = []\n",
    "\n",
    "self_alliances = [[t]*3 for t in teams]\n",
    "alliances = []\n",
    "\n",
    "for red,blue in combinations(self_alliances, 2):        \n",
    "        f = featurizeAlliances(teamAggregates, red, blue)\n",
    "        features.append(f)\n",
    "        alliances.append([red,blue])\n",
    "    \n",
    "print(f\"Running {len(features)} predictions\")\n",
    "scores = model.predict_proba(vectorizer.transform(features))\n",
    "results = {}\n",
    "for (r,b), score in zip(alliances, scores):     \n",
    "    r=r[0]\n",
    "    b=b[0]\n",
    "    if r not in results:\n",
    "        results[r] = 0\n",
    "    results[r] += score[1]\n",
    "    if b not in results:\n",
    "        results[b] = 0\n",
    "    results[b] += 1-score[1]\n",
    "\n",
    "for r in list(sorted(results, key=lambda x: results[x], reverse=True))[:100]:\n",
    "    print(f'{r}\\t{results[r]*100/len(self_alliances):0.2f}')\n"
   ]
  },
  {
   "cell_type": "code",
   "execution_count": 55,
   "metadata": {},
   "outputs": [
    {
     "data": {
      "image/png": "[encoded data removed]",
      "text/plain": [
       "<Figure size 1440x720 with 1 Axes>"
      ]
     },
     "metadata": {
      "needs_background": "light"
     },
     "output_type": "display_data"
    }
   ],
   "source": [
    "import matplotlib.pyplot as plt\n",
    "plt.rcParams[\"figure.figsize\"] = (20, 10)\n",
    "fig,ax = plt.subplots()\n",
    "xvals = list(sorted(results, key=lambda x: results[x], reverse=True))\n",
    "xlab = [x[3:] for x in xvals]\n",
    "ax.bar(xlab,[results[r]*100/len(self_alliances) for r in xvals])\n",
    "ax.tick_params(axis='x', labelsize=18, rotation=90)\n",
    "ax.tick_params(axis='y', labelsize=18)"
   ]
  },
  {
   "cell_type": "code",
   "execution_count": null,
   "metadata": {},
   "outputs": [],
   "source": []
  }
 ],
 "metadata": {
  "kernelspec": {
   "display_name": "Python 3",
   "language": "python",
   "name": "python3"
  },
  "language_info": {
   "codemirror_mode": {
    "name": "ipython",
    "version": 3
   },
   "file_extension": ".py",
   "mimetype": "text/x-python",
   "name": "python",
   "nbconvert_exporter": "python",
   "pygments_lexer": "ipython3",
   "version": "3.8.8"
  }
 },
 "nbformat": 4,
 "nbformat_minor": 2
}
