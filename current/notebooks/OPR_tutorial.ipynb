{
 "cells": [
  {
   "cell_type": "markdown",
   "id": "e664a86d",
   "metadata": {},
   "source": [
    "# Introduction to OPR (Offensive Power Rating)\n",
    "\n",
    "In FRC Robotics, OPR (Offensive Power Rating) is a metric used to estimate the average point contribution of each team to its alliance. It is calculated using linear algebra, specifically the least squares solution to an overdetermined system of equations. In this notebook, we will demonstrate the concept of OPR starting with a toy example with just one team in an alliance, and building on that to compute it for two or more teams per alliance.\n"
   ]
  },
  {
   "cell_type": "markdown",
   "id": "c95e0a56",
   "metadata": {},
   "source": [
    "# A Toy Example\n",
    "Let's think about OPR in the case of a competition where each alliance consists of only one team.  In a perfectly predictable world, each single-team alliance scores exactly its OPR. e.g. here are some predicted outcomes for matches between three teams X, Y, and Z with OPRs x=10 y=15 z=20:\n",
    "\n",
    "| Match | Alliance 1 | Alliance 2 | Predicted Score (Alliance 1) | Predicted Score (Alliance 2) |\n",
    "|-------|--------|--------|--------------------------|--------------------------|\n",
    "| 1     | X      | Y      | 10                       | 15                       |\n",
    "| 2     | Y      | Z      | 15                       | 20                       |\n",
    "| 3     | X      | Z      | 10                       | 20                       |\n",
    "\n",
    "In this world we only need each team to compete once against the others. In fact if we know their OPR we don't need them to compete at all, since we can predict the outcome exactly.\n"
   ]
  },
  {
   "cell_type": "markdown",
   "id": "dab0ed79",
   "metadata": {},
   "source": [
    "However the real world is much less predictable, and an alliance's scores may vary from match to match.  Consider this situation instead:\n",
    "\n",
    "\n",
    "| Match | Alliance 1 | Alliance 2 | Actual Score (Alliance 1) | Actual Score (Alliance 2) |\n",
    "|-------|--------|--------|-----------------------|-----------------------|\n",
    "| 1     | X      | Y      | 12                    | 14                    |\n",
    "| 2     | Y      | Z      | 16                    | 18                    |\n",
    "| 3     | X      | Z      | 11                    | 19                    |\n",
    "\n",
    "In this setting it's less obvious what the OPR of each team is.  We want to compute a value for each team that minimizes the expected error in our prediction. In linear algebra this is known as least-squares minimization. Let's see how to do this in code:\n",
    "\n"
   ]
  },
  {
   "cell_type": "code",
   "execution_count": 2,
   "id": "c6f87334",
   "metadata": {},
   "outputs": [
    {
     "data": {
      "text/html": [
       "<div>\n",
       "<style scoped>\n",
       "    .dataframe tbody tr th:only-of-type {\n",
       "        vertical-align: middle;\n",
       "    }\n",
       "\n",
       "    .dataframe tbody tr th {\n",
       "        vertical-align: top;\n",
       "    }\n",
       "\n",
       "    .dataframe thead th {\n",
       "        text-align: right;\n",
       "    }\n",
       "</style>\n",
       "<table border=\"1\" class=\"dataframe\">\n",
       "  <thead>\n",
       "    <tr style=\"text-align: right;\">\n",
       "      <th></th>\n",
       "      <th>Match</th>\n",
       "      <th>Alliance 1</th>\n",
       "      <th>Alliance 2</th>\n",
       "      <th>Actual Score (Alliance 1)</th>\n",
       "      <th>Actual Score (Alliance 2)</th>\n",
       "    </tr>\n",
       "  </thead>\n",
       "  <tbody>\n",
       "    <tr>\n",
       "      <th>0</th>\n",
       "      <td>1</td>\n",
       "      <td>X</td>\n",
       "      <td>Y</td>\n",
       "      <td>12</td>\n",
       "      <td>14</td>\n",
       "    </tr>\n",
       "    <tr>\n",
       "      <th>1</th>\n",
       "      <td>2</td>\n",
       "      <td>Y</td>\n",
       "      <td>Z</td>\n",
       "      <td>16</td>\n",
       "      <td>18</td>\n",
       "    </tr>\n",
       "    <tr>\n",
       "      <th>2</th>\n",
       "      <td>3</td>\n",
       "      <td>X</td>\n",
       "      <td>Z</td>\n",
       "      <td>11</td>\n",
       "      <td>19</td>\n",
       "    </tr>\n",
       "  </tbody>\n",
       "</table>\n",
       "</div>"
      ],
      "text/plain": [
       "   Match Alliance 1 Alliance 2  Actual Score (Alliance 1)  \\\n",
       "0      1          X          Y                         12   \n",
       "1      2          Y          Z                         16   \n",
       "2      3          X          Z                         11   \n",
       "\n",
       "   Actual Score (Alliance 2)  \n",
       "0                         14  \n",
       "1                         18  \n",
       "2                         19  "
      ]
     },
     "execution_count": 2,
     "metadata": {},
     "output_type": "execute_result"
    }
   ],
   "source": [
    "\n",
    "import numpy as np\n",
    "import pandas as pd\n",
    "import matplotlib.pyplot as plt\n",
    "\n",
    "# Define the actual scores for the matches\n",
    "data = {\n",
    "    'Match': [1, 2, 3],\n",
    "    'Alliance 1': ['X', 'Y', 'X'],\n",
    "    'Alliance 2': ['Y', 'Z', 'Z'],\n",
    "    'Actual Score (Alliance 1)': [12, 16, 11],\n",
    "    'Actual Score (Alliance 2)': [14, 18, 19]\n",
    "}\n",
    "\n",
    "# Create a DataFrame to display the match data\n",
    "df = pd.DataFrame(data)\n",
    "df\n"
   ]
  },
  {
   "cell_type": "code",
   "execution_count": 3,
   "id": "47cb093e",
   "metadata": {},
   "outputs": [
    {
     "data": {
      "text/html": [
       "<div>\n",
       "<style scoped>\n",
       "    .dataframe tbody tr th:only-of-type {\n",
       "        vertical-align: middle;\n",
       "    }\n",
       "\n",
       "    .dataframe tbody tr th {\n",
       "        vertical-align: top;\n",
       "    }\n",
       "\n",
       "    .dataframe thead th {\n",
       "        text-align: right;\n",
       "    }\n",
       "</style>\n",
       "<table border=\"1\" class=\"dataframe\">\n",
       "  <thead>\n",
       "    <tr style=\"text-align: right;\">\n",
       "      <th></th>\n",
       "      <th>Team</th>\n",
       "      <th>OPR</th>\n",
       "    </tr>\n",
       "  </thead>\n",
       "  <tbody>\n",
       "    <tr>\n",
       "      <th>0</th>\n",
       "      <td>X</td>\n",
       "      <td>11.5</td>\n",
       "    </tr>\n",
       "    <tr>\n",
       "      <th>1</th>\n",
       "      <td>Y</td>\n",
       "      <td>15.0</td>\n",
       "    </tr>\n",
       "    <tr>\n",
       "      <th>2</th>\n",
       "      <td>Z</td>\n",
       "      <td>18.5</td>\n",
       "    </tr>\n",
       "  </tbody>\n",
       "</table>\n",
       "</div>"
      ],
      "text/plain": [
       "  Team   OPR\n",
       "0    X  11.5\n",
       "1    Y  15.0\n",
       "2    Z  18.5"
      ]
     },
     "execution_count": 3,
     "metadata": {},
     "output_type": "execute_result"
    }
   ],
   "source": [
    "import numpy as np\n",
    "import pandas as pd\n",
    "\n",
    "\n",
    "# Create the matrix A and vector b for the least squares problem\n",
    "teams = ['X', 'Y', 'Z']\n",
    "num_teams = len(teams)\n",
    "num_matches = len(df)\n",
    "\n",
    "A = np.zeros((2 * num_matches, num_teams))\n",
    "b = np.zeros(2 * num_matches)\n",
    "\n",
    "team_index = {team: i for i, team in enumerate(teams)}\n",
    "\n",
    "for i, row in df.iterrows():\n",
    "    alliance1 = row['Alliance 1']\n",
    "    alliance2 = row['Alliance 2']\n",
    "    score1 = row['Actual Score (Alliance 1)']\n",
    "    score2 = row['Actual Score (Alliance 2)']\n",
    "    \n",
    "    A[2 * i, team_index[alliance1]] = 1\n",
    "    A[2 * i + 1, team_index[alliance2]] = 1\n",
    "    b[2 * i] = score1\n",
    "    b[2 * i + 1] = score2\n",
    "\n",
    "# Solve the least squares problem\n",
    "opr, _, _, _ = np.linalg.lstsq(A, b, rcond=None)\n",
    "\n",
    "# Create a DataFrame to display the OPR results\n",
    "opr_df = pd.DataFrame({'Team': teams, 'OPR': opr})\n",
    "opr_df"
   ]
  },
  {
   "cell_type": "markdown",
   "id": "8c1cd41b",
   "metadata": {},
   "source": [
    "If you are observant you may note that for the case where each alliance just has one team, a team's OPR is the average of its scores (its *expected* offensive power).\n",
    "\n",
    "That was a lot of code to just compute some averages but we are setting up the problem for when we have two or three (or more) teams in each alliance. Let's see how the matrix A was constructed:"
   ]
  },
  {
   "cell_type": "code",
   "execution_count": 4,
   "id": "02205949",
   "metadata": {},
   "outputs": [
    {
     "data": {
      "text/plain": [
       "array([[1., 0., 0.],\n",
       "       [0., 1., 0.],\n",
       "       [0., 1., 0.],\n",
       "       [0., 0., 1.],\n",
       "       [1., 0., 0.],\n",
       "       [0., 0., 1.]])"
      ]
     },
     "execution_count": 4,
     "metadata": {},
     "output_type": "execute_result"
    }
   ],
   "source": [
    "A"
   ]
  },
  {
   "cell_type": "markdown",
   "id": "9a6ac3f6",
   "metadata": {},
   "source": [
    "Each pair of rows in A corresponds to a match, and each column corresponds to a team.  Row (2m) indicates the composition of Alliance 1 in match m while row (2m+1) indicates the composition of the Alliance 2.  So for example, we see that match 2 Alliance 2 is composed of [0, 0, 1], or Team Z.\n",
    "\n",
    "<table>\n",
    "  <tr>\n",
    "    <th>Match</th>\n",
    "    <th>Alliance</th>\n",
    "    <th>X</th>\n",
    "    <th>Y</th>\n",
    "    <th>Z</th>\n",
    "  </tr>\n",
    "  <tr>\n",
    "    <td rowspan=\"2\">1</td>\n",
    "    <td>1</td>\n",
    "    <td>1</td>\n",
    "    <td>0</td>\n",
    "    <td>0</td>\n",
    "  </tr>\n",
    "  <tr>\n",
    "    <td>2</td>\n",
    "    <td>0</td>\n",
    "    <td>1</td>\n",
    "    <td>0</td>\n",
    "  </tr>\n",
    "  <tr>\n",
    "    <td rowspan=\"2\">2</td>\n",
    "    <td>1</td>\n",
    "    <td>0</td>\n",
    "    <td>1</td>\n",
    "    <td>0</td>\n",
    "  </tr>\n",
    "  <tr>\n",
    "    <td>2</td>\n",
    "    <td>0</td>\n",
    "    <td>0</td>\n",
    "    <td>1</td>\n",
    "  </tr>\n",
    "  <tr>\n",
    "    <td rowspan=\"2\">3</td>\n",
    "    <td>1</td>\n",
    "    <td>1</td>\n",
    "    <td>0</td>\n",
    "    <td>0</td>\n",
    "  </tr>\n",
    "  <tr>\n",
    "    <td>2</td>\n",
    "    <td>0</td>\n",
    "    <td>0</td>\n",
    "    <td>1</td>\n",
    "  </tr>\n",
    "</table>\n",
    "\n",
    "Likewise the vector b consists of the scores of each match with element (2m) indicating Alliance 1's score and element (2m+1) indicating Alliance 2's score. \n",
    "\n",
    "\n",
    "<table>\n",
    "  <tr>\n",
    "    <th>Match</th>\n",
    "    <th>Alliance</th>\n",
    "    <th>Score</th>\n",
    "  </tr>\n",
    "  <tr>\n",
    "    <td rowspan=\"2\">1</td>\n",
    "    <td>1</td>\n",
    "    <td>12</td>\n",
    "  </tr>\n",
    "  <tr>\n",
    "    <td>2</td>\n",
    "    <td>14</td>\n",
    "  </tr>\n",
    "  <tr>\n",
    "    <td rowspan=\"2\">2</td>\n",
    "    <td>1</td>\n",
    "    <td>16</td>\n",
    "  </tr>\n",
    "  <tr>\n",
    "    <td>2</td>\n",
    "    <td>18</td>\n",
    "  </tr>\n",
    "  <tr>\n",
    "    <td rowspan=\"2\">3</td>\n",
    "    <td>1</td>\n",
    "    <td>11</td>\n",
    "  </tr>\n",
    "  <tr>\n",
    "    <td>2</td>\n",
    "    <td>19</td>\n",
    "  </tr>\n",
    "</table>\n",
    "\n",
    "Finally, the call `np.linalg.lstsq(A,b,rcond=None)` sets up and calculates the solution to the system of equations A*x*=b where x here is the unknown OPR vector *x*=[x,y,z] (don't be confused by *x* vs x -- the former is the vector of all unknown OPR scores and the latter is the OPR of team X).\n",
    "\n",
    "Note that this is a system of six equations with only three unknowns. As such it is overdetermined and the least squares solution computed by `np.linalg.lstsq` minimizes our prediction error when the alliances don't perform exactly to their OPR expectations."
   ]
  },
  {
   "cell_type": "markdown",
   "id": "24303a3c",
   "metadata": {},
   "source": [
    "# Extending to two teams per alliance\n",
    "\n",
    "Now let's consider the case where an alliance consists of two teams. We will add Team W to our pool so we have four teams competing against one another.  \n",
    "\n",
    "It's tempting to set up the problem to just have alliance {W,X} play alliance {Y,Z} several times and compute the OPR from the results but this creates a problem. If W only ever competes in a team with X, we can compute the alliance's OPR but we can never differentiate between the individual contributions of W and X. Instead we are reliant on scheduling several matches where the alliances rotate. Let's construct some matches and compute the OPR:\n",
    "\n",
    "\n",
    "| Match | Alliance 1 | Alliance 2 | Actual Score (Alliance 1) | Actual Score (Alliance 2) |\n",
    "|-------|------------|------------|---------------------------|---------------------------|\n",
    "| 1     | W, X       | Y, Z       | 25                        | 30                        |\n",
    "| 2     | W, Y       | X, Z       | 20                        | 28                        |\n",
    "| 3     | W, Z       | X, Y       | 22                        | 26                        |\n",
    "| 4     | X, Y       | W, Z       | 24                        | 27                        |\n",
    "| 5     | X, Z       | W, Y       | 23                        | 29                        |\n",
    "| 6     | Y, Z       | W, X       | 21                        | 31                        |"
   ]
  },
  {
   "cell_type": "code",
   "execution_count": 5,
   "id": "e46d84ff",
   "metadata": {},
   "outputs": [
    {
     "data": {
      "text/html": [
       "<div>\n",
       "<style scoped>\n",
       "    .dataframe tbody tr th:only-of-type {\n",
       "        vertical-align: middle;\n",
       "    }\n",
       "\n",
       "    .dataframe tbody tr th {\n",
       "        vertical-align: top;\n",
       "    }\n",
       "\n",
       "    .dataframe thead th {\n",
       "        text-align: right;\n",
       "    }\n",
       "</style>\n",
       "<table border=\"1\" class=\"dataframe\">\n",
       "  <thead>\n",
       "    <tr style=\"text-align: right;\">\n",
       "      <th></th>\n",
       "      <th>Team</th>\n",
       "      <th>OPR</th>\n",
       "    </tr>\n",
       "  </thead>\n",
       "  <tbody>\n",
       "    <tr>\n",
       "      <th>0</th>\n",
       "      <td>W</td>\n",
       "      <td>13.00</td>\n",
       "    </tr>\n",
       "    <tr>\n",
       "      <th>1</th>\n",
       "      <td>X</td>\n",
       "      <td>13.75</td>\n",
       "    </tr>\n",
       "    <tr>\n",
       "      <th>2</th>\n",
       "      <td>Y</td>\n",
       "      <td>12.00</td>\n",
       "    </tr>\n",
       "    <tr>\n",
       "      <th>3</th>\n",
       "      <td>Z</td>\n",
       "      <td>12.25</td>\n",
       "    </tr>\n",
       "  </tbody>\n",
       "</table>\n",
       "</div>"
      ],
      "text/plain": [
       "  Team    OPR\n",
       "0    W  13.00\n",
       "1    X  13.75\n",
       "2    Y  12.00\n",
       "3    Z  12.25"
      ]
     },
     "execution_count": 5,
     "metadata": {},
     "output_type": "execute_result"
    }
   ],
   "source": [
    "\n",
    "# Define the actual scores for the matches\n",
    "data = {\n",
    "    'Match': [1, 2, 3, 4, 5, 6],\n",
    "    'Alliance 1': ['W, X', 'W, Y', 'W, Z', 'X, Y', 'X, Z', 'Y, Z'],\n",
    "    'Alliance 2': ['Y, Z', 'X, Z', 'X, Y', 'W, Z', 'W, Y', 'W, X'],\n",
    "    'Actual Score (Alliance 1)': [25, 20, 22, 24, 23, 21],\n",
    "    'Actual Score (Alliance 2)': [30, 28, 26, 27, 29, 31]\n",
    "}\n",
    "\n",
    "# Create a DataFrame to display the match data\n",
    "df = pd.DataFrame(data)\n",
    "\n",
    "# Create the matrix A and vector b for the least squares problem\n",
    "teams = ['W', 'X', 'Y', 'Z']\n",
    "num_teams = len(teams)\n",
    "num_matches = len(df)\n",
    "\n",
    "A = np.zeros((2 * num_matches, num_teams))\n",
    "b = np.zeros(2 * num_matches)\n",
    "\n",
    "team_index = {team: i for i, team in enumerate(teams)}\n",
    "\n",
    "for i, row in df.iterrows():\n",
    "    alliance1 = row['Alliance 1'].split(', ')\n",
    "    alliance2 = row['Alliance 2'].split(', ')\n",
    "    score1 = row['Actual Score (Alliance 1)']\n",
    "    score2 = row['Actual Score (Alliance 2)']\n",
    "    \n",
    "    for team in alliance1:\n",
    "        A[2 * i, team_index[team]] = 1\n",
    "    for team in alliance2:\n",
    "        A[2 * i + 1, team_index[team]] = 1\n",
    "    b[2 * i] = score1\n",
    "    b[2 * i + 1] = score2\n",
    "\n",
    "# Solve the least squares problem\n",
    "opr, _, _, _ = np.linalg.lstsq(A, b, rcond=None)\n",
    "\n",
    "# Create a DataFrame to display the OPR results\n",
    "opr_df = pd.DataFrame({'Team': teams, 'OPR': opr})\n",
    "opr_df"
   ]
  },
  {
   "cell_type": "markdown",
   "id": "e4bf0e78",
   "metadata": {},
   "source": [
    "For illustration, here is matrix A and vector b:"
   ]
  },
  {
   "cell_type": "code",
   "execution_count": 6,
   "id": "a8c2250e",
   "metadata": {},
   "outputs": [
    {
     "data": {
      "text/plain": [
       "(array([[1., 1., 0., 0.],\n",
       "        [0., 0., 1., 1.],\n",
       "        [1., 0., 1., 0.],\n",
       "        [0., 1., 0., 1.],\n",
       "        [1., 0., 0., 1.],\n",
       "        [0., 1., 1., 0.],\n",
       "        [0., 1., 1., 0.],\n",
       "        [1., 0., 0., 1.],\n",
       "        [0., 1., 0., 1.],\n",
       "        [1., 0., 1., 0.],\n",
       "        [0., 0., 1., 1.],\n",
       "        [1., 1., 0., 0.]]),\n",
       " array([25., 30., 20., 28., 22., 26., 24., 27., 23., 29., 21., 31.]))"
      ]
     },
     "execution_count": 6,
     "metadata": {},
     "output_type": "execute_result"
    }
   ],
   "source": [
    "A, b"
   ]
  },
  {
   "cell_type": "markdown",
   "id": "1c1420e5",
   "metadata": {},
   "source": [
    "Note in this case we have 12 equations of 4 unknowns and again the system is overdetermined. In fact we could have estimated OPR with results from just two matches (four equations), for example {W,X} vs {Y,Z} and {W,Y} vs {X,Z}.\n",
    "\n",
    "It is also useful for us to understand the residuals in our OPR estimates.  This is simply A*opr-b (in numpy '@' is the operator for matrix multiplication):"
   ]
  },
  {
   "cell_type": "code",
   "execution_count": 7,
   "id": "93d07343",
   "metadata": {},
   "outputs": [
    {
     "data": {
      "text/plain": [
       "array([ 1.75, -5.75,  5.  , -2.  ,  3.25, -0.25,  1.75, -1.75,  3.  ,\n",
       "       -4.  ,  3.25, -4.25])"
      ]
     },
     "execution_count": 7,
     "metadata": {},
     "output_type": "execute_result"
    }
   ],
   "source": [
    "A@opr-b"
   ]
  },
  {
   "cell_type": "markdown",
   "id": "08a787b0",
   "metadata": {},
   "source": [
    "And finally, we can estimate the uncertainty in our estimates. These are useful for computing an expected range of scores. In the code below, the `sigmas` vector represents the expected error (standard deviation) around each team's OPR:"
   ]
  },
  {
   "cell_type": "code",
   "execution_count": 9,
   "id": "7989b924",
   "metadata": {},
   "outputs": [
    {
     "data": {
      "text/plain": [
       "array([2.2112067 , 2.91011168, 2.91011168, 2.91011168])"
      ]
     },
     "execution_count": 9,
     "metadata": {},
     "output_type": "execute_result"
    }
   ],
   "source": [
    "opr, residual, rank, s = np.linalg.lstsq(A, b, rcond=None)\n",
    "RSS = residual.sum()\n",
    "Rinv = np.linalg.inv(np.triu(np.diag(s)))\n",
    "\n",
    "sigmas = np.sqrt(RSS / (len(b) - len(opr)) * np.diag(Rinv))\n",
    "sigmas\n"
   ]
  },
  {
   "cell_type": "markdown",
   "id": "ee46567a",
   "metadata": {},
   "source": [
    "# Visualize the Results\n",
    "Armed with OPR and sigma we can estimate the range of possible offensive power of any alliance. For example, here's a visualization of an alliance composed of {W,X,Y}:"
   ]
  },
  {
   "cell_type": "code",
   "execution_count": 10,
   "id": "47486bfd",
   "metadata": {},
   "outputs": [
    {
     "data": {
      "image/png": "[encoded data removed]",
      "text/plain": [
       "<Figure size 640x480 with 1 Axes>"
      ]
     },
     "metadata": {},
     "output_type": "display_data"
    }
   ],
   "source": [
    "from scipy.stats import norm\n",
    "import matplotlib.pyplot as plt\n",
    "\n",
    "# Compute the OPR and sigma for the alliance {W, X, Y}\n",
    "alliance_opr = opr[team_index['W']] + opr[team_index['X']] + opr[team_index['Y']]\n",
    "alliance_sigma = np.sqrt(sigmas[team_index['W']]**2 + sigmas[team_index['X']]**2 + sigmas[team_index['Y']]**2)\n",
    "\n",
    "# Generate a plot showing the corresponding Gaussian distribution\n",
    "x = np.linspace(alliance_opr - 3*alliance_sigma, alliance_opr + 3*alliance_sigma, 100)\n",
    "y = norm.pdf(x, alliance_opr, alliance_sigma)\n",
    "\n",
    "plt.plot(x, y, label='Gaussian Distribution')\n",
    "plt.axvline(alliance_opr, color='gray', linestyle='--', label='Mean OPR')\n",
    "plt.xlabel('Score')\n",
    "plt.ylabel('Probability Density')\n",
    "plt.title('Score Distribution for Alliance {W, X, Y}')\n",
    "plt.show()"
   ]
  },
  {
   "cell_type": "markdown",
   "id": "9f1c1d78",
   "metadata": {},
   "source": [
    "So from this calculation we expect {W,X,Y} to score `alliance_opr` with standard deviation given by `alliance_sigma`:"
   ]
  },
  {
   "cell_type": "code",
   "execution_count": 31,
   "id": "b2f000ba",
   "metadata": {},
   "outputs": [
    {
     "data": {
      "text/plain": [
       "(38.75000000000001, 4.6719305530154935)"
      ]
     },
     "execution_count": 31,
     "metadata": {},
     "output_type": "execute_result"
    }
   ],
   "source": [
    "(alliance_opr,alliance_sigma)"
   ]
  },
  {
   "cell_type": "markdown",
   "id": "4ce46569",
   "metadata": {},
   "source": [
    "It is straightforward to extend the calculation of OPR to alliances consisting of three teams (or even more).  It is also worth thinking about how we might calculate a \"Defensive Power Rating\" or DPR. Consider: is OPR enough to predict a match outcome? If it's possible to compute a DPR maybe we want to take that into account.  More generally, we could estimate the \"Total Power Rating\" as a team's expected contribution to a match's point spread, rather than their total score.  Thus a team may have an positive or negative TPR, depending on how often they come out on the winning or losing side."
   ]
  },
  {
   "cell_type": "markdown",
   "id": "b4e9c722",
   "metadata": {},
   "source": [
    "## Limitations\n",
    "\n",
    "OPR has its limitations. FRC outcomes are due to the complex interactions of the robots on the field and sometimes involve strategic tradeoffs. As such it's unlikely that putting the robots with the top three OPRs on the field will yield a total score close to their sum (at some point in the game, scoring capacity may saturate, no matter how powerful the alliance is). However for comparison purposes and for alliance selection, OPR, or even better TPR, can be a valuable statistic to have in your back pocket."
   ]
  },
  {
   "cell_type": "markdown",
   "id": "4b04a633",
   "metadata": {},
   "source": []
  }
 ],
 "metadata": {
  "kernelspec": {
   "display_name": "frcBrackets",
   "language": "python",
   "name": "python3"
  },
  "language_info": {
   "codemirror_mode": {
    "name": "ipython",
    "version": 3
   },
   "file_extension": ".py",
   "mimetype": "text/x-python",
   "name": "python",
   "nbconvert_exporter": "python",
   "pygments_lexer": "ipython3",
   "version": "3.10.14"
  }
 },
 "nbformat": 4,
 "nbformat_minor": 5
}
