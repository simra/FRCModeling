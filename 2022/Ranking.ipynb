{
 "cells": [
  {
   "cell_type": "markdown",
   "metadata": {},
   "source": [
    "## 2022 TBA Predictions"
   ]
  },
  {
   "cell_type": "markdown",
   "metadata": {},
   "source": [
    "Match data is fetched from TBA by running fetchMatches.py.  Run this first before running this notebook.\n",
    "\n",
    "`python fetchMatches.py`\n"
   ]
  },
  {
   "cell_type": "code",
   "execution_count": 1,
   "metadata": {},
   "outputs": [],
   "source": [
    "from __future__ import print_function\n",
    "import pickle\n",
    "#import time\n",
    "import sys\n",
    "from collections import Counter\n",
    "\n",
    "sys.path.append('..')\n",
    "import swagger_client as v3client\n",
    "from swagger_client.rest import ApiException\n",
    "\n",
    "filename = 'matches_2022.pkl'\n",
    "matches = []\n",
    "with open(filename, 'rb') as f:\n",
    "    matches = pickle.load(f)\n"
   ]
  },
  {
   "cell_type": "markdown",
   "metadata": {},
   "source": [
    "Filter the matches to completed matches"
   ]
  },
  {
   "cell_type": "code",
   "execution_count": 2,
   "metadata": {},
   "outputs": [
    {
     "name": "stdout",
     "output_type": "stream",
     "text": [
      "5742\n"
     ]
    }
   ],
   "source": [
    "non_empty = [k for k in matches['matches'].keys() if len(matches['matches'][k])>0]\n",
    "data = [m for k in matches['matches'] for m in matches['matches'][k]]\n",
    "data = [m for m in data if m.winning_alliance!='']\n",
    "print(len(data))\n",
    "#red = [x for m in data for x in m.alliances.red.team_keys]\n",
    "#blue = [x for m in data for x in m.alliances.blue.team_keys]\n",
    "#from collections import Counter\n",
    "#Counter(red+blue)"
   ]
  },
  {
   "cell_type": "markdown",
   "metadata": {},
   "source": [
    "Most match fields are numeric but some will need special treatment. Here we enumerate string and boolean fields."
   ]
  },
  {
   "cell_type": "code",
   "execution_count": 3,
   "metadata": {},
   "outputs": [
    {
     "name": "stdout",
     "output_type": "stream",
     "text": [
      "Counter({'None': 9212, 'Mid': 4426, 'Traversal': 1943, 'High': 1140, 'Low': 505})\n",
      "Counter({'Yes': 13301, 'No': 3925})\n",
      "cargoBonusRankingPoint <class 'bool'>\n",
      "endgameRobot1 <class 'str'>\n",
      "endgameRobot2 <class 'str'>\n",
      "endgameRobot3 <class 'str'>\n",
      "hangarBonusRankingPoint <class 'bool'>\n",
      "quintetAchieved <class 'bool'>\n",
      "taxiRobot1 <class 'str'>\n",
      "taxiRobot2 <class 'str'>\n",
      "taxiRobot3 <class 'str'>\n"
     ]
    }
   ],
   "source": [
    "\n",
    "data[0].score_breakdown['blue'].keys()\n",
    "\n",
    "endgameFields = Counter()\n",
    "taxiFields = Counter()\n",
    "for d in data:\n",
    "   endgameFields[d.score_breakdown['blue']['endgameRobot1']]+=1\n",
    "   endgameFields[d.score_breakdown['blue']['endgameRobot2']]+=1\n",
    "   endgameFields[d.score_breakdown['blue']['endgameRobot3']]+=1\n",
    "   taxiFields[d.score_breakdown['blue']['taxiRobot1']]+=1\n",
    "   taxiFields[d.score_breakdown['blue']['taxiRobot2']]+=1\n",
    "   taxiFields[d.score_breakdown['blue']['taxiRobot3']]+=1\n",
    "print(endgameFields)\n",
    "print(taxiFields)\n",
    "\n",
    "for k in d.score_breakdown['blue']:\n",
    "   if type(d.score_breakdown['blue'][k]) is not int:\n",
    "      print(k, type(d.score_breakdown['blue'][k]))\n"
   ]
  },
  {
   "cell_type": "code",
   "execution_count": 4,
   "metadata": {},
   "outputs": [
    {
     "data": {
      "text/plain": [
       "Counter({'f': 159, 'qf': 651, 'qm': 4613, 'sf': 319})"
      ]
     },
     "execution_count": 4,
     "metadata": {},
     "output_type": "execute_result"
    }
   ],
   "source": [
    "# Finals, quarterfinales, qualifiers, semifinals\n",
    "Counter([x.comp_level for x in data])"
   ]
  },
  {
   "cell_type": "code",
   "execution_count": 5,
   "metadata": {},
   "outputs": [],
   "source": [
    "# We'll only train based on qualifier matches\n",
    "\n",
    "qualifiers = [x for x in data if x.comp_level=='qm'] "
   ]
  },
  {
   "cell_type": "code",
   "execution_count": 6,
   "metadata": {},
   "outputs": [],
   "source": [
    "# ['adjustPoints', 'autoCargoLowerBlue', 'autoCargoLowerFar', 'autoCargoLowerNear', 'autoCargoLowerRed', \n",
    "# 'autoCargoPoints', 'autoCargoTotal', 'autoCargoUpperBlue', 'autoCargoUpperFar', 'autoCargoUpperNear', \n",
    "# 'autoCargoUpperRed', 'autoPoints', 'autoTaxiPoints', 'cargoBonusRankingPoint', 'endgamePoints', \n",
    "# 'endgameRobot1', 'endgameRobot2', 'endgameRobot3', \n",
    "# 'foulCount', 'foulPoints', 'hangarBonusRankingPoint', 'matchCargoTotal', 'quintetAchieved', 'rp', \n",
    "# 'taxiRobot1', 'taxiRobot2', 'taxiRobot3', 'techFoulCount', \n",
    "# 'teleopCargoLowerBlue', 'teleopCargoLowerFar', 'teleopCargoLowerNear', 'teleopCargoLowerRed', \n",
    "# 'teleopCargoPoints', 'teleopCargoTotal', 'teleopCargoUpperBlue', 'teleopCargoUpperFar', 'teleopCargoUpperNear', \n",
    "# 'teleopCargoUpperRed', 'teleopPoints', 'totalPoints']\n",
    "\n",
    "# endgame: None': 6246, 'Mid': 2854, 'Traversal': 1177, 'High': 780, 'Low': 325}\n",
    "\n",
    "teamAggregates = {}\n",
    "\n",
    "def addMatch(team, m):    \n",
    "    if team not in teamAggregates:       \n",
    "        # initialize an empty record for the team.\n",
    "        teamAggregates[team]= {\n",
    "            'totalMatches':0, \n",
    "            'winCount': 0\n",
    "        }\n",
    "        for k in m.score_breakdown['blue'].keys():\n",
    "            val = m.score_breakdown['blue'][k]\n",
    "            if type(val) is int or type(val) is bool:\n",
    "                teamAggregates[team][f'{k}Total'] = 0            \n",
    "            \n",
    "        for r in [1,2,3]:\n",
    "            for v in ['Yes', 'No']:\n",
    "                teamAggregates[team][f'taxiRobot{r}{v}Total'] = 0\n",
    "            for e in ['None', 'Mid', 'Traversal', 'High', 'Low']:\n",
    "                teamAggregates[team][f'endgameRobot{r}{e}Total'] = 0 \n",
    "        \n",
    "    # TODO: we aren't accounting for alliance color when we \n",
    "    # accumulate fields like autoCargoUpperBlue/Red.  Does this matter? [need to read the rules]\n",
    "    alliance = 'blue' if team in m.alliances.blue.team_keys else 'red'\n",
    "    points = m.score_breakdown[alliance]\n",
    "    summary = teamAggregates[team]\n",
    "    # update all of the fields.\n",
    "    summary['totalMatches']+=1    \n",
    "    \n",
    "    # TODO: figure out if we are robot 1, 2, or 3.\n",
    "    for r in [1, 2, 3]:        \n",
    "        summary[f'taxiRobot{r}{points[f\"taxiRobot{r}\"]}Total'] += 1\n",
    "        summary[f'endgameRobot{r}{points[f\"endgameRobot{r}\"]}Total'] += 1\n",
    "\n",
    "    for k in points.keys():\n",
    "        if type(points[k]) is int:\n",
    "            summary[f'{k}Total'] += points[k]\n",
    "        elif type(points[k]) is bool:\n",
    "            summary[f'{k}Total'] += int(points[k])\n",
    "\n",
    "    summary['winCount'] += int(m.winning_alliance==alliance)\n",
    "\n",
    "\n",
    "for m in qualifiers:    \n",
    "    for t in m.alliances.red.team_keys:\n",
    "        addMatch(t,m)\n",
    "    for t in m.alliances.blue.team_keys:\n",
    "        addMatch(t,m)\n",
    "        \n",
    "# normalize the aggregates\n",
    "for t in teamAggregates:\n",
    "    for k in teamAggregates[t]:\n",
    "        if k=='totalMatches':\n",
    "            continue\n",
    "        teamAggregates[t][k]/=teamAggregates[t]['totalMatches']\n",
    "\n",
    "with open('teamStats_2022.pkl','wb') as f:\n",
    "    pickle.dump(teamAggregates,f)"
   ]
  },
  {
   "cell_type": "code",
   "execution_count": 7,
   "metadata": {},
   "outputs": [
    {
     "data": {
      "text/plain": [
       "{'totalMatches': 24,\n",
       " 'winCount': 0.625,\n",
       " 'adjustPointsTotal': 0.0,\n",
       " 'autoCargoLowerBlueTotal': 0.0,\n",
       " 'autoCargoLowerFarTotal': 0.125,\n",
       " 'autoCargoLowerNearTotal': 0.08333333333333333,\n",
       " 'autoCargoLowerRedTotal': 0.16666666666666666,\n",
       " 'autoCargoPointsTotal': 10.083333333333334,\n",
       " 'autoCargoTotalTotal': 2.7083333333333335,\n",
       " 'autoCargoUpperBlueTotal': 0.7083333333333334,\n",
       " 'autoCargoUpperFarTotal': 0.4583333333333333,\n",
       " 'autoCargoUpperNearTotal': 0.5833333333333334,\n",
       " 'autoCargoUpperRedTotal': 0.5833333333333334,\n",
       " 'autoPointsTotal': 14.333333333333334,\n",
       " 'autoTaxiPointsTotal': 4.25,\n",
       " 'cargoBonusRankingPointTotal': 0.4583333333333333,\n",
       " 'endgamePointsTotal': 12.416666666666666,\n",
       " 'foulCountTotal': 0.5416666666666666,\n",
       " 'foulPointsTotal': 2.3333333333333335,\n",
       " 'hangarBonusRankingPointTotal': 0.2916666666666667,\n",
       " 'matchCargoTotalTotal': 18.041666666666668,\n",
       " 'quintetAchievedTotal': 0.125,\n",
       " 'rpTotal': 2.0,\n",
       " 'techFoulCountTotal': 0.0,\n",
       " 'teleopCargoLowerBlueTotal': 0.5,\n",
       " 'teleopCargoLowerFarTotal': 0.8333333333333334,\n",
       " 'teleopCargoLowerNearTotal': 0.7916666666666666,\n",
       " 'teleopCargoLowerRedTotal': 1.0833333333333333,\n",
       " 'teleopCargoPointsTotal': 27.458333333333332,\n",
       " 'teleopCargoTotalTotal': 15.333333333333334,\n",
       " 'teleopCargoUpperBlueTotal': 3.2916666666666665,\n",
       " 'teleopCargoUpperFarTotal': 2.9583333333333335,\n",
       " 'teleopCargoUpperNearTotal': 2.5,\n",
       " 'teleopCargoUpperRedTotal': 3.375,\n",
       " 'teleopPointsTotal': 39.875,\n",
       " 'totalPointsTotal': 56.541666666666664,\n",
       " 'taxiRobot1YesTotal': 0.6666666666666666,\n",
       " 'taxiRobot1NoTotal': 0.3333333333333333,\n",
       " 'endgameRobot1NoneTotal': 0.5,\n",
       " 'endgameRobot1MidTotal': 0.25,\n",
       " 'endgameRobot1TraversalTotal': 0.08333333333333333,\n",
       " 'endgameRobot1HighTotal': 0.125,\n",
       " 'endgameRobot1LowTotal': 0.041666666666666664,\n",
       " 'taxiRobot2YesTotal': 0.75,\n",
       " 'taxiRobot2NoTotal': 0.25,\n",
       " 'endgameRobot2NoneTotal': 0.5,\n",
       " 'endgameRobot2MidTotal': 0.4166666666666667,\n",
       " 'endgameRobot2TraversalTotal': 0.08333333333333333,\n",
       " 'endgameRobot2HighTotal': 0.0,\n",
       " 'endgameRobot2LowTotal': 0.0,\n",
       " 'taxiRobot3YesTotal': 0.7083333333333334,\n",
       " 'taxiRobot3NoTotal': 0.2916666666666667,\n",
       " 'endgameRobot3NoneTotal': 0.4583333333333333,\n",
       " 'endgameRobot3MidTotal': 0.3333333333333333,\n",
       " 'endgameRobot3TraversalTotal': 0.08333333333333333,\n",
       " 'endgameRobot3HighTotal': 0.125,\n",
       " 'endgameRobot3LowTotal': 0.0}"
      ]
     },
     "execution_count": 7,
     "metadata": {},
     "output_type": "execute_result"
    }
   ],
   "source": [
    "teamAggregates['frc492']"
   ]
  },
  {
   "cell_type": "markdown",
   "metadata": {},
   "source": [
    "Now we have statistics for every team.  We can use this to generate features for every match."
   ]
  },
  {
   "cell_type": "code",
   "execution_count": 8,
   "metadata": {},
   "outputs": [
    {
     "data": {
      "text/plain": [
       "{'red_missingCount': 0,\n",
       " 'blue_missingCount': 0,\n",
       " 'red_totalMatches': 13.0,\n",
       " 'red_winCount': 0.5384615384615384,\n",
       " 'red_adjustPointsTotal': 0.0,\n",
       " 'red_autoCargoLowerBlueTotal': 0.12820512820512822,\n",
       " 'red_autoCargoLowerFarTotal': 0.15384615384615385,\n",
       " 'red_autoCargoLowerNearTotal': 0.10256410256410257,\n",
       " 'red_autoCargoLowerRedTotal': 0.28205128205128205,\n",
       " 'red_autoCargoPointsTotal': 8.0,\n",
       " 'red_autoCargoTotalTotal': 2.307692307692308,\n",
       " 'red_autoCargoUpperBlueTotal': 0.4358974358974359,\n",
       " 'red_autoCargoUpperFarTotal': 0.3076923076923077,\n",
       " 'red_autoCargoUpperNearTotal': 0.5128205128205129,\n",
       " 'red_autoCargoUpperRedTotal': 0.3846153846153846,\n",
       " 'red_autoPointsTotal': 12.41025641025641,\n",
       " 'red_autoTaxiPointsTotal': 4.410256410256411,\n",
       " 'red_cargoBonusRankingPointTotal': 0.23076923076923075,\n",
       " 'red_endgamePointsTotal': 13.076923076923078,\n",
       " 'red_foulCountTotal': 0.4358974358974359,\n",
       " 'red_foulPointsTotal': 2.358974358974359,\n",
       " 'red_hangarBonusRankingPointTotal': 0.4102564102564103,\n",
       " 'red_matchCargoTotalTotal': 13.102564102564102,\n",
       " 'red_quintetAchievedTotal': 0.07692307692307693,\n",
       " 'red_rpTotal': 1.717948717948718,\n",
       " 'red_techFoulCountTotal': 0.07692307692307693,\n",
       " 'red_teleopCargoLowerBlueTotal': 0.10256410256410257,\n",
       " 'red_teleopCargoLowerFarTotal': 0.4102564102564103,\n",
       " 'red_teleopCargoLowerNearTotal': 0.3076923076923077,\n",
       " 'red_teleopCargoLowerRedTotal': 0.23076923076923075,\n",
       " 'red_teleopCargoPointsTotal': 20.846153846153843,\n",
       " 'red_teleopCargoTotalTotal': 10.794871794871794,\n",
       " 'red_teleopCargoUpperBlueTotal': 1.7948717948717947,\n",
       " 'red_teleopCargoUpperFarTotal': 2.7179487179487176,\n",
       " 'red_teleopCargoUpperNearTotal': 2.7692307692307696,\n",
       " 'red_teleopCargoUpperRedTotal': 2.4615384615384617,\n",
       " 'red_teleopPointsTotal': 33.92307692307693,\n",
       " 'red_totalPointsTotal': 48.692307692307686,\n",
       " 'red_taxiRobot1YesTotal': 0.7692307692307693,\n",
       " 'red_taxiRobot1NoTotal': 0.23076923076923075,\n",
       " 'red_endgameRobot1NoneTotal': 0.6666666666666666,\n",
       " 'red_endgameRobot1MidTotal': 0.05128205128205129,\n",
       " 'red_endgameRobot1TraversalTotal': 0.15384615384615385,\n",
       " 'red_endgameRobot1HighTotal': 0.05128205128205129,\n",
       " 'red_endgameRobot1LowTotal': 0.07692307692307693,\n",
       " 'red_taxiRobot2YesTotal': 0.7435897435897436,\n",
       " 'red_taxiRobot2NoTotal': 0.25641025641025644,\n",
       " 'red_endgameRobot2NoneTotal': 0.358974358974359,\n",
       " 'red_endgameRobot2MidTotal': 0.3333333333333333,\n",
       " 'red_endgameRobot2TraversalTotal': 0.20512820512820515,\n",
       " 'red_endgameRobot2HighTotal': 0.07692307692307693,\n",
       " 'red_endgameRobot2LowTotal': 0.025641025641025644,\n",
       " 'red_taxiRobot3YesTotal': 0.6923076923076924,\n",
       " 'red_taxiRobot3NoTotal': 0.3076923076923077,\n",
       " 'red_endgameRobot3NoneTotal': 0.6153846153846154,\n",
       " 'red_endgameRobot3MidTotal': 0.23076923076923075,\n",
       " 'red_endgameRobot3TraversalTotal': 0.15384615384615385,\n",
       " 'red_endgameRobot3HighTotal': 0.0,\n",
       " 'red_endgameRobot3LowTotal': 0.0,\n",
       " 'blue_totalMatches': 13.0,\n",
       " 'blue_winCount': 0.5897435897435898,\n",
       " 'blue_adjustPointsTotal': 0.0,\n",
       " 'blue_autoCargoLowerBlueTotal': 0.05128205128205129,\n",
       " 'blue_autoCargoLowerFarTotal': 0.10256410256410257,\n",
       " 'blue_autoCargoLowerNearTotal': 0.15384615384615385,\n",
       " 'blue_autoCargoLowerRedTotal': 0.12820512820512822,\n",
       " 'blue_autoCargoPointsTotal': 9.743589743589743,\n",
       " 'blue_autoCargoTotalTotal': 2.58974358974359,\n",
       " 'blue_autoCargoUpperBlueTotal': 0.5641025641025642,\n",
       " 'blue_autoCargoUpperFarTotal': 0.4871794871794872,\n",
       " 'blue_autoCargoUpperNearTotal': 0.6666666666666666,\n",
       " 'blue_autoCargoUpperRedTotal': 0.43589743589743596,\n",
       " 'blue_autoPointsTotal': 14.461538461538462,\n",
       " 'blue_autoTaxiPointsTotal': 4.717948717948718,\n",
       " 'blue_cargoBonusRankingPointTotal': 0.20512820512820515,\n",
       " 'blue_endgamePointsTotal': 9.948717948717949,\n",
       " 'blue_foulCountTotal': 0.4615384615384615,\n",
       " 'blue_foulPointsTotal': 2.9743589743589745,\n",
       " 'blue_hangarBonusRankingPointTotal': 0.2564102564102564,\n",
       " 'blue_matchCargoTotalTotal': 13.87179487179487,\n",
       " 'blue_quintetAchievedTotal': 0.05128205128205129,\n",
       " 'blue_rpTotal': 1.6410256410256412,\n",
       " 'blue_techFoulCountTotal': 0.05128205128205129,\n",
       " 'blue_teleopCargoLowerBlueTotal': 0.4102564102564103,\n",
       " 'blue_teleopCargoLowerFarTotal': 0.5384615384615384,\n",
       " 'blue_teleopCargoLowerNearTotal': 0.4871794871794872,\n",
       " 'blue_teleopCargoLowerRedTotal': 0.3333333333333333,\n",
       " 'blue_teleopCargoPointsTotal': 21.56410256410256,\n",
       " 'blue_teleopCargoTotalTotal': 11.282051282051283,\n",
       " 'blue_teleopCargoUpperBlueTotal': 2.205128205128205,\n",
       " 'blue_teleopCargoUpperFarTotal': 2.7692307692307696,\n",
       " 'blue_teleopCargoUpperNearTotal': 2.58974358974359,\n",
       " 'blue_teleopCargoUpperRedTotal': 1.948717948717949,\n",
       " 'blue_teleopPointsTotal': 31.512820512820515,\n",
       " 'blue_totalPointsTotal': 48.94871794871795,\n",
       " 'blue_taxiRobot1YesTotal': 0.7948717948717948,\n",
       " 'blue_taxiRobot1NoTotal': 0.20512820512820515,\n",
       " 'blue_endgameRobot1NoneTotal': 0.7179487179487181,\n",
       " 'blue_endgameRobot1MidTotal': 0.12820512820512822,\n",
       " 'blue_endgameRobot1TraversalTotal': 0.12820512820512822,\n",
       " 'blue_endgameRobot1HighTotal': 0.025641025641025644,\n",
       " 'blue_endgameRobot1LowTotal': 0.0,\n",
       " 'blue_taxiRobot2YesTotal': 0.7435897435897436,\n",
       " 'blue_taxiRobot2NoTotal': 0.25641025641025644,\n",
       " 'blue_endgameRobot2NoneTotal': 0.5641025641025641,\n",
       " 'blue_endgameRobot2MidTotal': 0.25641025641025644,\n",
       " 'blue_endgameRobot2TraversalTotal': 0.07692307692307693,\n",
       " 'blue_endgameRobot2HighTotal': 0.10256410256410257,\n",
       " 'blue_endgameRobot2LowTotal': 0.0,\n",
       " 'blue_taxiRobot3YesTotal': 0.8205128205128206,\n",
       " 'blue_taxiRobot3NoTotal': 0.17948717948717952,\n",
       " 'blue_endgameRobot3NoneTotal': 0.5128205128205128,\n",
       " 'blue_endgameRobot3MidTotal': 0.3076923076923077,\n",
       " 'blue_endgameRobot3TraversalTotal': 0.05128205128205129,\n",
       " 'blue_endgameRobot3HighTotal': 0.025641025641025644,\n",
       " 'blue_endgameRobot3LowTotal': 0.10256410256410257,\n",
       " 'event': '2022ausc',\n",
       " 'comp_level': 'f',\n",
       " 'label': 1}"
      ]
     },
     "execution_count": 8,
     "metadata": {},
     "output_type": "execute_result"
    }
   ],
   "source": [
    "\n",
    "def featurizeAlliances(red, blue, label=0, comp_level='qm', event='none'):\n",
    "    match_features = { 'red_missingCount':0, 'blue_missingCount': 0 }\n",
    "    count=0    \n",
    "    allKeys = set()\n",
    "    for t in red:\n",
    "        if t not in teamAggregates:\n",
    "            match_features['red_missingCount']+=1\n",
    "            continue\n",
    "        for k in teamAggregates[t]:\n",
    "            key = 'red_'+k\n",
    "            if key not in match_features:\n",
    "                match_features[key]=0\n",
    "            match_features[key]+=teamAggregates[t][k]\n",
    "            allKeys.add(key)\n",
    "        count+=1\n",
    "    # compute the average\n",
    "    for k in allKeys:\n",
    "        match_features[k]/=count\n",
    "    count=0\n",
    "    allKeys=set()\n",
    "    for t in blue:\n",
    "        if t not in teamAggregates:\n",
    "            match_features['blue_missingCount']+=1\n",
    "            continue\n",
    "        for k in teamAggregates[t]:\n",
    "            key = 'blue_'+k\n",
    "            if key not in match_features:\n",
    "                match_features[key]=0\n",
    "            match_features[key]+=teamAggregates[t][k]\n",
    "            allKeys.add(key)\n",
    "        count+=1\n",
    "    # compute the average\n",
    "    for k in allKeys:\n",
    "        match_features[k]/=count\n",
    "    match_features['event']= event\n",
    "    match_features['comp_level']= comp_level\n",
    "    match_features['label']= label    \n",
    "    return match_features\n",
    "\n",
    "def featurizeMatch(m):\n",
    "    return featurizeAlliances(\n",
    "        m.alliances.red.team_keys, \n",
    "        m.alliances.blue.team_keys, \n",
    "        label=int(m.winning_alliance=='red'), # Positive label == red alliance won\n",
    "        event = m.event_key, comp_level=m.comp_level)\n",
    "\n",
    "\n",
    "def invertMatch(f):\n",
    "    f2={}\n",
    "    for k in f:\n",
    "        k2 = k.replace('red_','temp_').replace('blue_','red_').replace('temp_','blue_')\n",
    "        f2[k2]=f[k]\n",
    "    f2['label']=1-f['label']\n",
    "    return f2\n",
    "\n",
    "features = []\n",
    "\n",
    "for m in data:\n",
    "    f = featurizeMatch(m)\n",
    "    features.append(f)\n",
    "    #features.append(invertMatch(f))\n",
    "    \n",
    "features[0]"
   ]
  },
  {
   "cell_type": "code",
   "execution_count": 9,
   "metadata": {},
   "outputs": [
    {
     "name": "stdout",
     "output_type": "stream",
     "text": [
      "4613 training examples and 1129 test\n"
     ]
    }
   ],
   "source": [
    "from sklearn.feature_extraction import DictVectorizer\n",
    "# create train and test sets\n",
    "train = []\n",
    "trainY = []\n",
    "test = []\n",
    "testY = []\n",
    "\n",
    "for m in features:    \n",
    "    if 'event' not in m:\n",
    "        print(m)\n",
    "    event = m['event']\n",
    "    comp_level = m['comp_level']\n",
    "    del m['event']\n",
    "    del m['comp_level']\n",
    "    \n",
    "    label = m['label']\n",
    "    del m['label']\n",
    "    \n",
    "    # Train on qualifiers. Test on everything else.\n",
    "    if comp_level!='qm':\n",
    "        test.append(m)\n",
    "        testY.append(label)\n",
    "    else:\n",
    "        train.append(m)\n",
    "        trainY.append(label)\n",
    "        \n",
    "vectorizer = DictVectorizer()\n",
    "trainX = vectorizer.fit_transform(train)\n",
    "testX = vectorizer.transform(test)\n",
    "\n",
    "print('{} training examples and {} test'.format(len(train),len(test)))\n"
   ]
  },
  {
   "cell_type": "code",
   "execution_count": 10,
   "metadata": {},
   "outputs": [
    {
     "name": "stdout",
     "output_type": "stream",
     "text": [
      "accuracy: 0.7759078830823738\n"
     ]
    }
   ],
   "source": [
    "from sklearn.ensemble import RandomForestClassifier\n",
    "classifier = RandomForestClassifier(n_estimators=100, random_state=0, min_samples_split=3)  \n",
    "classifier.fit(trainX,trainY)\n",
    "forest_predictions= classifier.predict(testX)\n",
    "forest_scores = classifier.predict_proba(testX)\n",
    "import numpy as np\n",
    "from sklearn.metrics import accuracy_score\n",
    "#np.sum(np.abs(scores-Ytest))\n",
    "print('accuracy: {}'.format(accuracy_score(testY, forest_predictions)))\n",
    "#list(zip(forest_scores[:,1],testY))\n",
    "\n",
    "# Save the model\n",
    "model_fn = 'model_2022_forest.pkl'\n",
    "with open(model_fn, 'wb') as outF:\n",
    "    pickle.dump((vectorizer,classifier), outF)\n"
   ]
  },
  {
   "cell_type": "markdown",
   "metadata": {},
   "source": [
    "Let's look at the feature importances. They tell us how useful a specific feature is."
   ]
  },
  {
   "cell_type": "code",
   "execution_count": 11,
   "metadata": {},
   "outputs": [
    {
     "name": "stdout",
     "output_type": "stream",
     "text": [
      "Feature ranking:\n"
     ]
    },
    {
     "data": {
      "image/png": "[encoded data removed]",
      "text/plain": [
       "<Figure size 1440x720 with 1 Axes>"
      ]
     },
     "metadata": {
      "needs_background": "light"
     },
     "output_type": "display_data"
    }
   ],
   "source": [
    "importances = classifier.feature_importances_\n",
    "std = np.std([tree.feature_importances_ for tree in classifier.estimators_],\n",
    "             axis=0)\n",
    "indices = np.argsort(importances)[::-1]\n",
    "names = vectorizer.feature_names_\n",
    "\n",
    "# Print the feature ranking\n",
    "print(\"Feature ranking:\")\n",
    "\n",
    "#for f in range(trainX.shape[1]):\n",
    "#    print(\"%d. %s (%f)\" % (f + 1, names[indices[f]], importances[indices[f]]))\n",
    "colors = [names[indices[f]].split('_')[0] for f in range(trainX.shape[1])]\n",
    "labels = [names[indices[f]].replace('Count','').replace('Points','').replace('red','r').replace('blue','b') for f in range(trainX.shape[1])]\n",
    "# Plot the feature importances of the forest\n",
    "%matplotlib inline\n",
    "import matplotlib.pyplot as plt\n",
    "plt.rcParams[\"figure.figsize\"] = (20, 10)\n",
    "plt.figure()\n",
    "plt.title(\"Feature importances\")\n",
    "plt.bar(range(trainX.shape[1]), importances[indices],\n",
    "       color=colors, \n",
    "        #yerr=std[indices], \n",
    "        align=\"center\")\n",
    "plt.xticks(range(trainX.shape[1]), labels, rotation='vertical', fontsize='x-small')\n",
    "    \n",
    "plt.xlim([-1, trainX.shape[1]])\n",
    "plt.subplots_adjust(bottom=0.5)\n",
    "#plt.legend()\n",
    "plt.show()"
   ]
  },
  {
   "cell_type": "code",
   "execution_count": 12,
   "metadata": {},
   "outputs": [],
   "source": [
    "def percentile(dictionary, key):\n",
    "    teams = [t for t in dictionary]\n",
    "    values = [dictionary[t][key] for t in dictionary]\n",
    "    ranks = sorted(range(len(values)), key=lambda x: values[x])\n",
    "    return dict([(teams[ranks[i]], i*100/len(values)) for i in range(len(ranks))])    \n",
    "\n",
    "raw = dict([(k, percentile(teamAggregates,k)) for k in teamAggregates['frc1153']])\n",
    "#stats = dict([(k,percentile(teamAggregates,k)['frc1153']) for k in teamAggregates['frc1153']])"
   ]
  },
  {
   "cell_type": "markdown",
   "metadata": {},
   "source": [
    "The next cell enables comparisons between two teams."
   ]
  },
  {
   "cell_type": "code",
   "execution_count": 13,
   "metadata": {},
   "outputs": [
    {
     "data": {
      "image/png": "[encoded data removed]",
      "text/plain": [
       "<Figure size 1440x720 with 1 Axes>"
      ]
     },
     "metadata": {
      "needs_background": "light"
     },
     "output_type": "display_data"
    }
   ],
   "source": [
    "import matplotlib.pyplot as plt\n",
    "import numpy as np\n",
    "\n",
    "objects = [k for k in raw]\n",
    "y_pos = np.arange(len(objects))\n",
    "#performance = [[raw[k]['frc492'],raw[k]['frc2910']] for k in stats]\n",
    "#performance\n",
    "t1 = 'frc1153'\n",
    "t2 = 'frc238'\n",
    "plt.figure()\n",
    "plt.bar(y_pos, [raw[k][t1] for k in raw], alpha=0.5, width=0.25)\n",
    "plt.bar(y_pos+0.25, [raw[k][t2] for k in raw], alpha=0.5, width=0.25)\n",
    "plt.xticks(y_pos, objects, rotation=90, fontsize='x-small')\n",
    "plt.subplots_adjust(bottom=0.5)\n",
    "plt.ylabel('Percentile')\n",
    "plt.title('Stats summary')\n",
    "plt.legend([t1,t2])\n",
    "\n",
    "plt.show()\n"
   ]
  },
  {
   "cell_type": "markdown",
   "metadata": {},
   "source": [
    "So far our best score at predicting the districts is 0.78 using either RandomForests.  Next time we can explore hyperparameter tuning and also predicting which alliances would have been the best ones for us to join."
   ]
  },
  {
   "cell_type": "markdown",
   "metadata": {},
   "source": [
    "Next steps: for a given event we want to decide how to prioritize alliance choices.  Suppose we have all the data to date, as well as all the qualifier data for the event. Who should we choose as partners?"
   ]
  },
  {
   "cell_type": "code",
   "execution_count": 17,
   "metadata": {},
   "outputs": [
    {
     "name": "stderr",
     "output_type": "stream",
     "text": [
      "100%|██████████| 10/10 [00:02<00:00,  4.34it/s]\n"
     ]
    },
    {
     "name": "stdout",
     "output_type": "stream",
     "text": [
      "('frc1899', 'frc1294') 826.6885000000027\n",
      "('frc1899', 'frc4682') 773.9250000000014\n",
      "('frc1899', 'frc3049') 750.0046666666677\n",
      "('frc1899', 'frc7627') 725.647500000001\n",
      "('frc1899', 'frc4309') 710.1853333333345\n",
      "('frc1899', 'frc2929') 687.8143333333336\n",
      "('frc1899', 'frc5683') 672.5983333333321\n",
      "('frc1899', 'frc949') 656.9231666666676\n",
      "('frc1899', 'frc4579') 640.7253333333333\n",
      "('frc1899', 'frc948') 594.9566666666663\n"
     ]
    }
   ],
   "source": [
    "# optimize alliances for frc492 at wasno:\n",
    "import random\n",
    "from tqdm import tqdm\n",
    "\n",
    "event = '2022wasam'\n",
    "teams = set([t for x in \\\n",
    "    [m.alliances.red.team_keys + m.alliances.blue.team_keys for m in matches['matches'][event]] \\\n",
    "        for t in x])\n",
    "\n",
    "model_fn = 'model_2022_forest.pkl'\n",
    "with open(model_fn, 'rb') as inF:\n",
    "    vectorizer, model = pickle.load(inF)\n",
    "\n",
    "# wasno\n",
    "taken_wasno = [\n",
    "    'frc2910', 'frc4089', 'frc7461', 'frc2930', \n",
    "    'frc2522', 'frc4911', 'frc4512', 'frc492',\n",
    "    'frc7627', 'frc2903', 'frc4682', 'frc2412',\n",
    "    'frc1778', 'frc4173', 'frc2980', 'frc4131',\n",
    "    'frc3663', 'frc1899', 'frc5827', 'frc5588'\n",
    "]\n",
    "\n",
    "taken_wasam_round1 = [\n",
    "    4911, 5827, 488, 3218, 492\n",
    "]\n",
    "\n",
    "taken_wasam = [\n",
    "    4911, 5827, 488, 3218, 492, 1899, 4180, 2928, 4915, 5588, 2412, 4173, 4205, 1983, 2980, 1318, 4469, 3786, 4512, 1778, 3681\n",
    "]\n",
    "\n",
    "taken = list(map(lambda x: f'frc{x}', taken_wasam))\n",
    "\n",
    "target = ['frc492', 'frc1899']\n",
    "#pairs = [(x,y) for x in teams if x!=target for y in teams if y!=target if x<y and x not in taken and y not in taken]\n",
    "partners = [x for x in teams if x not in taken]\n",
    "results = {}\n",
    "features = []\n",
    "alliances = []\n",
    "for x in tqdm(partners): #tqdm(partners): #(pairs):\n",
    "    red = target + [x]\n",
    "    candidates = [x for x in teams if x not in red]\n",
    "    trials = 1000\n",
    "    \n",
    "    for m in range(trials):\n",
    "        blue = random.sample(candidates, 3)\n",
    "        f = featurizeAlliances(red, blue)\n",
    "        features.append(f)\n",
    "        alliances.append([red,blue])\n",
    "\n",
    "scores = model.predict_proba(vectorizer.transform(features))\n",
    "results = {}\n",
    "for ((_,x,y),_), score in zip(alliances, scores): \n",
    "    if (x,y) not in results:\n",
    "        results[(x,y)] = 0\n",
    "    results[(x,y)] += score[1]    \n",
    "\n",
    "\n",
    "for r in list(sorted(results, key=lambda x: results[x], reverse=True))[:100]:\n",
    "    print(r, results[r])"
   ]
  },
  {
   "cell_type": "code",
   "execution_count": 19,
   "metadata": {},
   "outputs": [
    {
     "data": {
      "text/plain": [
       "[('frc3049', 0.2727272727272727),\n",
       " ('frc949', 0.3333333333333333),\n",
       " ('frc2929', 0.3333333333333333),\n",
       " ('frc948', 0.16666666666666666),\n",
       " ('frc5683', 0.3333333333333333),\n",
       " ('frc4579', 0.25),\n",
       " ('frc1294', 0.5),\n",
       " ('frc4309', 0.3333333333333333),\n",
       " ('frc4682', 0.5),\n",
       " ('frc7627', 0.4166666666666667)]"
      ]
     },
     "execution_count": 19,
     "metadata": {},
     "output_type": "execute_result"
    }
   ],
   "source": [
    "[(p,teamAggregates[p]['winCount']) for p in partners]"
   ]
  }
 ],
 "metadata": {
  "kernelspec": {
   "display_name": "Python 3",
   "language": "python",
   "name": "python3"
  },
  "language_info": {
   "codemirror_mode": {
    "name": "ipython",
    "version": 3
   },
   "file_extension": ".py",
   "mimetype": "text/x-python",
   "name": "python",
   "nbconvert_exporter": "python",
   "pygments_lexer": "ipython3",
   "version": "3.8.8"
  }
 },
 "nbformat": 4,
 "nbformat_minor": 2
}
