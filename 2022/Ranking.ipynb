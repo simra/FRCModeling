{
 "cells": [
  {
   "cell_type": "markdown",
   "metadata": {},
   "source": [
    "## 2022 TBA Predictions"
   ]
  },
  {
   "cell_type": "markdown",
   "metadata": {},
   "source": [
    "Match data is fetched from TBA by running fetchMatches.py.  Run this first before running this notebook.\n",
    "\n",
    "`python fetchMatches.py`\n"
   ]
  },
  {
   "cell_type": "code",
   "execution_count": 1,
   "metadata": {},
   "outputs": [],
   "source": [
    "from __future__ import print_function\n",
    "import pickle\n",
    "#import time\n",
    "import sys\n",
    "from collections import Counter\n",
    "\n",
    "sys.path.append('..')\n",
    "import swagger_client as v3client\n",
    "from swagger_client.rest import ApiException\n",
    "\n",
    "fetch_matches = False\n",
    "reset = False\n",
    "if fetch_matches:\n",
    "    from fetchMatches import fetch_all_matches\n",
    "    # This will save to matches_2022.pkl\n",
    "    fetch_all_matches(2022, reset=reset)\n"
   ]
  },
  {
   "cell_type": "code",
   "execution_count": 2,
   "metadata": {},
   "outputs": [],
   "source": [
    "# load all the matches\n",
    "\n",
    "filename = 'matches_2022.pkl'\n",
    "matches = []\n",
    "with open(filename, 'rb') as f:\n",
    "    matches = pickle.load(f)"
   ]
  },
  {
   "cell_type": "code",
   "execution_count": 3,
   "metadata": {},
   "outputs": [
    {
     "data": {
      "text/plain": [
       "[{'address': '526 5th St, Cheney, WA 99004, USA',\n",
       "  'city': 'Cheney',\n",
       "  'country': 'USA',\n",
       "  'district': {'abbreviation': 'pnw',\n",
       "               'display_name': 'Pacific Northwest',\n",
       "               'key': '2022pnw',\n",
       "               'year': 2022},\n",
       "  'division_keys': [],\n",
       "  'end_date': datetime.date(2022, 4, 9),\n",
       "  'event_code': 'pncmp',\n",
       "  'event_type': 2,\n",
       "  'event_type_string': 'District Championship',\n",
       "  'first_event_code': 'PNCMP',\n",
       "  'first_event_id': None,\n",
       "  'gmaps_place_id': 'ChIJ4z_DL6A4nlQRr2cmvozrjLU',\n",
       "  'gmaps_url': 'https://maps.google.com/?cid=13082090007322585007',\n",
       "  'key': '2022pncmp',\n",
       "  'lat': 47.49102829999999,\n",
       "  'lng': -117.5862361,\n",
       "  'location_name': 'Eastern Washington University',\n",
       "  'name': 'Pacific Northwest FIRST District Championship',\n",
       "  'parent_event_key': None,\n",
       "  'playoff_type': 0,\n",
       "  'playoff_type_string': None,\n",
       "  'postal_code': '99004',\n",
       "  'short_name': 'Pacific Northwest FIRST',\n",
       "  'start_date': datetime.date(2022, 4, 6),\n",
       "  'state_prov': 'WA',\n",
       "  'timezone': 'America/Los_Angeles',\n",
       "  'webcasts': [{'channel': 'firstinspires28', 'file': None, 'type': 'twitch'},\n",
       "               {'channel': 'firstinspires29', 'file': None, 'type': 'twitch'}],\n",
       "  'website': 'http://www.firstwa.org',\n",
       "  'week': 5,\n",
       "  'year': 2022}]"
      ]
     },
     "execution_count": 3,
     "metadata": {},
     "output_type": "execute_result"
    }
   ],
   "source": [
    "# [m for m in matches['events'] if m.address and 'Spokane' in m.address]\n",
    "[m for m in matches['events'] if 'pnc' in m.key]"
   ]
  },
  {
   "cell_type": "markdown",
   "metadata": {},
   "source": [
    "Filter the matches to completed matches"
   ]
  },
  {
   "cell_type": "code",
   "execution_count": 4,
   "metadata": {},
   "outputs": [
    {
     "name": "stdout",
     "output_type": "stream",
     "text": [
      "10441\n"
     ]
    }
   ],
   "source": [
    "non_empty = [k for k in matches['matches'].keys() if len(matches['matches'][k])>0]\n",
    "data = [m for k in matches['matches'] for m in matches['matches'][k]]\n",
    "data = [m for m in data if m.winning_alliance!='']\n",
    "print(len(data))\n",
    "#red = [x for m in data for x in m.alliances.red.team_keys]\n",
    "#blue = [x for m in data for x in m.alliances.blue.team_keys]\n",
    "#from collections import Counter\n",
    "#Counter(red+blue)"
   ]
  },
  {
   "cell_type": "markdown",
   "metadata": {},
   "source": [
    "Most match fields are numeric but some will need special treatment. Here we enumerate string and boolean fields."
   ]
  },
  {
   "cell_type": "code",
   "execution_count": 5,
   "metadata": {},
   "outputs": [
    {
     "name": "stdout",
     "output_type": "stream",
     "text": [
      "Counter({'None': 15711, 'Mid': 7938, 'Traversal': 4282, 'High': 2400, 'Low': 992})\n",
      "Counter({'Yes': 25395, 'No': 5928})\n",
      "cargoBonusRankingPoint <class 'bool'>\n",
      "endgameRobot1 <class 'str'>\n",
      "endgameRobot2 <class 'str'>\n",
      "endgameRobot3 <class 'str'>\n",
      "hangarBonusRankingPoint <class 'bool'>\n",
      "quintetAchieved <class 'bool'>\n",
      "taxiRobot1 <class 'str'>\n",
      "taxiRobot2 <class 'str'>\n",
      "taxiRobot3 <class 'str'>\n"
     ]
    }
   ],
   "source": [
    "\n",
    "data[0].score_breakdown['blue'].keys()\n",
    "\n",
    "endgameFields = Counter()\n",
    "taxiFields = Counter()\n",
    "for d in data:\n",
    "   endgameFields[d.score_breakdown['blue']['endgameRobot1']]+=1\n",
    "   endgameFields[d.score_breakdown['blue']['endgameRobot2']]+=1\n",
    "   endgameFields[d.score_breakdown['blue']['endgameRobot3']]+=1\n",
    "   taxiFields[d.score_breakdown['blue']['taxiRobot1']]+=1\n",
    "   taxiFields[d.score_breakdown['blue']['taxiRobot2']]+=1\n",
    "   taxiFields[d.score_breakdown['blue']['taxiRobot3']]+=1\n",
    "print(endgameFields)\n",
    "print(taxiFields)\n",
    "\n",
    "for k in d.score_breakdown['blue']:\n",
    "   if type(d.score_breakdown['blue'][k]) is not int:\n",
    "      print(k, type(d.score_breakdown['blue'][k]))\n"
   ]
  },
  {
   "cell_type": "code",
   "execution_count": 6,
   "metadata": {},
   "outputs": [
    {
     "data": {
      "text/plain": [
       "Counter({'f': 305, 'qf': 1032, 'qm': 8486, 'sf': 618})"
      ]
     },
     "execution_count": 6,
     "metadata": {},
     "output_type": "execute_result"
    }
   ],
   "source": [
    "# Finals, quarterfinales, qualifiers, semifinals\n",
    "Counter([x.comp_level for x in data])"
   ]
  },
  {
   "cell_type": "code",
   "execution_count": 7,
   "metadata": {},
   "outputs": [],
   "source": [
    "# We'll only train based on qualifier matches\n",
    "\n",
    "qualifiers = [x for x in data if x.comp_level=='qm'] "
   ]
  },
  {
   "cell_type": "code",
   "execution_count": 8,
   "metadata": {},
   "outputs": [],
   "source": [
    "# ['adjustPoints', 'autoCargoLowerBlue', 'autoCargoLowerFar', 'autoCargoLowerNear', 'autoCargoLowerRed', \n",
    "# 'autoCargoPoints', 'autoCargoTotal', 'autoCargoUpperBlue', 'autoCargoUpperFar', 'autoCargoUpperNear', \n",
    "# 'autoCargoUpperRed', 'autoPoints', 'autoTaxiPoints', 'cargoBonusRankingPoint', 'endgamePoints', \n",
    "# 'endgameRobot1', 'endgameRobot2', 'endgameRobot3', \n",
    "# 'foulCount', 'foulPoints', 'hangarBonusRankingPoint', 'matchCargoTotal', 'quintetAchieved', 'rp', \n",
    "# 'taxiRobot1', 'taxiRobot2', 'taxiRobot3', 'techFoulCount', \n",
    "# 'teleopCargoLowerBlue', 'teleopCargoLowerFar', 'teleopCargoLowerNear', 'teleopCargoLowerRed', \n",
    "# 'teleopCargoPoints', 'teleopCargoTotal', 'teleopCargoUpperBlue', 'teleopCargoUpperFar', 'teleopCargoUpperNear', \n",
    "# 'teleopCargoUpperRed', 'teleopPoints', 'totalPoints']\n",
    "\n",
    "# endgame: None': 6246, 'Mid': 2854, 'Traversal': 1177, 'High': 780, 'Low': 325}\n",
    "\n",
    "teamAggregates = {}\n",
    "\n",
    "\n",
    "import re\n",
    "def matchAlliance(column, alliance):    \n",
    "    m = re.match('(.*)(Red|Blue)', column)\n",
    "    if m:\n",
    "        if m.groups()[1].lower()==alliance:\n",
    "            column = m.groups()[0]+'Same'\n",
    "        else:\n",
    "            column = m.groups()[0]+'Opp'        \n",
    "    return column\n",
    "\n",
    "def addMatch(team, m):    \n",
    "    if team not in teamAggregates:       \n",
    "        # initialize an empty record for the team.\n",
    "        teamAggregates[team]= {\n",
    "            'plusMinus':0,\n",
    "            'totalMatches':0, \n",
    "            'winCount': 0\n",
    "        }\n",
    "        for k in m.score_breakdown['blue'].keys():            \n",
    "            val = m.score_breakdown['blue'][k]\n",
    "            k = matchAlliance(k, 'blue')\n",
    "            if type(val) is int or type(val) is bool:\n",
    "                teamAggregates[team][f'{k}Total'] = 0            \n",
    "            \n",
    "        for r in [1,2,3]:\n",
    "            for v in ['Yes', 'No']:\n",
    "                teamAggregates[team][f'taxiRobot{r}{v}Total'] = 0\n",
    "            for e in ['None', 'Mid', 'Traversal', 'High', 'Low']:\n",
    "                teamAggregates[team][f'endgameRobot{r}{e}Total'] = 0 \n",
    "        \n",
    "    # TODO: we aren't accounting for alliance color when we \n",
    "    # accumulate fields like autoCargoUpperBlue/Red.  Does this matter? [need to read the rules]\n",
    "    alliance = 'blue' if team in m.alliances.blue.team_keys else 'red'\n",
    "    oppalliance = 'red' if team in m.alliances.blue.team_keys else 'blue'\n",
    "    \n",
    "    points = m.score_breakdown[alliance]\n",
    "    summary = teamAggregates[team]\n",
    "    # update all of the fields.\n",
    "    summary['totalMatches']+=1    \n",
    "    \n",
    "    # TODO: figure out if we are robot 1, 2, or 3.\n",
    "    for r in [1, 2, 3]:        \n",
    "        summary[f'taxiRobot{r}{points[f\"taxiRobot{r}\"]}Total'] += 1\n",
    "        summary[f'endgameRobot{r}{points[f\"endgameRobot{r}\"]}Total'] += 1\n",
    "\n",
    "    for k in points.keys():\n",
    "        if type(points[k]) is int:\n",
    "            target = matchAlliance(k, alliance)\n",
    "            summary[f'{target}Total'] += points[k]\n",
    "        elif type(points[k]) is bool:\n",
    "            summary[f'{k}Total'] += int(points[k])\n",
    "\n",
    "    plusminus = points['teleopPoints'] + points['autoPoints'] \\\n",
    "        - m.score_breakdown[oppalliance]['teleopPoints'] - m.score_breakdown[oppalliance]['autoPoints']\n",
    "    # summary['plusMinus'] += plusminus\n",
    "    summary['winCount'] += int(m.winning_alliance==alliance)\n",
    "\n",
    "\n",
    "for m in qualifiers:    \n",
    "    for t in m.alliances.red.team_keys:\n",
    "        addMatch(t,m)\n",
    "    for t in m.alliances.blue.team_keys:\n",
    "        addMatch(t,m)\n",
    "        \n",
    "# normalize the aggregates\n",
    "for t in teamAggregates:\n",
    "    for k in teamAggregates[t]:\n",
    "        if k=='totalMatches':\n",
    "            continue\n",
    "        teamAggregates[t][k]/=teamAggregates[t]['totalMatches']\n",
    "\n",
    "with open('teamStats_2022.pkl','wb') as f:\n",
    "    pickle.dump(teamAggregates,f)"
   ]
  },
  {
   "cell_type": "code",
   "execution_count": 9,
   "metadata": {},
   "outputs": [
    {
     "data": {
      "text/plain": [
       "{'plusMinus': 0.0,\n",
       " 'totalMatches': 24,\n",
       " 'winCount': 0.625,\n",
       " 'adjustPointsTotal': 0.0,\n",
       " 'autoCargoLowerSameTotal': 0.041666666666666664,\n",
       " 'autoCargoLowerFarTotal': 0.125,\n",
       " 'autoCargoLowerNearTotal': 0.08333333333333333,\n",
       " 'autoCargoLowerOppTotal': 0.125,\n",
       " 'autoCargoPointsTotal': 10.083333333333334,\n",
       " 'autoCargoTotalTotal': 2.7083333333333335,\n",
       " 'autoCargoUpperSameTotal': 0.5833333333333334,\n",
       " 'autoCargoUpperFarTotal': 0.4583333333333333,\n",
       " 'autoCargoUpperNearTotal': 0.5833333333333334,\n",
       " 'autoCargoUpperOppTotal': 0.7083333333333334,\n",
       " 'autoPointsTotal': 14.333333333333334,\n",
       " 'autoTaxiPointsTotal': 4.25,\n",
       " 'cargoBonusRankingPointTotal': 0.4583333333333333,\n",
       " 'endgamePointsTotal': 12.416666666666666,\n",
       " 'foulCountTotal': 0.5416666666666666,\n",
       " 'foulPointsTotal': 2.3333333333333335,\n",
       " 'hangarBonusRankingPointTotal': 0.2916666666666667,\n",
       " 'matchCargoTotalTotal': 18.041666666666668,\n",
       " 'quintetAchievedTotal': 0.125,\n",
       " 'rpTotal': 2.0,\n",
       " 'techFoulCountTotal': 0.0,\n",
       " 'teleopCargoLowerSameTotal': 0.7916666666666666,\n",
       " 'teleopCargoLowerFarTotal': 0.8333333333333334,\n",
       " 'teleopCargoLowerNearTotal': 0.7916666666666666,\n",
       " 'teleopCargoLowerOppTotal': 0.7916666666666666,\n",
       " 'teleopCargoPointsTotal': 27.458333333333332,\n",
       " 'teleopCargoTotalTotal': 15.333333333333334,\n",
       " 'teleopCargoUpperSameTotal': 3.5416666666666665,\n",
       " 'teleopCargoUpperFarTotal': 2.9583333333333335,\n",
       " 'teleopCargoUpperNearTotal': 2.5,\n",
       " 'teleopCargoUpperOppTotal': 3.125,\n",
       " 'teleopPointsTotal': 39.875,\n",
       " 'totalPointsTotal': 56.541666666666664,\n",
       " 'taxiRobot1YesTotal': 0.6666666666666666,\n",
       " 'taxiRobot1NoTotal': 0.3333333333333333,\n",
       " 'endgameRobot1NoneTotal': 0.5,\n",
       " 'endgameRobot1MidTotal': 0.25,\n",
       " 'endgameRobot1TraversalTotal': 0.08333333333333333,\n",
       " 'endgameRobot1HighTotal': 0.125,\n",
       " 'endgameRobot1LowTotal': 0.041666666666666664,\n",
       " 'taxiRobot2YesTotal': 0.75,\n",
       " 'taxiRobot2NoTotal': 0.25,\n",
       " 'endgameRobot2NoneTotal': 0.5,\n",
       " 'endgameRobot2MidTotal': 0.4166666666666667,\n",
       " 'endgameRobot2TraversalTotal': 0.08333333333333333,\n",
       " 'endgameRobot2HighTotal': 0.0,\n",
       " 'endgameRobot2LowTotal': 0.0,\n",
       " 'taxiRobot3YesTotal': 0.7083333333333334,\n",
       " 'taxiRobot3NoTotal': 0.2916666666666667,\n",
       " 'endgameRobot3NoneTotal': 0.4583333333333333,\n",
       " 'endgameRobot3MidTotal': 0.3333333333333333,\n",
       " 'endgameRobot3TraversalTotal': 0.08333333333333333,\n",
       " 'endgameRobot3HighTotal': 0.125,\n",
       " 'endgameRobot3LowTotal': 0.0}"
      ]
     },
     "execution_count": 9,
     "metadata": {},
     "output_type": "execute_result"
    }
   ],
   "source": [
    "teamAggregates['frc492']"
   ]
  },
  {
   "cell_type": "markdown",
   "metadata": {},
   "source": [
    "Now we have statistics for every team.  We can use this to generate features for every match."
   ]
  },
  {
   "cell_type": "code",
   "execution_count": 10,
   "metadata": {},
   "outputs": [
    {
     "data": {
      "text/plain": [
       "{'red_missingCount': 0,\n",
       " 'blue_missingCount': 0,\n",
       " 'red_plusMinus': 0.0,\n",
       " 'red_totalMatches': 21.666666666666668,\n",
       " 'red_winCount': 0.7251984126984127,\n",
       " 'red_adjustPointsTotal': 0.0,\n",
       " 'red_autoCargoLowerSameTotal': 0.059523809523809514,\n",
       " 'red_autoCargoLowerFarTotal': 0.1706349206349206,\n",
       " 'red_autoCargoLowerNearTotal': 0.10515873015873016,\n",
       " 'red_autoCargoLowerOppTotal': 0.0853174603174603,\n",
       " 'red_autoCargoPointsTotal': 10.18452380952381,\n",
       " 'red_autoCargoTotalTotal': 2.7251984126984126,\n",
       " 'red_autoCargoUpperSameTotal': 0.48313492063492064,\n",
       " 'red_autoCargoUpperFarTotal': 0.7668650793650794,\n",
       " 'red_autoCargoUpperNearTotal': 0.5109126984126984,\n",
       " 'red_autoCargoUpperOppTotal': 0.5436507936507937,\n",
       " 'red_autoPointsTotal': 14.262896825396824,\n",
       " 'red_autoTaxiPointsTotal': 4.078373015873016,\n",
       " 'red_cargoBonusRankingPointTotal': 0.5332341269841271,\n",
       " 'red_endgamePointsTotal': 14.854166666666666,\n",
       " 'red_foulCountTotal': 0.6646825396825397,\n",
       " 'red_foulPointsTotal': 2.4007936507936507,\n",
       " 'red_hangarBonusRankingPointTotal': 0.42013888888888884,\n",
       " 'red_matchCargoTotalTotal': 18.281250000000004,\n",
       " 'red_quintetAchievedTotal': 0.18948412698412698,\n",
       " 'red_rpTotal': 2.4037698412698414,\n",
       " 'red_techFoulCountTotal': 0.020833333333333332,\n",
       " 'red_teleopCargoLowerSameTotal': 0.3665674603174603,\n",
       " 'red_teleopCargoLowerFarTotal': 0.34970238095238093,\n",
       " 'red_teleopCargoLowerNearTotal': 0.3452380952380953,\n",
       " 'red_teleopCargoLowerOppTotal': 0.26686507936507936,\n",
       " 'red_teleopCargoPointsTotal': 30.17956349206349,\n",
       " 'red_teleopCargoTotalTotal': 15.556051587301587,\n",
       " 'red_teleopCargoUpperSameTotal': 3.8338293650793656,\n",
       " 'red_teleopCargoUpperFarTotal': 3.5367063492063493,\n",
       " 'red_teleopCargoUpperNearTotal': 3.4290674603174605,\n",
       " 'red_teleopCargoUpperOppTotal': 3.4280753968253967,\n",
       " 'red_teleopPointsTotal': 45.03373015873016,\n",
       " 'red_totalPointsTotal': 61.69742063492063,\n",
       " 'red_taxiRobot1YesTotal': 0.7827380952380952,\n",
       " 'red_taxiRobot1NoTotal': 0.21726190476190477,\n",
       " 'red_endgameRobot1NoneTotal': 0.5277777777777778,\n",
       " 'red_endgameRobot1MidTotal': 0.15376984126984125,\n",
       " 'red_endgameRobot1TraversalTotal': 0.20634920634920637,\n",
       " 'red_endgameRobot1HighTotal': 0.1121031746031746,\n",
       " 'red_endgameRobot1LowTotal': 0.0,\n",
       " 'red_taxiRobot2YesTotal': 0.6775793650793651,\n",
       " 'red_taxiRobot2NoTotal': 0.32242063492063494,\n",
       " 'red_endgameRobot2NoneTotal': 0.5669642857142857,\n",
       " 'red_endgameRobot2MidTotal': 0.1726190476190476,\n",
       " 'red_endgameRobot2TraversalTotal': 0.17460317460317462,\n",
       " 'red_endgameRobot2HighTotal': 0.08581349206349205,\n",
       " 'red_endgameRobot2LowTotal': 0.0,\n",
       " 'red_taxiRobot3YesTotal': 0.5788690476190476,\n",
       " 'red_taxiRobot3NoTotal': 0.4211309523809524,\n",
       " 'red_endgameRobot3NoneTotal': 0.5198412698412699,\n",
       " 'red_endgameRobot3MidTotal': 0.1706349206349206,\n",
       " 'red_endgameRobot3TraversalTotal': 0.24999999999999997,\n",
       " 'red_endgameRobot3HighTotal': 0.031746031746031744,\n",
       " 'red_endgameRobot3LowTotal': 0.027777777777777776,\n",
       " 'blue_plusMinus': 0.0,\n",
       " 'blue_totalMatches': 15.0,\n",
       " 'blue_winCount': 0.5198412698412699,\n",
       " 'blue_adjustPointsTotal': 0.0,\n",
       " 'blue_autoCargoLowerSameTotal': 0.05555555555555555,\n",
       " 'blue_autoCargoLowerFarTotal': 0.059523809523809514,\n",
       " 'blue_autoCargoLowerNearTotal': 0.11904761904761903,\n",
       " 'blue_autoCargoLowerOppTotal': 0.015873015873015872,\n",
       " 'blue_autoCargoPointsTotal': 9.928571428571429,\n",
       " 'blue_autoCargoTotalTotal': 2.607142857142857,\n",
       " 'blue_autoCargoUpperSameTotal': 0.6626984126984127,\n",
       " 'blue_autoCargoUpperFarTotal': 0.5396825396825397,\n",
       " 'blue_autoCargoUpperNearTotal': 0.5595238095238095,\n",
       " 'blue_autoCargoUpperOppTotal': 0.5952380952380952,\n",
       " 'blue_autoPointsTotal': 14.103174603174603,\n",
       " 'blue_autoTaxiPointsTotal': 4.174603174603175,\n",
       " 'blue_cargoBonusRankingPointTotal': 0.4285714285714286,\n",
       " 'blue_endgamePointsTotal': 14.305555555555555,\n",
       " 'blue_foulCountTotal': 0.6587301587301587,\n",
       " 'blue_foulPointsTotal': 2.7619047619047614,\n",
       " 'blue_hangarBonusRankingPointTotal': 0.3968253968253968,\n",
       " 'blue_matchCargoTotalTotal': 17.13888888888889,\n",
       " 'blue_quintetAchievedTotal': 0.19444444444444442,\n",
       " 'blue_rpTotal': 1.865079365079365,\n",
       " 'blue_techFoulCountTotal': 0.0,\n",
       " 'blue_teleopCargoLowerSameTotal': 0.1349206349206349,\n",
       " 'blue_teleopCargoLowerFarTotal': 0.13888888888888887,\n",
       " 'blue_teleopCargoLowerNearTotal': 0.1111111111111111,\n",
       " 'blue_teleopCargoLowerOppTotal': 0.19444444444444442,\n",
       " 'blue_teleopCargoPointsTotal': 28.484126984126988,\n",
       " 'blue_teleopCargoTotalTotal': 14.531746031746032,\n",
       " 'blue_teleopCargoUpperSameTotal': 3.130952380952381,\n",
       " 'blue_teleopCargoUpperFarTotal': 3.9960317460317465,\n",
       " 'blue_teleopCargoUpperNearTotal': 3.2460317460317456,\n",
       " 'blue_teleopCargoUpperOppTotal': 3.579365079365079,\n",
       " 'blue_teleopPointsTotal': 42.78968253968254,\n",
       " 'blue_totalPointsTotal': 59.654761904761905,\n",
       " 'blue_taxiRobot1YesTotal': 0.7698412698412699,\n",
       " 'blue_taxiRobot1NoTotal': 0.23015873015873015,\n",
       " 'blue_endgameRobot1NoneTotal': 0.5198412698412698,\n",
       " 'blue_endgameRobot1MidTotal': 0.07539682539682539,\n",
       " 'blue_endgameRobot1TraversalTotal': 0.24206349206349206,\n",
       " 'blue_endgameRobot1HighTotal': 0.1349206349206349,\n",
       " 'blue_endgameRobot1LowTotal': 0.027777777777777776,\n",
       " 'blue_taxiRobot2YesTotal': 0.6706349206349206,\n",
       " 'blue_taxiRobot2NoTotal': 0.32936507936507936,\n",
       " 'blue_endgameRobot2NoneTotal': 0.5912698412698413,\n",
       " 'blue_endgameRobot2MidTotal': 0.15873015873015872,\n",
       " 'blue_endgameRobot2TraversalTotal': 0.14285714285714285,\n",
       " 'blue_endgameRobot2HighTotal': 0.10714285714285714,\n",
       " 'blue_endgameRobot2LowTotal': 0.0,\n",
       " 'blue_taxiRobot3YesTotal': 0.6468253968253969,\n",
       " 'blue_taxiRobot3NoTotal': 0.3531746031746032,\n",
       " 'blue_endgameRobot3NoneTotal': 0.5873015873015873,\n",
       " 'blue_endgameRobot3MidTotal': 0.07539682539682539,\n",
       " 'blue_endgameRobot3TraversalTotal': 0.20634920634920637,\n",
       " 'blue_endgameRobot3HighTotal': 0.08730158730158728,\n",
       " 'blue_endgameRobot3LowTotal': 0.04365079365079364,\n",
       " 'event': '2022arli',\n",
       " 'comp_level': 'f',\n",
       " 'label': 1}"
      ]
     },
     "execution_count": 10,
     "metadata": {},
     "output_type": "execute_result"
    }
   ],
   "source": [
    "\n",
    "def featurizeAlliances(red, blue, label=0, comp_level='qm', event='none'):\n",
    "    match_features = { 'red_missingCount':0, 'blue_missingCount': 0 }\n",
    "    count=0    \n",
    "    allKeys = set()\n",
    "    for t in red:\n",
    "        if t not in teamAggregates:\n",
    "            match_features['red_missingCount']+=1\n",
    "            continue\n",
    "        for k in teamAggregates[t]:\n",
    "            key = 'red_'+k\n",
    "            if key not in match_features:\n",
    "                match_features[key]=0\n",
    "            match_features[key]+=teamAggregates[t][k]\n",
    "            allKeys.add(key)\n",
    "        count+=1\n",
    "    # compute the average\n",
    "    for k in allKeys:\n",
    "        match_features[k]/=count\n",
    "    count=0\n",
    "    allKeys=set()\n",
    "    for t in blue:\n",
    "        if t not in teamAggregates:\n",
    "            match_features['blue_missingCount']+=1\n",
    "            continue\n",
    "        for k in teamAggregates[t]:\n",
    "            key = 'blue_'+k\n",
    "            if key not in match_features:\n",
    "                match_features[key]=0\n",
    "            match_features[key]+=teamAggregates[t][k]\n",
    "            allKeys.add(key)\n",
    "        count+=1\n",
    "    # compute the average\n",
    "    for k in allKeys:\n",
    "        match_features[k]/=count\n",
    "    match_features['event']= event\n",
    "    match_features['comp_level']= comp_level\n",
    "    match_features['label']= label    \n",
    "    return match_features\n",
    "\n",
    "def featurizeMatch(m):\n",
    "    return featurizeAlliances(\n",
    "        m.alliances.red.team_keys, \n",
    "        m.alliances.blue.team_keys, \n",
    "        label=int(m.winning_alliance=='red'), # Positive label == red alliance won\n",
    "        event = m.event_key, comp_level=m.comp_level)\n",
    "\n",
    "\n",
    "def invertMatch(f):\n",
    "    f2={}\n",
    "    for k in f:\n",
    "        k2 = k.replace('red_','temp_').replace('blue_','red_').replace('temp_','blue_')\n",
    "        f2[k2]=f[k]\n",
    "    f2['label']=1-f['label']\n",
    "    return f2\n",
    "\n",
    "features = []\n",
    "\n",
    "for m in data:\n",
    "    f = featurizeMatch(m)\n",
    "    features.append(f)\n",
    "    #features.append(invertMatch(f))\n",
    "    \n",
    "features[0]\n"
   ]
  },
  {
   "cell_type": "code",
   "execution_count": 11,
   "metadata": {},
   "outputs": [
    {
     "data": {
      "text/plain": [
       "10441"
      ]
     },
     "execution_count": 11,
     "metadata": {},
     "output_type": "execute_result"
    }
   ],
   "source": [
    "len(features)"
   ]
  },
  {
   "cell_type": "code",
   "execution_count": 12,
   "metadata": {},
   "outputs": [
    {
     "name": "stdout",
     "output_type": "stream",
     "text": [
      "8486 training examples and 1955 test\n"
     ]
    }
   ],
   "source": [
    "from sklearn.feature_extraction import DictVectorizer\n",
    "# create train and test sets\n",
    "train = []\n",
    "trainY = []\n",
    "test = []\n",
    "testY = []\n",
    "\n",
    "for m in features:    \n",
    "    if 'event' not in m:\n",
    "        print(m)\n",
    "    event = m['event']\n",
    "    comp_level = m['comp_level']\n",
    "    del m['event']\n",
    "    del m['comp_level']\n",
    "    \n",
    "    label = m['label']\n",
    "    del m['label']\n",
    "    \n",
    "    # Train on qualifiers. Test on everything else.\n",
    "    if comp_level!='qm':\n",
    "        test.append(m)\n",
    "        testY.append(label)\n",
    "    else:\n",
    "        train.append(m)\n",
    "        trainY.append(label)\n",
    "        \n",
    "vectorizer = DictVectorizer()\n",
    "trainX = vectorizer.fit_transform(train)\n",
    "testX = vectorizer.transform(test)\n",
    "\n",
    "print('{} training examples and {} test'.format(len(train),len(test)))\n"
   ]
  },
  {
   "cell_type": "code",
   "execution_count": 13,
   "metadata": {},
   "outputs": [
    {
     "name": "stdout",
     "output_type": "stream",
     "text": [
      "accuracy: 0.7769820971867007\n"
     ]
    }
   ],
   "source": [
    "from sklearn.ensemble import RandomForestClassifier\n",
    "classifier = RandomForestClassifier(n_estimators=100, random_state=0, min_samples_split=3)  \n",
    "classifier.fit(trainX,trainY)\n",
    "forest_predictions= classifier.predict(testX)\n",
    "forest_scores = classifier.predict_proba(testX)\n",
    "import numpy as np\n",
    "from sklearn.metrics import accuracy_score\n",
    "#np.sum(np.abs(scores-Ytest))\n",
    "print('accuracy: {}'.format(accuracy_score(testY, forest_predictions)))\n",
    "#list(zip(forest_scores[:,1],testY))\n",
    "\n",
    "# Save the model\n",
    "model_fn = 'model_2022_forest.pkl'\n",
    "with open(model_fn, 'wb') as outF:\n",
    "    pickle.dump((vectorizer,classifier), outF)\n"
   ]
  },
  {
   "cell_type": "markdown",
   "metadata": {},
   "source": [
    "Let's look at the feature importances. They tell us how useful a specific feature is."
   ]
  },
  {
   "cell_type": "code",
   "execution_count": 14,
   "metadata": {},
   "outputs": [
    {
     "name": "stdout",
     "output_type": "stream",
     "text": [
      "Feature ranking:\n"
     ]
    },
    {
     "data": {
      "image/png": "[encoded data removed]",
      "text/plain": [
       "<Figure size 1440x720 with 1 Axes>"
      ]
     },
     "metadata": {
      "needs_background": "light"
     },
     "output_type": "display_data"
    }
   ],
   "source": [
    "importances = classifier.feature_importances_\n",
    "std = np.std([tree.feature_importances_ for tree in classifier.estimators_],\n",
    "             axis=0)\n",
    "indices = np.argsort(importances)[::-1]\n",
    "names = vectorizer.feature_names_\n",
    "\n",
    "# Print the feature ranking\n",
    "print(\"Feature ranking:\")\n",
    "\n",
    "#for f in range(trainX.shape[1]):\n",
    "#    print(\"%d. %s (%f)\" % (f + 1, names[indices[f]], importances[indices[f]]))\n",
    "colors = [names[indices[f]].split('_')[0] for f in range(trainX.shape[1])]\n",
    "labels = [names[indices[f]].replace('Count','').replace('Points','').replace('red','r').replace('blue','b') for f in range(trainX.shape[1])]\n",
    "# Plot the feature importances of the forest\n",
    "%matplotlib inline\n",
    "import matplotlib.pyplot as plt\n",
    "plt.rcParams[\"figure.figsize\"] = (20, 10)\n",
    "plt.figure()\n",
    "plt.title(\"Feature importances\")\n",
    "plt.bar(range(trainX.shape[1]), importances[indices],\n",
    "       color=colors, \n",
    "        #yerr=std[indices], \n",
    "        align=\"center\")\n",
    "plt.xticks(range(trainX.shape[1]), labels, rotation='vertical', fontsize='x-small')\n",
    "    \n",
    "plt.xlim([-1, trainX.shape[1]])\n",
    "plt.subplots_adjust(bottom=0.5)\n",
    "#plt.legend()\n",
    "plt.show()"
   ]
  },
  {
   "cell_type": "code",
   "execution_count": 15,
   "metadata": {},
   "outputs": [],
   "source": [
    "def percentile(dictionary, key):\n",
    "    teams = [t for t in dictionary]\n",
    "    values = [dictionary[t][key] for t in dictionary]\n",
    "    ranks = sorted(range(len(values)), key=lambda x: values[x])\n",
    "    return dict([(teams[ranks[i]], i*100/len(values)) for i in range(len(ranks))])    \n",
    "\n",
    "raw = dict([(k, percentile(teamAggregates,k)) for k in teamAggregates['frc1153']])\n",
    "#stats = dict([(k,percentile(teamAggregates,k)['frc1153']) for k in teamAggregates['frc1153']])"
   ]
  },
  {
   "cell_type": "markdown",
   "metadata": {},
   "source": [
    "The next cell enables comparisons between two teams."
   ]
  },
  {
   "cell_type": "code",
   "execution_count": 16,
   "metadata": {},
   "outputs": [
    {
     "data": {
      "image/png": "[encoded data removed]",
      "text/plain": [
       "<Figure size 1440x720 with 1 Axes>"
      ]
     },
     "metadata": {
      "needs_background": "light"
     },
     "output_type": "display_data"
    }
   ],
   "source": [
    "import matplotlib.pyplot as plt\n",
    "import numpy as np\n",
    "\n",
    "objects = [k for k in raw]\n",
    "y_pos = np.arange(len(objects))\n",
    "#performance = [[raw[k]['frc492'],raw[k]['frc2910']] for k in stats]\n",
    "#performance\n",
    "t1 = 'frc1153'\n",
    "t2 = 'frc238'\n",
    "plt.figure()\n",
    "plt.bar(y_pos, [raw[k][t1] for k in raw], alpha=0.5, width=0.25)\n",
    "plt.bar(y_pos+0.25, [raw[k][t2] for k in raw], alpha=0.5, width=0.25)\n",
    "plt.xticks(y_pos, objects, rotation=90, fontsize='x-small')\n",
    "plt.subplots_adjust(bottom=0.5)\n",
    "plt.ylabel('Percentile')\n",
    "plt.title('Stats summary')\n",
    "plt.legend([t1,t2])\n",
    "\n",
    "plt.show()\n"
   ]
  },
  {
   "cell_type": "markdown",
   "metadata": {},
   "source": [
    "So far our best score at predicting the districts is 0.78 using either RandomForests.  Next time we can explore hyperparameter tuning and also predicting which alliances would have been the best ones for us to join."
   ]
  },
  {
   "cell_type": "markdown",
   "metadata": {},
   "source": [
    "Next steps: for a given event we want to decide how to prioritize alliance choices.  Suppose we have all the data to date, as well as all the qualifier data for the event. Who should we choose as partners?"
   ]
  },
  {
   "cell_type": "code",
   "execution_count": 17,
   "metadata": {},
   "outputs": [
    {
     "name": "stderr",
     "output_type": "stream",
     "text": [
      "100%|██████████████████████████████████████████████████████████████████████████████████| 45/45 [00:30<00:00,  1.46it/s]\n"
     ]
    },
    {
     "name": "stdout",
     "output_type": "stream",
     "text": [
      "('frc492', 'frc1294', 'frc4682') 598.2683333333339\n",
      "('frc492', 'frc1294', 'frc3049') 595.4904999999999\n",
      "('frc492', 'frc1294', 'frc948') 588.100333333333\n",
      "('frc492', 'frc1294', 'frc4309') 582.9511666666664\n",
      "('frc492', 'frc1294', 'frc5683') 579.5860000000001\n",
      "('frc492', 'frc1294', 'frc7627') 565.710833333334\n",
      "('frc492', 'frc1294', 'frc4579') 553.1018333333342\n",
      "('frc492', 'frc1294', 'frc2929') 551.8641666666668\n",
      "('frc492', 'frc1294', 'frc949') 524.6141666666671\n",
      "('frc492', 'frc3049', 'frc4682') 450.3473333333337\n",
      "('frc492', 'frc4682', 'frc7627') 432.32849999999996\n",
      "('frc492', 'frc4682', 'frc5683') 418.73366666666635\n",
      "('frc492', 'frc3049', 'frc948') 408.52183333333306\n",
      "('frc492', 'frc4682', 'frc948') 405.48116666666607\n",
      "('frc492', 'frc3049', 'frc5683') 378.6356666666668\n",
      "('frc492', 'frc4579', 'frc4682') 373.5153333333327\n",
      "('frc492', 'frc2929', 'frc4682') 372.43099999999987\n",
      "('frc492', 'frc3049', 'frc4309') 363.54799999999943\n",
      "('frc492', 'frc3049', 'frc4579') 363.45649999999944\n",
      "('frc492', 'frc4682', 'frc949') 361.91650000000044\n",
      "('frc492', 'frc3049', 'frc7627') 359.9625000000003\n",
      "('frc492', 'frc3049', 'frc949') 354.2630000000002\n",
      "('frc492', 'frc4309', 'frc4682') 352.73616666666624\n",
      "('frc492', 'frc2929', 'frc3049') 351.77316666666695\n",
      "('frc492', 'frc5683', 'frc948') 349.14049999999963\n",
      "('frc492', 'frc7627', 'frc948') 344.5719999999995\n",
      "('frc492', 'frc5683', 'frc7627') 336.9523333333335\n",
      "('frc492', 'frc4579', 'frc948') 335.40933333333356\n",
      "('frc492', 'frc4579', 'frc5683') 327.1210000000003\n",
      "('frc492', 'frc4579', 'frc7627') 322.28599999999994\n",
      "('frc492', 'frc5683', 'frc949') 307.9388333333332\n",
      "('frc492', 'frc4309', 'frc948') 305.81450000000024\n",
      "('frc492', 'frc2929', 'frc7627') 305.1679999999998\n",
      "('frc492', 'frc2929', 'frc5683') 301.9408333333331\n",
      "('frc492', 'frc4309', 'frc4579') 296.4233333333336\n",
      "('frc492', 'frc4309', 'frc7627') 296.3365\n",
      "('frc492', 'frc948', 'frc949') 293.53833333333336\n",
      "('frc492', 'frc4579', 'frc949') 288.0703333333335\n",
      "('frc492', 'frc4309', 'frc5683') 283.438333333333\n",
      "('frc492', 'frc2929', 'frc948') 283.2841666666671\n",
      "('frc492', 'frc7627', 'frc949') 280.9566666666669\n",
      "('frc492', 'frc2929', 'frc4579') 274.6688333333337\n",
      "('frc492', 'frc4309', 'frc949') 274.2635\n",
      "('frc492', 'frc2929', 'frc4309') 272.1599999999998\n",
      "('frc492', 'frc2929', 'frc949') 260.4966666666665\n"
     ]
    }
   ],
   "source": [
    "# optimize alliances for frc492 at wasam on second pick:\n",
    "import random\n",
    "from tqdm import tqdm\n",
    "\n",
    "event = '2022wasam'\n",
    "teams = set([t for x in \\\n",
    "    [m.alliances.red.team_keys + m.alliances.blue.team_keys for m in matches['matches'][event]] \\\n",
    "        for t in x])\n",
    "\n",
    "model_fn = 'model_2022_forest.pkl'\n",
    "with open(model_fn, 'rb') as inF:\n",
    "    vectorizer, model = pickle.load(inF)\n",
    "\n",
    "# wasno\n",
    "#taken_wasno = [\n",
    "#    'frc2910', 'frc4089', 'frc7461', 'frc2930', \n",
    "#    'frc2522', 'frc4911', 'frc4512', 'frc492',\n",
    "#    'frc7627', 'frc2903', 'frc4682', 'frc2412',\n",
    "#    'frc1778', 'frc4173', 'frc2980', 'frc4131',\n",
    "#    'frc3663', 'frc1899', 'frc5827', 'frc5588'\n",
    "#]\n",
    "\n",
    "taken_wasam_round1 = [\n",
    "    4911, 5827, 488, 3218, 492\n",
    "]\n",
    "\n",
    "taken_wasam = [\n",
    "    4911, 5827, 488, 3218, 492, 1899, 4180, 2928, 4915, 5588, 2412, 4173, 4205, 1983, 2980, 1318, 4469, 3786, 4512, 1778, 3681\n",
    "]\n",
    "\n",
    "taken = list(map(lambda x: f'frc{x}', taken_wasam))\n",
    "\n",
    "# set to just ['frc492'] if you're ranking pairs\n",
    "target = ['frc492']\n",
    "# target = ['frc492', 'frc1899']\n",
    "\n",
    "# If you are ranking pairs\n",
    "if len(target)==1:\n",
    "    partners = [[x,y] for x in teams if x!=target for y in teams if y!=target if x<y and x not in taken and y not in taken]\n",
    "else:\n",
    "    partners = [[x] for x in teams if x not in taken]\n",
    "results = {}\n",
    "features = []\n",
    "alliances = []\n",
    "for p in tqdm(partners): \n",
    "    red = target + p  \n",
    "    candidates = [x for x in teams if x not in red]\n",
    "    trials = 1000\n",
    "    \n",
    "    for m in range(trials):\n",
    "        # Here we're sampling any possible alliance, except the members of red.    \n",
    "        blue = random.sample(candidates, 3)\n",
    "        f = featurizeAlliances(red, blue)\n",
    "        features.append(f)\n",
    "        alliances.append([red,blue])\n",
    "\n",
    "# run all the simulated matches through the model\n",
    "scores = model.predict_proba(vectorizer.transform(features))\n",
    "results = {}\n",
    "for (p,_), score in zip(alliances, scores): \n",
    "    p = tuple(p)\n",
    "    if p not in results:\n",
    "        results[p] = 0\n",
    "    results[p] += score[1]    \n",
    "\n",
    "\n",
    "for r in list(sorted(results, key=lambda x: results[x], reverse=True))[:100]:\n",
    "    print(r, results[r])"
   ]
  },
  {
   "cell_type": "code",
   "execution_count": 18,
   "metadata": {},
   "outputs": [
    {
     "name": "stdout",
     "output_type": "stream",
     "text": [
      "[(1, 'frc4911'), (2, 'frc5827'), (3, 'frc488'), (4, 'frc492'), (5, 'frc1899'), (6, 'frc3218'), (7, 'frc4180'), (8, 'frc4512'), (9, 'frc1778'), (10, 'frc1318'), (11, 'frc4205'), (12, 'frc4469'), (13, 'frc2928'), (14, 'frc5588'), (15, 'frc2980'), (16, 'frc3786'), (17, 'frc1294'), (18, 'frc1983'), (19, 'frc3681'), (20, 'frc4915'), (21, 'frc2412'), (22, 'frc4682'), (23, 'frc4173'), (24, 'frc7627'), (25, 'frc3049'), (26, 'frc4579'), (27, 'frc5683'), (28, 'frc949'), (29, 'frc4309'), (30, 'frc2929'), (31, 'frc948')]\n",
      "['frc4911', 'frc5827', 'frc488', 'frc492']\n",
      "['frc4911', 'frc5827', 'frc488', 'frc492', 'frc1899', 'frc3218', 'frc4180']\n"
     ]
    }
   ],
   "source": [
    "# Districts\n",
    "import random\n",
    "from tqdm import tqdm\n",
    "\n",
    "# Districts event key is '2022pncmp': update this on Friday night\n",
    "event = '2022wasam'\n",
    "\n",
    "# Fetch the event rankings so far.\n",
    "from fetchMatches import fetch_event_rankings\n",
    "rankings = fetch_event_rankings(event)\n",
    "\n",
    "print([(r.rank, r.team_key) for r in rankings.rankings])\n",
    "teams = [r.team_key for r in rankings.rankings]\n",
    "\n",
    "rank_492 = [r.rank for r in rankings.rankings if r.team_key=='frc492'][0]\n",
    "prior_taken = teams[:rank_492]\n",
    "print(prior_taken)\n",
    "teams_ahead = rank_492-1\n",
    "all_taken = teams[:rank_492+teams_ahead]\n",
    "print(all_taken)\n"
   ]
  },
  {
   "cell_type": "code",
   "execution_count": 19,
   "metadata": {},
   "outputs": [
    {
     "name": "stdout",
     "output_type": "stream",
     "text": [
      "{'frc1294', 'frc3218', 'frc4915', 'frc4309', 'frc3049', 'frc492', 'frc3681', 'frc2928', 'frc949', 'frc2980', 'frc5588', 'frc488', 'frc2929', 'frc2412', 'frc4469', 'frc1318', 'frc1983', 'frc5827', 'frc5683', 'frc1778', 'frc948', 'frc4205', 'frc4512', 'frc4180', 'frc4579', 'frc1899', 'frc3786', 'frc4911', 'frc7627', 'frc4682', 'frc4173'}\n"
     ]
    },
    {
     "name": "stderr",
     "output_type": "stream",
     "text": [
      "100%|████████████████████████████████████████████████████████████████████████████████| 435/435 [01:04<00:00,  6.79it/s]\n"
     ]
    },
    {
     "name": "stdout",
     "output_type": "stream",
     "text": [
      "('frc492', 'frc3218', 'frc4911') 95.42250000000004\n",
      "('frc492', 'frc1983', 'frc4911') 94.71158333333331\n",
      "('frc492', 'frc488', 'frc4911') 94.62233333333344\n",
      "('frc492', 'frc4911', 'frc5827') 94.19999999999996\n",
      "('frc492', 'frc3218', 'frc488') 93.77449999999995\n",
      "('frc492', 'frc1318', 'frc4911') 93.00666666666665\n",
      "('frc492', 'frc3218', 'frc5827') 92.69033333333333\n",
      "('frc492', 'frc1983', 'frc488') 92.3024166666666\n",
      "('frc492', 'frc1983', 'frc3218') 92.12724999999996\n",
      "('frc492', 'frc1899', 'frc4911') 91.9620833333333\n",
      "('frc492', 'frc3218', 'frc4512') 91.28041666666671\n",
      "('frc492', 'frc3786', 'frc4911') 91.2104166666667\n",
      "('frc492', 'frc1318', 'frc488') 91.13483333333326\n",
      "('frc492', 'frc4512', 'frc4911') 91.00500000000002\n",
      "('frc492', 'frc1983', 'frc5827') 90.92041666666665\n",
      "('frc492', 'frc488', 'frc5827') 90.42625000000004\n",
      "('frc492', 'frc1294', 'frc4911') 90.33999999999993\n",
      "('frc492', 'frc4512', 'frc488') 90.03591666666665\n",
      "('frc492', 'frc3786', 'frc5827') 89.41383333333334\n",
      "('frc492', 'frc4469', 'frc4911') 89.40025\n",
      "('frc492', 'frc1899', 'frc3218') 89.28441666666667\n",
      "('frc492', 'frc1778', 'frc4911') 89.26500000000004\n",
      "('frc492', 'frc1318', 'frc3218') 89.18958333333335\n",
      "('frc492', 'frc3218', 'frc3786') 88.91225000000003\n",
      "('frc492', 'frc1294', 'frc488') 88.77799999999998\n",
      "('frc492', 'frc3786', 'frc488') 88.74999999999999\n",
      "('frc492', 'frc1899', 'frc488') 88.73974999999994\n",
      "('frc492', 'frc4180', 'frc4911') 88.6504166666667\n",
      "('frc492', 'frc2980', 'frc4911') 88.20508333333332\n",
      "('frc492', 'frc2412', 'frc4911') 88.14416666666672\n",
      "('frc492', 'frc4911', 'frc4915') 88.04833333333332\n",
      "('frc492', 'frc4512', 'frc5827') 87.80099999999999\n",
      "('frc492', 'frc1294', 'frc5827') 87.7929166666666\n",
      "('frc492', 'frc3218', 'frc4915') 87.75125000000001\n",
      "('frc492', 'frc1318', 'frc5827') 87.46258333333333\n",
      "('frc492', 'frc488', 'frc4915') 87.31391666666667\n",
      "('frc492', 'frc1318', 'frc1983') 87.27791666666671\n",
      "('frc492', 'frc1983', 'frc4512') 87.26374999999999\n",
      "('frc492', 'frc1899', 'frc1983') 86.90791666666674\n",
      "('frc492', 'frc1983', 'frc3786') 86.80999999999999\n",
      "('frc492', 'frc4205', 'frc4911') 86.76674999999999\n",
      "('frc492', 'frc3218', 'frc4469') 86.56691666666661\n",
      "('frc492', 'frc1294', 'frc1983') 86.43458333333336\n",
      "('frc492', 'frc3681', 'frc4911') 86.40883333333329\n",
      "('frc492', 'frc1899', 'frc5827') 86.02366666666663\n",
      "('frc492', 'frc1778', 'frc488') 85.81216666666661\n",
      "('frc492', 'frc4911', 'frc948') 85.75083333333329\n",
      "('frc492', 'frc4911', 'frc7627') 85.62624999999997\n",
      "('frc492', 'frc4911', 'frc5588') 85.62083333333344\n",
      "('frc492', 'frc1318', 'frc4512') 85.54383333333341\n",
      "('frc492', 'frc1983', 'frc4915') 85.47250000000003\n",
      "('frc492', 'frc2980', 'frc3218') 85.38725000000001\n",
      "('frc492', 'frc1778', 'frc5827') 85.37041666666669\n",
      "('frc492', 'frc4911', 'frc949') 85.34416666666658\n",
      "('frc492', 'frc1778', 'frc1983') 85.25083333333333\n",
      "('frc492', 'frc4469', 'frc488') 85.17391666666668\n",
      "('frc492', 'frc4180', 'frc488') 85.03783333333331\n",
      "('frc492', 'frc3049', 'frc4911') 85.01208333333334\n",
      "('frc492', 'frc2928', 'frc4911') 85.0095833333333\n",
      "('frc492', 'frc4309', 'frc4911') 84.91541666666667\n",
      "('frc492', 'frc3218', 'frc4180') 84.59891666666672\n",
      "('frc492', 'frc4682', 'frc4911') 84.46074999999999\n",
      "('frc492', 'frc1294', 'frc3218') 84.45858333333337\n",
      "('frc492', 'frc4173', 'frc4911') 83.97383333333329\n",
      "('frc492', 'frc1899', 'frc3786') 83.64983333333328\n",
      "('frc492', 'frc1778', 'frc3218') 83.60950000000004\n",
      "('frc492', 'frc4915', 'frc5827') 83.4967261904762\n",
      "('frc492', 'frc1318', 'frc1899') 83.38208333333321\n",
      "('frc492', 'frc3786', 'frc4512') 83.2750833333333\n",
      "('frc492', 'frc1318', 'frc3786') 83.15333333333336\n",
      "('frc492', 'frc4579', 'frc4911') 82.81208333333332\n",
      "('frc492', 'frc1899', 'frc4512') 82.68041666666667\n",
      "('frc492', 'frc4911', 'frc5683') 82.5096666666667\n",
      "('frc492', 'frc1294', 'frc1899') 82.38274999999997\n",
      "('frc492', 'frc2980', 'frc5827') 82.31678571428574\n",
      "('frc492', 'frc1318', 'frc4915') 82.11833333333335\n",
      "('frc492', 'frc4180', 'frc5827') 82.01124999999998\n",
      "('frc492', 'frc1778', 'frc4512') 81.91450000000005\n",
      "('frc492', 'frc3218', 'frc948') 81.80299999999995\n",
      "('frc492', 'frc1983', 'frc4469') 81.64783333333334\n",
      "('frc492', 'frc4512', 'frc4915') 81.33075000000004\n",
      "('frc492', 'frc1294', 'frc1318') 81.30325000000003\n",
      "('frc492', 'frc2980', 'frc488') 81.16749999999995\n",
      "('frc492', 'frc1318', 'frc1778') 81.00241666666669\n",
      "('frc492', 'frc2412', 'frc3218') 80.89908333333331\n",
      "('frc492', 'frc3786', 'frc4915') 80.88499999999995\n",
      "('frc492', 'frc1294', 'frc4512') 80.83683333333336\n",
      "('frc492', 'frc1983', 'frc2980') 80.70374999999997\n",
      "('frc492', 'frc3049', 'frc488') 80.68599999999992\n",
      "('frc492', 'frc1899', 'frc4915') 80.52749999999999\n",
      "('frc492', 'frc4180', 'frc4512') 80.52049999999997\n",
      "('frc492', 'frc2929', 'frc4911') 80.26208333333332\n",
      "('frc492', 'frc4469', 'frc4512') 80.1708571428572\n",
      "('frc492', 'frc1899', 'frc4469') 80.09750000000001\n",
      "('frc492', 'frc4469', 'frc5827') 79.96483333333333\n",
      "('frc492', 'frc1983', 'frc4180') 79.95541666666665\n",
      "('frc492', 'frc1318', 'frc4180') 79.80366666666657\n",
      "('frc492', 'frc1294', 'frc3786') 79.79141666666665\n",
      "('frc492', 'frc1778', 'frc3786') 79.6895\n",
      "('frc492', 'frc4469', 'frc4915') 79.59546428571426\n"
     ]
    }
   ],
   "source": [
    "# This cell continues with the event key set above.\n",
    "\n",
    "teams = set([t for x in \\\n",
    "    [m.alliances.red.team_keys + m.alliances.blue.team_keys for m in matches['matches'][event]] \\\n",
    "        for t in x])\n",
    "print(teams)\n",
    "model_fn = 'model_2022_forest.pkl'\n",
    "with open(model_fn, 'rb') as inF:\n",
    "    vectorizer, model = pickle.load(inF)\n",
    "\n",
    "# Set to include only 492 when we just want to rank all the potential alliances.\n",
    "taken = [\n",
    "    492\n",
    "]\n",
    "\n",
    "\n",
    "taken = list(map(lambda x: f'frc{x}', taken))\n",
    "\n",
    "# set to just ['frc492'] if you're ranking pairs, ['frc492', 'first choice partner'] if you want to rank second choices.\n",
    "target = ['frc492']\n",
    "# target = ['frc492', 'frc1899']\n",
    "\n",
    "# If you are ranking pairs\n",
    "if len(target)==1:\n",
    "    partners = [[x,y] for x in teams if x!=target for y in teams if y!=target if x<y and x not in taken and y not in taken]\n",
    "else:\n",
    "    partners = [[x] for x in teams if x not in taken]\n",
    "results = {}\n",
    "features = []\n",
    "alliances = []\n",
    "trials = 200\n",
    "for p in tqdm(partners): \n",
    "    red = target + p  \n",
    "    candidates = [x for x in teams if x not in red]\n",
    "    \n",
    "    for m in range(trials):\n",
    "        # Here we're sampling any possible alliance, except the members of red.    \n",
    "        blue = random.sample(candidates, 3)\n",
    "        f = featurizeAlliances(red, blue)\n",
    "        features.append(f)\n",
    "        alliances.append([red,blue])\n",
    "\n",
    "# run all the simulated matches through the model\n",
    "scores = model.predict_proba(vectorizer.transform(features))\n",
    "results = {}\n",
    "for (p,_), score in zip(alliances, scores): \n",
    "    p = tuple(p)\n",
    "    if p not in results:\n",
    "        results[p] = 0\n",
    "    results[p] += score[1]    \n",
    "\n",
    "for p in results:\n",
    "    results[p] = results[p] * 100 / trials\n",
    "\n",
    "for r in list(sorted(results, key=lambda x: results[x], reverse=True))[:100]:\n",
    "    print(r, results[r])"
   ]
  },
  {
   "cell_type": "code",
   "execution_count": 26,
   "metadata": {},
   "outputs": [
    {
     "ename": "TypeError",
     "evalue": "unhashable type: 'list'",
     "output_type": "error",
     "traceback": [
      "\u001b[1;31m---------------------------------------------------------------------------\u001b[0m",
      "\u001b[1;31mTypeError\u001b[0m                                 Traceback (most recent call last)",
      "\u001b[1;32m<ipython-input-26-409a1503478b>\u001b[0m in \u001b[0;36m<module>\u001b[1;34m\u001b[0m\n\u001b[1;32m----> 1\u001b[1;33m \u001b[1;33m[\u001b[0m\u001b[1;33m(\u001b[0m\u001b[0mp\u001b[0m\u001b[1;33m,\u001b[0m\u001b[0mteamAggregates\u001b[0m\u001b[1;33m[\u001b[0m\u001b[0mp\u001b[0m\u001b[1;33m]\u001b[0m\u001b[1;33m[\u001b[0m\u001b[1;34m'winCount'\u001b[0m\u001b[1;33m]\u001b[0m\u001b[1;33m)\u001b[0m \u001b[1;32mfor\u001b[0m \u001b[0mp\u001b[0m \u001b[1;32min\u001b[0m \u001b[0mpartners\u001b[0m\u001b[1;33m]\u001b[0m\u001b[1;33m\u001b[0m\u001b[1;33m\u001b[0m\u001b[0m\n\u001b[0m",
      "\u001b[1;32m<ipython-input-26-409a1503478b>\u001b[0m in \u001b[0;36m<listcomp>\u001b[1;34m(.0)\u001b[0m\n\u001b[1;32m----> 1\u001b[1;33m \u001b[1;33m[\u001b[0m\u001b[1;33m(\u001b[0m\u001b[0mp\u001b[0m\u001b[1;33m,\u001b[0m\u001b[0mteamAggregates\u001b[0m\u001b[1;33m[\u001b[0m\u001b[0mp\u001b[0m\u001b[1;33m]\u001b[0m\u001b[1;33m[\u001b[0m\u001b[1;34m'winCount'\u001b[0m\u001b[1;33m]\u001b[0m\u001b[1;33m)\u001b[0m \u001b[1;32mfor\u001b[0m \u001b[0mp\u001b[0m \u001b[1;32min\u001b[0m \u001b[0mpartners\u001b[0m\u001b[1;33m]\u001b[0m\u001b[1;33m\u001b[0m\u001b[1;33m\u001b[0m\u001b[0m\n\u001b[0m",
      "\u001b[1;31mTypeError\u001b[0m: unhashable type: 'list'"
     ]
    }
   ],
   "source": [
    "# only works when partners are single teams, not pairs\n",
    "[(p,teamAggregates[p]['winCount']) for p in partners]"
   ]
  },
  {
   "cell_type": "code",
   "execution_count": 56,
   "metadata": {},
   "outputs": [
    {
     "data": {
      "text/plain": [
       "{'plusMinus': 0.0,\n",
       " 'totalMatches': 23,\n",
       " 'winCount': 0.6956521739130435,\n",
       " 'adjustPointsTotal': 0.0,\n",
       " 'autoCargoLowerSameTotal': 0.17391304347826086,\n",
       " 'autoCargoLowerFarTotal': 0.13043478260869565,\n",
       " 'autoCargoLowerNearTotal': 0.21739130434782608,\n",
       " 'autoCargoLowerOppTotal': 0.391304347826087,\n",
       " 'autoCargoPointsTotal': 10.869565217391305,\n",
       " 'autoCargoTotalTotal': 3.1739130434782608,\n",
       " 'autoCargoUpperSameTotal': 0.8260869565217391,\n",
       " 'autoCargoUpperFarTotal': 0.43478260869565216,\n",
       " 'autoCargoUpperNearTotal': 0.5217391304347826,\n",
       " 'autoCargoUpperOppTotal': 0.4782608695652174,\n",
       " 'autoPointsTotal': 15.73913043478261,\n",
       " 'autoTaxiPointsTotal': 4.869565217391305,\n",
       " 'cargoBonusRankingPointTotal': 0.391304347826087,\n",
       " 'endgamePointsTotal': 20.82608695652174,\n",
       " 'foulCountTotal': 0.43478260869565216,\n",
       " 'foulPointsTotal': 1.565217391304348,\n",
       " 'hangarBonusRankingPointTotal': 0.6086956521739131,\n",
       " 'matchCargoTotalTotal': 17.130434782608695,\n",
       " 'quintetAchievedTotal': 0.13043478260869565,\n",
       " 'rpTotal': 2.391304347826087,\n",
       " 'techFoulCountTotal': 0.0,\n",
       " 'teleopCargoLowerSameTotal': 1.0,\n",
       " 'teleopCargoLowerFarTotal': 0.9130434782608695,\n",
       " 'teleopCargoLowerNearTotal': 1.1304347826086956,\n",
       " 'teleopCargoLowerOppTotal': 1.173913043478261,\n",
       " 'teleopCargoPointsTotal': 23.695652173913043,\n",
       " 'teleopCargoTotalTotal': 13.956521739130435,\n",
       " 'teleopCargoUpperSameTotal': 2.260869565217391,\n",
       " 'teleopCargoUpperFarTotal': 2.5652173913043477,\n",
       " 'teleopCargoUpperNearTotal': 2.4782608695652173,\n",
       " 'teleopCargoUpperOppTotal': 2.4347826086956523,\n",
       " 'teleopPointsTotal': 44.52173913043478,\n",
       " 'totalPointsTotal': 61.82608695652174,\n",
       " 'taxiRobot1YesTotal': 0.9565217391304348,\n",
       " 'taxiRobot1NoTotal': 0.043478260869565216,\n",
       " 'endgameRobot1NoneTotal': 0.43478260869565216,\n",
       " 'endgameRobot1MidTotal': 0.21739130434782608,\n",
       " 'endgameRobot1TraversalTotal': 0.34782608695652173,\n",
       " 'endgameRobot1HighTotal': 0.0,\n",
       " 'endgameRobot1LowTotal': 0.0,\n",
       " 'taxiRobot2YesTotal': 0.8260869565217391,\n",
       " 'taxiRobot2NoTotal': 0.17391304347826086,\n",
       " 'endgameRobot2NoneTotal': 0.30434782608695654,\n",
       " 'endgameRobot2MidTotal': 0.21739130434782608,\n",
       " 'endgameRobot2TraversalTotal': 0.43478260869565216,\n",
       " 'endgameRobot2HighTotal': 0.0,\n",
       " 'endgameRobot2LowTotal': 0.043478260869565216,\n",
       " 'taxiRobot3YesTotal': 0.6521739130434783,\n",
       " 'taxiRobot3NoTotal': 0.34782608695652173,\n",
       " 'endgameRobot3NoneTotal': 0.391304347826087,\n",
       " 'endgameRobot3MidTotal': 0.2608695652173913,\n",
       " 'endgameRobot3TraversalTotal': 0.30434782608695654,\n",
       " 'endgameRobot3HighTotal': 0.0,\n",
       " 'endgameRobot3LowTotal': 0.043478260869565216}"
      ]
     },
     "execution_count": 56,
     "metadata": {},
     "output_type": "execute_result"
    }
   ],
   "source": [
    "teamAggregates['frc3218']"
   ]
  }
 ],
 "metadata": {
  "kernelspec": {
   "display_name": "Python 3",
   "language": "python",
   "name": "python3"
  },
  "language_info": {
   "codemirror_mode": {
    "name": "ipython",
    "version": 3
   },
   "file_extension": ".py",
   "mimetype": "text/x-python",
   "name": "python",
   "nbconvert_exporter": "python",
   "pygments_lexer": "ipython3",
   "version": "3.8.8"
  }
 },
 "nbformat": 4,
 "nbformat_minor": 2
}
